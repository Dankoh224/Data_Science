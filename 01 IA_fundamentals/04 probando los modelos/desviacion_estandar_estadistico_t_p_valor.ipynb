{
 "cells": [
  {
   "cell_type": "markdown",
   "id": "0c23335d-e958-4dfd-a0dd-43f1ae700f15",
   "metadata": {},
   "source": [
    "# REGRESIÓN LINEAL MÚLTIPLE"
   ]
  },
  {
   "cell_type": "markdown",
   "id": "2f76c7aa-5aaa-4d8b-8a47-d32f363819b8",
   "metadata": {},
   "source": [
    "## Conceptos\n",
    "- Root mean squared error (RMSE): la raíz cuadrada del error cuadrático promedio de la regresión (esta es la métrica más utilizada para comparar modelos de regresión).\n",
    "- Residual standard error: Igual que la raíz del error cuadrático medio, pero ajustado por grados de libertad.\n",
    "- R-squared (COEFICIENTE DE DETERMINACIÓN): La proporción de varianza explicada por el modelo, de 0 a 1.\n",
    "- T-statistic: El coeficiente de un predictor, dividido por el error estándar del coeficiente, lo que proporciona una métrica para comparar la importancia de las variables en el modelo.\n",
    "- Weighted regression: Regresión con los registros teniendo diferentes pesos."
   ]
  },
  {
   "cell_type": "code",
   "execution_count": 26,
   "id": "2599e5e3-7388-4978-9e4c-aa68f2daff48",
   "metadata": {},
   "outputs": [],
   "source": [
    "import pandas as pd\n",
    "from sklearn.linear_model import LinearRegression\n",
    "import numpy as np\n",
    "from sklearn.metrics import mean_squared_error\n",
    "import statsmodels.api as sm"
   ]
  },
  {
   "cell_type": "code",
   "execution_count": 2,
   "id": "586af332-34fc-4d03-9df3-d2de137cefda",
   "metadata": {},
   "outputs": [
    {
     "data": {
      "text/html": [
       "<div>\n",
       "<style scoped>\n",
       "    .dataframe tbody tr th:only-of-type {\n",
       "        vertical-align: middle;\n",
       "    }\n",
       "\n",
       "    .dataframe tbody tr th {\n",
       "        vertical-align: top;\n",
       "    }\n",
       "\n",
       "    .dataframe thead th {\n",
       "        text-align: right;\n",
       "    }\n",
       "</style>\n",
       "<table border=\"1\" class=\"dataframe\">\n",
       "  <thead>\n",
       "    <tr style=\"text-align: right;\">\n",
       "      <th></th>\n",
       "      <th>age</th>\n",
       "      <th>sex</th>\n",
       "      <th>bmi</th>\n",
       "      <th>children</th>\n",
       "      <th>smoker</th>\n",
       "      <th>region</th>\n",
       "      <th>charges</th>\n",
       "    </tr>\n",
       "  </thead>\n",
       "  <tbody>\n",
       "    <tr>\n",
       "      <th>0</th>\n",
       "      <td>19</td>\n",
       "      <td>female</td>\n",
       "      <td>27.900</td>\n",
       "      <td>0</td>\n",
       "      <td>yes</td>\n",
       "      <td>southwest</td>\n",
       "      <td>16884.92400</td>\n",
       "    </tr>\n",
       "    <tr>\n",
       "      <th>1</th>\n",
       "      <td>18</td>\n",
       "      <td>male</td>\n",
       "      <td>33.770</td>\n",
       "      <td>1</td>\n",
       "      <td>no</td>\n",
       "      <td>southeast</td>\n",
       "      <td>1725.55230</td>\n",
       "    </tr>\n",
       "    <tr>\n",
       "      <th>2</th>\n",
       "      <td>28</td>\n",
       "      <td>male</td>\n",
       "      <td>33.000</td>\n",
       "      <td>3</td>\n",
       "      <td>no</td>\n",
       "      <td>southeast</td>\n",
       "      <td>4449.46200</td>\n",
       "    </tr>\n",
       "    <tr>\n",
       "      <th>3</th>\n",
       "      <td>33</td>\n",
       "      <td>male</td>\n",
       "      <td>22.705</td>\n",
       "      <td>0</td>\n",
       "      <td>no</td>\n",
       "      <td>northwest</td>\n",
       "      <td>21984.47061</td>\n",
       "    </tr>\n",
       "    <tr>\n",
       "      <th>4</th>\n",
       "      <td>32</td>\n",
       "      <td>male</td>\n",
       "      <td>28.880</td>\n",
       "      <td>0</td>\n",
       "      <td>no</td>\n",
       "      <td>northwest</td>\n",
       "      <td>3866.85520</td>\n",
       "    </tr>\n",
       "    <tr>\n",
       "      <th>...</th>\n",
       "      <td>...</td>\n",
       "      <td>...</td>\n",
       "      <td>...</td>\n",
       "      <td>...</td>\n",
       "      <td>...</td>\n",
       "      <td>...</td>\n",
       "      <td>...</td>\n",
       "    </tr>\n",
       "    <tr>\n",
       "      <th>1333</th>\n",
       "      <td>50</td>\n",
       "      <td>male</td>\n",
       "      <td>30.970</td>\n",
       "      <td>3</td>\n",
       "      <td>no</td>\n",
       "      <td>northwest</td>\n",
       "      <td>10600.54830</td>\n",
       "    </tr>\n",
       "    <tr>\n",
       "      <th>1334</th>\n",
       "      <td>18</td>\n",
       "      <td>female</td>\n",
       "      <td>31.920</td>\n",
       "      <td>0</td>\n",
       "      <td>no</td>\n",
       "      <td>northeast</td>\n",
       "      <td>2205.98080</td>\n",
       "    </tr>\n",
       "    <tr>\n",
       "      <th>1335</th>\n",
       "      <td>18</td>\n",
       "      <td>female</td>\n",
       "      <td>36.850</td>\n",
       "      <td>0</td>\n",
       "      <td>no</td>\n",
       "      <td>southeast</td>\n",
       "      <td>1629.83350</td>\n",
       "    </tr>\n",
       "    <tr>\n",
       "      <th>1336</th>\n",
       "      <td>21</td>\n",
       "      <td>female</td>\n",
       "      <td>25.800</td>\n",
       "      <td>0</td>\n",
       "      <td>no</td>\n",
       "      <td>southwest</td>\n",
       "      <td>2007.94500</td>\n",
       "    </tr>\n",
       "    <tr>\n",
       "      <th>1337</th>\n",
       "      <td>61</td>\n",
       "      <td>female</td>\n",
       "      <td>29.070</td>\n",
       "      <td>0</td>\n",
       "      <td>yes</td>\n",
       "      <td>northwest</td>\n",
       "      <td>29141.36030</td>\n",
       "    </tr>\n",
       "  </tbody>\n",
       "</table>\n",
       "<p>1338 rows × 7 columns</p>\n",
       "</div>"
      ],
      "text/plain": [
       "      age     sex     bmi  children smoker     region      charges\n",
       "0      19  female  27.900         0    yes  southwest  16884.92400\n",
       "1      18    male  33.770         1     no  southeast   1725.55230\n",
       "2      28    male  33.000         3     no  southeast   4449.46200\n",
       "3      33    male  22.705         0     no  northwest  21984.47061\n",
       "4      32    male  28.880         0     no  northwest   3866.85520\n",
       "...   ...     ...     ...       ...    ...        ...          ...\n",
       "1333   50    male  30.970         3     no  northwest  10600.54830\n",
       "1334   18  female  31.920         0     no  northeast   2205.98080\n",
       "1335   18  female  36.850         0     no  southeast   1629.83350\n",
       "1336   21  female  25.800         0     no  southwest   2007.94500\n",
       "1337   61  female  29.070         0    yes  northwest  29141.36030\n",
       "\n",
       "[1338 rows x 7 columns]"
      ]
     },
     "execution_count": 2,
     "metadata": {},
     "output_type": "execute_result"
    }
   ],
   "source": [
    "data = pd.read_csv(\"insurance.csv\")\n",
    "data"
   ]
  },
  {
   "cell_type": "code",
   "execution_count": 3,
   "id": "78ef50e3-20a7-4668-b600-74d800e7430b",
   "metadata": {},
   "outputs": [
    {
     "data": {
      "text/plain": [
       "LinearRegression()"
      ]
     },
     "execution_count": 3,
     "metadata": {},
     "output_type": "execute_result"
    }
   ],
   "source": [
    "# predictors = ['age', 'sex','smoker','children','bmi', 'region']\n",
    "predictors = ['age','children','bmi']\n",
    "outcome = 'charges'\n",
    "insurance_lm = LinearRegression()\n",
    "insurance_lm.fit(data[predictors],data[outcome])"
   ]
  },
  {
   "cell_type": "code",
   "execution_count": 4,
   "id": "17503348-8d01-44f4-89ae-94dafa13621a",
   "metadata": {},
   "outputs": [
    {
     "data": {
      "text/plain": [
       "-6916.243347787036"
      ]
     },
     "execution_count": 4,
     "metadata": {},
     "output_type": "execute_result"
    }
   ],
   "source": [
    "# Intercepto\n",
    "intercepto = insurance_lm.intercept_\n",
    "intercepto"
   ]
  },
  {
   "cell_type": "code",
   "execution_count": 5,
   "id": "7f8788a2-9d3c-46a0-81ec-c44045ba5a26",
   "metadata": {},
   "outputs": [
    {
     "name": "stdout",
     "output_type": "stream",
     "text": [
      "age:239.99447429364636\n",
      "children:542.8646522470178\n",
      "bmi:332.0833645034481\n"
     ]
    }
   ],
   "source": [
    "for name, coef in zip(predictors, insurance_lm.coef_):\n",
    "    print(f'{name}:{coef}')"
   ]
  },
  {
   "cell_type": "code",
   "execution_count": 6,
   "id": "424e4ad8-6c0b-4c1e-8573-7d6012242fe5",
   "metadata": {},
   "outputs": [
    {
     "data": {
      "text/plain": [
       "array([6315.49973659])"
      ]
     },
     "execution_count": 6,
     "metadata": {},
     "output_type": "execute_result"
    }
   ],
   "source": [
    "insurance_lm.predict(pd.DataFrame({\n",
    "    'age': [24],\n",
    "    'children': [0],\n",
    "    'bmi': [22.5]\n",
    "}))"
   ]
  },
  {
   "cell_type": "code",
   "execution_count": 7,
   "id": "f4aec976-e901-408b-9ae3-49ce1744a87d",
   "metadata": {},
   "outputs": [
    {
     "data": {
      "text/plain": [
       "array([6315.49973659, 6445.2692225 , 7385.70262214])"
      ]
     },
     "execution_count": 7,
     "metadata": {},
     "output_type": "execute_result"
    }
   ],
   "source": [
    "insurance_lm.predict(pd.DataFrame({\n",
    "    'age': [24,28,25],\n",
    "    'children': [0,0,0],\n",
    "    'bmi': [22.5,20,25]\n",
    "}))"
   ]
  },
  {
   "cell_type": "markdown",
   "id": "3d187f4e-ef89-445e-9330-1bcdcf8f8810",
   "metadata": {},
   "source": [
    "# Raíz cuadrada del error cuadrático promedio de la regresión"
   ]
  },
  {
   "cell_type": "code",
   "execution_count": 8,
   "id": "a3ceb77d-54fb-4545-8da5-1724f1eca113",
   "metadata": {},
   "outputs": [
    {
     "data": {
      "text/plain": [
       "array([ 6908.77753344,  9160.97706103, 12390.94691779, ...,\n",
       "        9640.92917145,  6691.39141657, 17377.08299024])"
      ]
     },
     "execution_count": 8,
     "metadata": {},
     "output_type": "execute_result"
    }
   ],
   "source": [
    "fitted = insurance_lm.predict(data[predictors])\n",
    "fitted"
   ]
  },
  {
   "cell_type": "code",
   "execution_count": 13,
   "id": "071a0ca5-0fec-4a11-8525-a20e4a2f9a8f",
   "metadata": {},
   "outputs": [
    {
     "data": {
      "text/plain": [
       "11355.317901125973"
      ]
     },
     "execution_count": 13,
     "metadata": {},
     "output_type": "execute_result"
    }
   ],
   "source": [
    "RMSE = np.sqrt(np.sum((data[outcome]-fitted)**2)/fitted.size)\n",
    "RMSE"
   ]
  },
  {
   "cell_type": "markdown",
   "id": "cc928d51-bb18-49bc-a2f2-b16b9c9ca85a",
   "metadata": {},
   "source": [
    "### También se puede obtener importándolo desde --> from sklearn.metrics import mean_squared_error"
   ]
  },
  {
   "cell_type": "code",
   "execution_count": 21,
   "id": "24c9c1cb-fb68-4270-8bfc-22da03fa8ae0",
   "metadata": {},
   "outputs": [
    {
     "data": {
      "text/plain": [
       "11355.317901125973"
      ]
     },
     "execution_count": 21,
     "metadata": {},
     "output_type": "execute_result"
    }
   ],
   "source": [
    "RMSE_sklearn = np.sqrt(mean_squared_error(data[outcome],fitted))\n",
    "RMSE_sklearn"
   ]
  },
  {
   "cell_type": "markdown",
   "id": "fcd6206a-0d56-4bbb-9456-1fe24838b9cb",
   "metadata": {},
   "source": [
    "# Librería de metodos estadísticos --> pip install statsmodels\n",
    "## Luego de instalarlo debemos importarlo --> import statsmodels as sm"
   ]
  },
  {
   "cell_type": "code",
   "execution_count": 24,
   "id": "91299b8d-050f-459d-a397-d4e92ebdcb50",
   "metadata": {},
   "outputs": [
    {
     "name": "stdout",
     "output_type": "stream",
     "text": [
      "Requirement already satisfied: statsmodels in c:\\users\\danko\\anaconda3\\lib\\site-packages (0.13.2)\n",
      "Requirement already satisfied: numpy>=1.17 in c:\\users\\danko\\anaconda3\\lib\\site-packages (from statsmodels) (1.21.5)\n",
      "Requirement already satisfied: scipy>=1.3 in c:\\users\\danko\\anaconda3\\lib\\site-packages (from statsmodels) (1.7.3)\n",
      "Requirement already satisfied: pandas>=0.25 in c:\\users\\danko\\anaconda3\\lib\\site-packages (from statsmodels) (1.4.2)\n",
      "Requirement already satisfied: patsy>=0.5.2 in c:\\users\\danko\\anaconda3\\lib\\site-packages (from statsmodels) (0.5.2)\n",
      "Requirement already satisfied: packaging>=21.3 in c:\\users\\danko\\anaconda3\\lib\\site-packages (from statsmodels) (21.3)\n",
      "Requirement already satisfied: pyparsing!=3.0.5,>=2.0.2 in c:\\users\\danko\\anaconda3\\lib\\site-packages (from packaging>=21.3->statsmodels) (3.0.4)\n",
      "Requirement already satisfied: pytz>=2020.1 in c:\\users\\danko\\anaconda3\\lib\\site-packages (from pandas>=0.25->statsmodels) (2021.3)\n",
      "Requirement already satisfied: python-dateutil>=2.8.1 in c:\\users\\danko\\anaconda3\\lib\\site-packages (from pandas>=0.25->statsmodels) (2.8.2)\n",
      "Requirement already satisfied: six in c:\\users\\danko\\anaconda3\\lib\\site-packages (from patsy>=0.5.2->statsmodels) (1.16.0)\n",
      "Note: you may need to restart the kernel to use updated packages.\n"
     ]
    }
   ],
   "source": [
    "pip install statsmodels"
   ]
  },
  {
   "cell_type": "code",
   "execution_count": 27,
   "id": "e866d5a5-aae5-44d8-8dd6-c2f2f5203d7b",
   "metadata": {},
   "outputs": [
    {
     "data": {
      "text/html": [
       "<table class=\"simpletable\">\n",
       "<caption>OLS Regression Results</caption>\n",
       "<tr>\n",
       "  <th>Dep. Variable:</th>         <td>charges</td>     <th>  R-squared (uncentered):</th>      <td>   0.596</td> \n",
       "</tr>\n",
       "<tr>\n",
       "  <th>Model:</th>                   <td>OLS</td>       <th>  Adj. R-squared (uncentered):</th> <td>   0.595</td> \n",
       "</tr>\n",
       "<tr>\n",
       "  <th>Method:</th>             <td>Least Squares</td>  <th>  F-statistic:       </th>          <td>   655.7</td> \n",
       "</tr>\n",
       "<tr>\n",
       "  <th>Date:</th>             <td>Wed, 07 Sep 2022</td> <th>  Prob (F-statistic):</th>          <td>6.52e-262</td>\n",
       "</tr>\n",
       "<tr>\n",
       "  <th>Time:</th>                 <td>23:38:23</td>     <th>  Log-Likelihood:    </th>          <td> -14400.</td> \n",
       "</tr>\n",
       "<tr>\n",
       "  <th>No. Observations:</th>      <td>  1338</td>      <th>  AIC:               </th>          <td>2.881e+04</td>\n",
       "</tr>\n",
       "<tr>\n",
       "  <th>Df Residuals:</th>          <td>  1335</td>      <th>  BIC:               </th>          <td>2.882e+04</td>\n",
       "</tr>\n",
       "<tr>\n",
       "  <th>Df Model:</th>              <td>     3</td>      <th>                     </th>              <td> </td>    \n",
       "</tr>\n",
       "<tr>\n",
       "  <th>Covariance Type:</th>      <td>nonrobust</td>    <th>                     </th>              <td> </td>    \n",
       "</tr>\n",
       "</table>\n",
       "<table class=\"simpletable\">\n",
       "<tr>\n",
       "      <td></td>        <th>coef</th>     <th>std err</th>      <th>t</th>      <th>P>|t|</th>  <th>[0.025</th>    <th>0.975]</th>  \n",
       "</tr>\n",
       "<tr>\n",
       "  <th>age</th>      <td>  205.5096</td> <td>   20.605</td> <td>    9.974</td> <td> 0.000</td> <td>  165.088</td> <td>  245.931</td>\n",
       "</tr>\n",
       "<tr>\n",
       "  <th>children</th> <td>  407.6827</td> <td>  257.331</td> <td>    1.584</td> <td> 0.113</td> <td>  -97.135</td> <td>  912.501</td>\n",
       "</tr>\n",
       "<tr>\n",
       "  <th>bmi</th>      <td>  162.5084</td> <td>   28.007</td> <td>    5.802</td> <td> 0.000</td> <td>  107.566</td> <td>  217.451</td>\n",
       "</tr>\n",
       "</table>\n",
       "<table class=\"simpletable\">\n",
       "<tr>\n",
       "  <th>Omnibus:</th>       <td>369.789</td> <th>  Durbin-Watson:     </th> <td>   2.018</td> \n",
       "</tr>\n",
       "<tr>\n",
       "  <th>Prob(Omnibus):</th> <td> 0.000</td>  <th>  Jarque-Bera (JB):  </th> <td> 750.403</td> \n",
       "</tr>\n",
       "<tr>\n",
       "  <th>Skew:</th>          <td> 1.648</td>  <th>  Prob(JB):          </th> <td>1.13e-163</td>\n",
       "</tr>\n",
       "<tr>\n",
       "  <th>Kurtosis:</th>      <td> 4.610</td>  <th>  Cond. No.          </th> <td>    42.2</td> \n",
       "</tr>\n",
       "</table><br/><br/>Notes:<br/>[1] R² is computed without centering (uncentered) since the model does not contain a constant.<br/>[2] Standard Errors assume that the covariance matrix of the errors is correctly specified."
      ],
      "text/plain": [
       "<class 'statsmodels.iolib.summary.Summary'>\n",
       "\"\"\"\n",
       "                                 OLS Regression Results                                \n",
       "=======================================================================================\n",
       "Dep. Variable:                charges   R-squared (uncentered):                   0.596\n",
       "Model:                            OLS   Adj. R-squared (uncentered):              0.595\n",
       "Method:                 Least Squares   F-statistic:                              655.7\n",
       "Date:                Wed, 07 Sep 2022   Prob (F-statistic):                   6.52e-262\n",
       "Time:                        23:38:23   Log-Likelihood:                         -14400.\n",
       "No. Observations:                1338   AIC:                                  2.881e+04\n",
       "Df Residuals:                    1335   BIC:                                  2.882e+04\n",
       "Df Model:                           3                                                  \n",
       "Covariance Type:            nonrobust                                                  \n",
       "==============================================================================\n",
       "                 coef    std err          t      P>|t|      [0.025      0.975]\n",
       "------------------------------------------------------------------------------\n",
       "age          205.5096     20.605      9.974      0.000     165.088     245.931\n",
       "children     407.6827    257.331      1.584      0.113     -97.135     912.501\n",
       "bmi          162.5084     28.007      5.802      0.000     107.566     217.451\n",
       "==============================================================================\n",
       "Omnibus:                      369.789   Durbin-Watson:                   2.018\n",
       "Prob(Omnibus):                  0.000   Jarque-Bera (JB):              750.403\n",
       "Skew:                           1.648   Prob(JB):                    1.13e-163\n",
       "Kurtosis:                       4.610   Cond. No.                         42.2\n",
       "==============================================================================\n",
       "\n",
       "Notes:\n",
       "[1] R² is computed without centering (uncentered) since the model does not contain a constant.\n",
       "[2] Standard Errors assume that the covariance matrix of the errors is correctly specified.\n",
       "\"\"\""
      ]
     },
     "execution_count": 27,
     "metadata": {},
     "output_type": "execute_result"
    }
   ],
   "source": [
    "insurance_sm = sm.OLS(data[outcome],data[predictors])\n",
    "results = insurance_sm.fit()\n",
    "results.summary()"
   ]
  },
  {
   "cell_type": "markdown",
   "id": "7bd10943-d7cf-43b0-891d-b5d91e9adbfe",
   "metadata": {},
   "source": [
    "## NOTA: un \"estadístico t\" alto y un \"p valor\" bajo, indica que la variable es más significante que las otras."
   ]
  },
  {
   "cell_type": "code",
   "execution_count": null,
   "id": "82b04882-ea76-466b-9d76-8ce1b5601d61",
   "metadata": {},
   "outputs": [],
   "source": []
  }
 ],
 "metadata": {
  "kernelspec": {
   "display_name": "Python 3 (ipykernel)",
   "language": "python",
   "name": "python3"
  },
  "language_info": {
   "codemirror_mode": {
    "name": "ipython",
    "version": 3
   },
   "file_extension": ".py",
   "mimetype": "text/x-python",
   "name": "python",
   "nbconvert_exporter": "python",
   "pygments_lexer": "ipython3",
   "version": "3.9.12"
  }
 },
 "nbformat": 4,
 "nbformat_minor": 5
}
