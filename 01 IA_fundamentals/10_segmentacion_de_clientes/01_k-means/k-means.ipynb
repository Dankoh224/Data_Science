{
 "cells": [
  {
   "cell_type": "markdown",
   "id": "811b20e2-713d-4945-b4a7-73877ce625d9",
   "metadata": {},
   "source": [
    "# K-MEANs"
   ]
  },
  {
   "cell_type": "markdown",
   "id": "43584ff0-0118-431f-9616-2632daaa82cd",
   "metadata": {},
   "source": [
    "## Este algoritmo es de tipo SUPERVISADO y clasifica en n-clases a un grupo de valores."
   ]
  },
  {
   "cell_type": "markdown",
   "id": "f1c58af7-8b70-45d3-9a58-48217b561048",
   "metadata": {},
   "source": [
    "### A veces es un problema saber o no saber cuántas clases son las que usaremos, pero hay un k-medias modificado que permite ajustar el número de clases automáticamente.\n",
    "\n",
    "# Tarea: averiguar sobre k-medias MODIFICADO y sobre la LOGICA BORROSA."
   ]
  },
  {
   "cell_type": "code",
   "execution_count": 1,
   "id": "62ac73a3-f722-4d6f-9a1e-0f6de9a70342",
   "metadata": {},
   "outputs": [],
   "source": [
    "from sklearn.cluster import KMeans\n",
    "from sklearn import metrics\n",
    "import numpy as np"
   ]
  },
  {
   "cell_type": "code",
   "execution_count": 9,
   "id": "1998bf78-95b7-4910-9b83-0d1804b5e60f",
   "metadata": {},
   "outputs": [
    {
     "name": "stdout",
     "output_type": "stream",
     "text": [
      "[[3 5]\n",
      " [1 4]\n",
      " [1 6]\n",
      " [2 6]\n",
      " [1 5]\n",
      " [6 8]\n",
      " [6 6]\n",
      " [6 7]\n",
      " [5 6]\n",
      " [6 7]\n",
      " [7 1]\n",
      " [8 2]\n",
      " [9 1]\n",
      " [8 2]\n",
      " [9 3]\n",
      " [9 2]\n",
      " [8 3]]\n"
     ]
    },
    {
     "data": {
      "image/png": "[encoded data removed]",
      "text/plain": [
       "<Figure size 432x288 with 1 Axes>"
      ]
     },
     "metadata": {
      "needs_background": "light"
     },
     "output_type": "display_data"
    }
   ],
   "source": [
    "# Vamos a segmentar la serie de puntos que se escriben a continuación\n",
    "#X = [[3,5],[1,4],[1,6],[2,6],[1,5],[6,8],[6,6],[6,7],[5,6],[6,7],[7,1],[8,2],[9,1],[8,2],[9,3],[9,2],[8,3]]\n",
    "\n",
    "# Cada coordenada x e y la escribiremos en una lista v1 y v2:\n",
    "v1=[3, 1, 1, 2, 1, 6, 6, 6, 5, 6, 7, 8, 9, 8, 9, 9, 8]\n",
    "v2=[5, 4, 6, 6, 5, 8, 6, 7, 6, 7, 1, 2, 1, 2, 3, 2, 3]\n",
    "\n",
    "# Las traspasamos a un array:\n",
    "x1 = np.array(v1)\n",
    "x2 = np.array(v2)\n",
    "\n",
    "# Unimos ambas array en un único vector de 2 elementos y lo imprimimos:\n",
    "X = np.array(list(zip(x1, x2))).reshape(len(x1), 2)\n",
    "print(X)\n",
    "\n",
    "# Graficamos las coordenadas\n",
    "import matplotlib.pyplot as plt\n",
    "plt.plot(v1, v2, 'ro')\n",
    "plt.axis([1, 9, 1, 8]) #Eje x: de 1 a 9; Eje Y: de 1 a 8\n",
    "plt.show()"
   ]
  },
  {
   "cell_type": "code",
   "execution_count": 10,
   "id": "e41c5248-a65b-498b-b965-c5a87a8e1b1e",
   "metadata": {},
   "outputs": [],
   "source": [
    "#Algoritmo K-Means \n",
    "K = 3 # Número de clases/clusters/labels esperados\n",
    "\n",
    "#Entrenamiento del modelo con los valores de entrada X\n",
    "kmeans_model = KMeans(n_clusters=K).fit(X)"
   ]
  },
  {
   "cell_type": "code",
   "execution_count": 18,
   "id": "6a10b3a3-1365-448a-8cce-073b051e3ad5",
   "metadata": {},
   "outputs": [
    {
     "name": "stdout",
     "output_type": "stream",
     "text": [
      "(x1,x2) -> Clase\n",
      "(3,5) ->:0\n",
      "(x1,x2) -> Clase\n",
      "(1,4) ->:0\n",
      "(x1,x2) -> Clase\n",
      "(1,6) ->:0\n",
      "(x1,x2) -> Clase\n",
      "(2,6) ->:0\n",
      "(x1,x2) -> Clase\n",
      "(1,5) ->:0\n",
      "(x1,x2) -> Clase\n",
      "(6,8) ->:2\n",
      "(x1,x2) -> Clase\n",
      "(6,6) ->:2\n",
      "(x1,x2) -> Clase\n",
      "(6,7) ->:2\n",
      "(x1,x2) -> Clase\n",
      "(5,6) ->:2\n",
      "(x1,x2) -> Clase\n",
      "(6,7) ->:2\n",
      "(x1,x2) -> Clase\n",
      "(7,1) ->:1\n",
      "(x1,x2) -> Clase\n",
      "(8,2) ->:1\n",
      "(x1,x2) -> Clase\n",
      "(9,1) ->:1\n",
      "(x1,x2) -> Clase\n",
      "(8,2) ->:1\n",
      "(x1,x2) -> Clase\n",
      "(9,3) ->:1\n",
      "(x1,x2) -> Clase\n",
      "(9,2) ->:1\n",
      "(x1,x2) -> Clase\n",
      "(8,3) ->:1\n"
     ]
    }
   ],
   "source": [
    "# Mostrar las clases que el algoritmo a asignado a cada valor de entrada de forma\n",
    "# iterativa (el algoritmo decide que clase le da a cada elemento):\n",
    "for i, l in enumerate(kmeans_model.labels_):\n",
    "    print(\"(x1,x2) -> Clase\")\n",
    "    print(\"({0},{1}) ->:{2}\".format(x1[i], x2[i], l))"
   ]
  },
  {
   "cell_type": "code",
   "execution_count": 19,
   "id": "8eb1f233-3418-468c-8f30-da7d5217d333",
   "metadata": {},
   "outputs": [
    {
     "name": "stdout",
     "output_type": "stream",
     "text": [
      "[0 0 0 0 0 2 2 2 2 2 1 1 1 1 1 1 1]\n"
     ]
    }
   ],
   "source": [
    "# Ver todas las clases que el algoritmo asignó a cada valor par ordenado:\n",
    "predicciones = kmeans_model.predict(X)\n",
    "print(predicciones)"
   ]
  },
  {
   "cell_type": "code",
   "execution_count": 25,
   "id": "e756f07c-5b1a-44f6-a4d7-b5c98e7eadb0",
   "metadata": {},
   "outputs": [
    {
     "name": "stdout",
     "output_type": "stream",
     "text": [
      "Prediccion [[4, 2]]->[0]\n"
     ]
    }
   ],
   "source": [
    "# Una vez entrenado el modelo, podemos predecir la clase de un valor específico de entrada:\n",
    "test=[[4,2]]\n",
    "prediccion = kmeans_model.predict(test)\n",
    "print(\"Prediccion {0}->{1}\".format(test,prediccion))"
   ]
  },
  {
   "cell_type": "code",
   "execution_count": 26,
   "id": "f8171519-3c70-4ee7-b84c-8e8812ebe3cc",
   "metadata": {},
   "outputs": [
    {
     "name": "stdout",
     "output_type": "stream",
     "text": [
      "[0 2 1]\n"
     ]
    }
   ],
   "source": [
    "# Aprender un nuevo valor (tienen que añadirse en una sola vez tantos valores como indicque K)\n",
    "x1 = np.array([2, 5, 8])\n",
    "x2 = np.array([5, 5, 4])\n",
    "\n",
    "X = np.array(list(zip(x1, x2))).reshape(len(x1), 2)\n",
    "prediccion = kmeans_model.fit_predict(X)\n",
    "print(prediccion)"
   ]
  },
  {
   "cell_type": "code",
   "execution_count": 27,
   "id": "675fe973-e1d1-479d-b821-1454328bf657",
   "metadata": {},
   "outputs": [
    {
     "name": "stdout",
     "output_type": "stream",
     "text": [
      "[[2. 5.]\n",
      " [8. 4.]\n",
      " [5. 5.]]\n"
     ]
    }
   ],
   "source": [
    "print(kmeans_model.cluster_centers_)"
   ]
  },
  {
   "cell_type": "code",
   "execution_count": null,
   "id": "1dee2ff4-d005-4673-8015-f7e0e8ee68be",
   "metadata": {},
   "outputs": [],
   "source": []
  }
 ],
 "metadata": {
  "kernelspec": {
   "display_name": "Python 3 (ipykernel)",
   "language": "python",
   "name": "python3"
  },
  "language_info": {
   "codemirror_mode": {
    "name": "ipython",
    "version": 3
   },
   "file_extension": ".py",
   "mimetype": "text/x-python",
   "name": "python",
   "nbconvert_exporter": "python",
   "pygments_lexer": "ipython3",
   "version": "3.9.12"
  }
 },
 "nbformat": 4,
 "nbformat_minor": 5
}
