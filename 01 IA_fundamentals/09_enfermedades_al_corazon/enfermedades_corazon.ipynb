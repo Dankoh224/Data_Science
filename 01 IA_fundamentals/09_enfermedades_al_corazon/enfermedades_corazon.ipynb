{
 "cells": [
  {
   "cell_type": "markdown",
   "id": "61e077cc-a023-4445-b6b2-771089b9756a",
   "metadata": {},
   "source": [
    "# Enfermedades al corazòn"
   ]
  },
  {
   "cell_type": "code",
   "execution_count": null,
   "id": "e60c9a34-13a4-4164-8ce8-ba5db9feb127",
   "metadata": {},
   "outputs": [],
   "source": [
    "# Primero importar libreria pandas"
   ]
  },
  {
   "cell_type": "code",
   "execution_count": 1,
   "id": "175cae81-778d-4f90-b255-5030e8c6beac",
   "metadata": {},
   "outputs": [],
   "source": [
    "import pandas as pd"
   ]
  },
  {
   "cell_type": "code",
   "execution_count": 14,
   "id": "66c8ab8b-1718-4227-85ee-18827bfa327e",
   "metadata": {},
   "outputs": [
    {
     "data": {
      "text/html": [
       "<div>\n",
       "<style scoped>\n",
       "    .dataframe tbody tr th:only-of-type {\n",
       "        vertical-align: middle;\n",
       "    }\n",
       "\n",
       "    .dataframe tbody tr th {\n",
       "        vertical-align: top;\n",
       "    }\n",
       "\n",
       "    .dataframe thead th {\n",
       "        text-align: right;\n",
       "    }\n",
       "</style>\n",
       "<table border=\"1\" class=\"dataframe\">\n",
       "  <thead>\n",
       "    <tr style=\"text-align: right;\">\n",
       "      <th></th>\n",
       "      <th>id</th>\n",
       "      <th>V1</th>\n",
       "      <th>V2</th>\n",
       "      <th>V3</th>\n",
       "      <th>V4</th>\n",
       "      <th>V5</th>\n",
       "      <th>V6</th>\n",
       "      <th>V7</th>\n",
       "      <th>V8</th>\n",
       "      <th>V9</th>\n",
       "      <th>Class</th>\n",
       "    </tr>\n",
       "  </thead>\n",
       "  <tbody>\n",
       "    <tr>\n",
       "      <th>0</th>\n",
       "      <td>1</td>\n",
       "      <td>160</td>\n",
       "      <td>12.00</td>\n",
       "      <td>5.73</td>\n",
       "      <td>23.11</td>\n",
       "      <td>1</td>\n",
       "      <td>49</td>\n",
       "      <td>25.30</td>\n",
       "      <td>97.20</td>\n",
       "      <td>52</td>\n",
       "      <td>2</td>\n",
       "    </tr>\n",
       "    <tr>\n",
       "      <th>1</th>\n",
       "      <td>2</td>\n",
       "      <td>144</td>\n",
       "      <td>0.01</td>\n",
       "      <td>4.41</td>\n",
       "      <td>28.61</td>\n",
       "      <td>2</td>\n",
       "      <td>55</td>\n",
       "      <td>28.87</td>\n",
       "      <td>2.06</td>\n",
       "      <td>63</td>\n",
       "      <td>2</td>\n",
       "    </tr>\n",
       "    <tr>\n",
       "      <th>2</th>\n",
       "      <td>3</td>\n",
       "      <td>118</td>\n",
       "      <td>0.08</td>\n",
       "      <td>3.48</td>\n",
       "      <td>32.28</td>\n",
       "      <td>1</td>\n",
       "      <td>52</td>\n",
       "      <td>29.14</td>\n",
       "      <td>3.81</td>\n",
       "      <td>46</td>\n",
       "      <td>1</td>\n",
       "    </tr>\n",
       "    <tr>\n",
       "      <th>3</th>\n",
       "      <td>4</td>\n",
       "      <td>170</td>\n",
       "      <td>7.50</td>\n",
       "      <td>6.41</td>\n",
       "      <td>38.03</td>\n",
       "      <td>1</td>\n",
       "      <td>51</td>\n",
       "      <td>31.99</td>\n",
       "      <td>24.26</td>\n",
       "      <td>58</td>\n",
       "      <td>2</td>\n",
       "    </tr>\n",
       "    <tr>\n",
       "      <th>4</th>\n",
       "      <td>5</td>\n",
       "      <td>134</td>\n",
       "      <td>13.60</td>\n",
       "      <td>3.50</td>\n",
       "      <td>27.78</td>\n",
       "      <td>1</td>\n",
       "      <td>60</td>\n",
       "      <td>25.99</td>\n",
       "      <td>57.34</td>\n",
       "      <td>49</td>\n",
       "      <td>2</td>\n",
       "    </tr>\n",
       "  </tbody>\n",
       "</table>\n",
       "</div>"
      ],
      "text/plain": [
       "   id   V1     V2    V3     V4  V5  V6     V7     V8  V9  Class\n",
       "0   1  160  12.00  5.73  23.11   1  49  25.30  97.20  52      2\n",
       "1   2  144   0.01  4.41  28.61   2  55  28.87   2.06  63      2\n",
       "2   3  118   0.08  3.48  32.28   1  52  29.14   3.81  46      1\n",
       "3   4  170   7.50  6.41  38.03   1  51  31.99  24.26  58      2\n",
       "4   5  134  13.60  3.50  27.78   1  60  25.99  57.34  49      2"
      ]
     },
     "execution_count": 14,
     "metadata": {},
     "output_type": "execute_result"
    }
   ],
   "source": [
    "# luego importar los datos\n",
    "data = pd.read_csv('phpgNaXZe.csv')\n",
    "data.head()"
   ]
  },
  {
   "cell_type": "code",
   "execution_count": 15,
   "id": "4b6f00a6-204a-4d0b-9e26-992592e15d76",
   "metadata": {},
   "outputs": [
    {
     "data": {
      "text/html": [
       "<div>\n",
       "<style scoped>\n",
       "    .dataframe tbody tr th:only-of-type {\n",
       "        vertical-align: middle;\n",
       "    }\n",
       "\n",
       "    .dataframe tbody tr th {\n",
       "        vertical-align: top;\n",
       "    }\n",
       "\n",
       "    .dataframe thead th {\n",
       "        text-align: right;\n",
       "    }\n",
       "</style>\n",
       "<table border=\"1\" class=\"dataframe\">\n",
       "  <thead>\n",
       "    <tr style=\"text-align: right;\">\n",
       "      <th></th>\n",
       "      <th>V1</th>\n",
       "      <th>V2</th>\n",
       "      <th>V3</th>\n",
       "      <th>V4</th>\n",
       "      <th>V5</th>\n",
       "      <th>V6</th>\n",
       "      <th>V7</th>\n",
       "      <th>V8</th>\n",
       "      <th>V9</th>\n",
       "      <th>Class</th>\n",
       "    </tr>\n",
       "  </thead>\n",
       "  <tbody>\n",
       "    <tr>\n",
       "      <th>0</th>\n",
       "      <td>160</td>\n",
       "      <td>12.00</td>\n",
       "      <td>5.73</td>\n",
       "      <td>23.11</td>\n",
       "      <td>1</td>\n",
       "      <td>49</td>\n",
       "      <td>25.30</td>\n",
       "      <td>97.20</td>\n",
       "      <td>52</td>\n",
       "      <td>2</td>\n",
       "    </tr>\n",
       "    <tr>\n",
       "      <th>1</th>\n",
       "      <td>144</td>\n",
       "      <td>0.01</td>\n",
       "      <td>4.41</td>\n",
       "      <td>28.61</td>\n",
       "      <td>2</td>\n",
       "      <td>55</td>\n",
       "      <td>28.87</td>\n",
       "      <td>2.06</td>\n",
       "      <td>63</td>\n",
       "      <td>2</td>\n",
       "    </tr>\n",
       "    <tr>\n",
       "      <th>2</th>\n",
       "      <td>118</td>\n",
       "      <td>0.08</td>\n",
       "      <td>3.48</td>\n",
       "      <td>32.28</td>\n",
       "      <td>1</td>\n",
       "      <td>52</td>\n",
       "      <td>29.14</td>\n",
       "      <td>3.81</td>\n",
       "      <td>46</td>\n",
       "      <td>1</td>\n",
       "    </tr>\n",
       "    <tr>\n",
       "      <th>3</th>\n",
       "      <td>170</td>\n",
       "      <td>7.50</td>\n",
       "      <td>6.41</td>\n",
       "      <td>38.03</td>\n",
       "      <td>1</td>\n",
       "      <td>51</td>\n",
       "      <td>31.99</td>\n",
       "      <td>24.26</td>\n",
       "      <td>58</td>\n",
       "      <td>2</td>\n",
       "    </tr>\n",
       "    <tr>\n",
       "      <th>4</th>\n",
       "      <td>134</td>\n",
       "      <td>13.60</td>\n",
       "      <td>3.50</td>\n",
       "      <td>27.78</td>\n",
       "      <td>1</td>\n",
       "      <td>60</td>\n",
       "      <td>25.99</td>\n",
       "      <td>57.34</td>\n",
       "      <td>49</td>\n",
       "      <td>2</td>\n",
       "    </tr>\n",
       "  </tbody>\n",
       "</table>\n",
       "</div>"
      ],
      "text/plain": [
       "    V1     V2    V3     V4  V5  V6     V7     V8  V9  Class\n",
       "0  160  12.00  5.73  23.11   1  49  25.30  97.20  52      2\n",
       "1  144   0.01  4.41  28.61   2  55  28.87   2.06  63      2\n",
       "2  118   0.08  3.48  32.28   1  52  29.14   3.81  46      1\n",
       "3  170   7.50  6.41  38.03   1  51  31.99  24.26  58      2\n",
       "4  134  13.60  3.50  27.78   1  60  25.99  57.34  49      2"
      ]
     },
     "execution_count": 15,
     "metadata": {},
     "output_type": "execute_result"
    }
   ],
   "source": [
    "# Eliminar la fila de id\n",
    "data = data.drop('id',axis=1)\n",
    "data.head()"
   ]
  },
  {
   "cell_type": "code",
   "execution_count": 16,
   "id": "3917ab50-0f3c-43a6-a8e0-0ee2a8a2303b",
   "metadata": {},
   "outputs": [],
   "source": [
    "# Crearemos el nombre de cada columnas (están en la pagina donde se descargo el data set,\n",
    "# pero yo los copie desde el video de youtube). \n",
    "columnas = ['sbp','tabaco','ldl','adiposity','familia','tipo','obesidad','alcohol','edad','chd']"
   ]
  },
  {
   "cell_type": "code",
   "execution_count": 17,
   "id": "17409b78-96bd-449b-a581-dc1ae7930833",
   "metadata": {},
   "outputs": [
    {
     "data": {
      "text/html": [
       "<div>\n",
       "<style scoped>\n",
       "    .dataframe tbody tr th:only-of-type {\n",
       "        vertical-align: middle;\n",
       "    }\n",
       "\n",
       "    .dataframe tbody tr th {\n",
       "        vertical-align: top;\n",
       "    }\n",
       "\n",
       "    .dataframe thead th {\n",
       "        text-align: right;\n",
       "    }\n",
       "</style>\n",
       "<table border=\"1\" class=\"dataframe\">\n",
       "  <thead>\n",
       "    <tr style=\"text-align: right;\">\n",
       "      <th></th>\n",
       "      <th>sbp</th>\n",
       "      <th>tabaco</th>\n",
       "      <th>ldl</th>\n",
       "      <th>adiposity</th>\n",
       "      <th>familia</th>\n",
       "      <th>tipo</th>\n",
       "      <th>obesidad</th>\n",
       "      <th>alcohol</th>\n",
       "      <th>edad</th>\n",
       "      <th>chd</th>\n",
       "    </tr>\n",
       "  </thead>\n",
       "  <tbody>\n",
       "    <tr>\n",
       "      <th>0</th>\n",
       "      <td>160</td>\n",
       "      <td>12.00</td>\n",
       "      <td>5.73</td>\n",
       "      <td>23.11</td>\n",
       "      <td>1</td>\n",
       "      <td>49</td>\n",
       "      <td>25.30</td>\n",
       "      <td>97.20</td>\n",
       "      <td>52</td>\n",
       "      <td>2</td>\n",
       "    </tr>\n",
       "    <tr>\n",
       "      <th>1</th>\n",
       "      <td>144</td>\n",
       "      <td>0.01</td>\n",
       "      <td>4.41</td>\n",
       "      <td>28.61</td>\n",
       "      <td>2</td>\n",
       "      <td>55</td>\n",
       "      <td>28.87</td>\n",
       "      <td>2.06</td>\n",
       "      <td>63</td>\n",
       "      <td>2</td>\n",
       "    </tr>\n",
       "    <tr>\n",
       "      <th>2</th>\n",
       "      <td>118</td>\n",
       "      <td>0.08</td>\n",
       "      <td>3.48</td>\n",
       "      <td>32.28</td>\n",
       "      <td>1</td>\n",
       "      <td>52</td>\n",
       "      <td>29.14</td>\n",
       "      <td>3.81</td>\n",
       "      <td>46</td>\n",
       "      <td>1</td>\n",
       "    </tr>\n",
       "    <tr>\n",
       "      <th>3</th>\n",
       "      <td>170</td>\n",
       "      <td>7.50</td>\n",
       "      <td>6.41</td>\n",
       "      <td>38.03</td>\n",
       "      <td>1</td>\n",
       "      <td>51</td>\n",
       "      <td>31.99</td>\n",
       "      <td>24.26</td>\n",
       "      <td>58</td>\n",
       "      <td>2</td>\n",
       "    </tr>\n",
       "    <tr>\n",
       "      <th>4</th>\n",
       "      <td>134</td>\n",
       "      <td>13.60</td>\n",
       "      <td>3.50</td>\n",
       "      <td>27.78</td>\n",
       "      <td>1</td>\n",
       "      <td>60</td>\n",
       "      <td>25.99</td>\n",
       "      <td>57.34</td>\n",
       "      <td>49</td>\n",
       "      <td>2</td>\n",
       "    </tr>\n",
       "  </tbody>\n",
       "</table>\n",
       "</div>"
      ],
      "text/plain": [
       "   sbp  tabaco   ldl  adiposity  familia  tipo  obesidad  alcohol  edad  chd\n",
       "0  160   12.00  5.73      23.11        1    49     25.30    97.20    52    2\n",
       "1  144    0.01  4.41      28.61        2    55     28.87     2.06    63    2\n",
       "2  118    0.08  3.48      32.28        1    52     29.14     3.81    46    1\n",
       "3  170    7.50  6.41      38.03        1    51     31.99    24.26    58    2\n",
       "4  134   13.60  3.50      27.78        1    60     25.99    57.34    49    2"
      ]
     },
     "execution_count": 17,
     "metadata": {},
     "output_type": "execute_result"
    }
   ],
   "source": [
    "# Ahora cambiaremos el nombre de las columnas\n",
    "data.columns = columnas\n",
    "data.head()"
   ]
  },
  {
   "cell_type": "code",
   "execution_count": 18,
   "id": "17cb0809-eec6-4cd3-827d-c283e97573bf",
   "metadata": {},
   "outputs": [
    {
     "data": {
      "text/plain": [
       "sbp            int64\n",
       "tabaco       float64\n",
       "ldl          float64\n",
       "adiposity    float64\n",
       "familia        int64\n",
       "tipo           int64\n",
       "obesidad     float64\n",
       "alcohol      float64\n",
       "edad           int64\n",
       "chd            int64\n",
       "dtype: object"
      ]
     },
     "execution_count": 18,
     "metadata": {},
     "output_type": "execute_result"
    }
   ],
   "source": [
    "# Analizar los datos (qué tipo son)\n",
    "data.dtypes"
   ]
  },
  {
   "cell_type": "code",
   "execution_count": 19,
   "id": "1f153545-f79a-443e-b816-f6ed375f3168",
   "metadata": {},
   "outputs": [
    {
     "data": {
      "text/plain": [
       "sbp          0\n",
       "tabaco       0\n",
       "ldl          0\n",
       "adiposity    0\n",
       "familia      0\n",
       "tipo         0\n",
       "obesidad     0\n",
       "alcohol      0\n",
       "edad         0\n",
       "chd          0\n",
       "dtype: int64"
      ]
     },
     "execution_count": 19,
     "metadata": {},
     "output_type": "execute_result"
    }
   ],
   "source": [
    "# verificar si hay datos nulos\n",
    "data.isnull().sum()"
   ]
  },
  {
   "cell_type": "code",
   "execution_count": 21,
   "id": "820ad2b5-ef4b-443d-b7d9-4c099ef2fdb8",
   "metadata": {},
   "outputs": [],
   "source": [
    "# Al obserbar los datos, podemos notar que sbp tiene los datos con una cariación mayor a la de las demas columnas\n",
    "# Tambien en familia y chd, notamos que los datos son 1 y 2, en vez de 0 y 1.\n",
    "# Así que realizarmos ajustes para optimizar el modelo.\n",
    "# Cambiar datos de familia y chd importando:\n",
    "from sklearn.preprocessing import LabelEncoder"
   ]
  },
  {
   "cell_type": "code",
   "execution_count": 23,
   "id": "5ec3f66f-9c30-4df4-a5bf-c57815c712a3",
   "metadata": {},
   "outputs": [
    {
     "data": {
      "text/html": [
       "<div>\n",
       "<style scoped>\n",
       "    .dataframe tbody tr th:only-of-type {\n",
       "        vertical-align: middle;\n",
       "    }\n",
       "\n",
       "    .dataframe tbody tr th {\n",
       "        vertical-align: top;\n",
       "    }\n",
       "\n",
       "    .dataframe thead th {\n",
       "        text-align: right;\n",
       "    }\n",
       "</style>\n",
       "<table border=\"1\" class=\"dataframe\">\n",
       "  <thead>\n",
       "    <tr style=\"text-align: right;\">\n",
       "      <th></th>\n",
       "      <th>sbp</th>\n",
       "      <th>tabaco</th>\n",
       "      <th>ldl</th>\n",
       "      <th>adiposity</th>\n",
       "      <th>familia</th>\n",
       "      <th>tipo</th>\n",
       "      <th>obesidad</th>\n",
       "      <th>alcohol</th>\n",
       "      <th>edad</th>\n",
       "      <th>chd</th>\n",
       "    </tr>\n",
       "  </thead>\n",
       "  <tbody>\n",
       "    <tr>\n",
       "      <th>0</th>\n",
       "      <td>160</td>\n",
       "      <td>12.00</td>\n",
       "      <td>5.73</td>\n",
       "      <td>23.11</td>\n",
       "      <td>0</td>\n",
       "      <td>49</td>\n",
       "      <td>25.30</td>\n",
       "      <td>97.20</td>\n",
       "      <td>52</td>\n",
       "      <td>1</td>\n",
       "    </tr>\n",
       "    <tr>\n",
       "      <th>1</th>\n",
       "      <td>144</td>\n",
       "      <td>0.01</td>\n",
       "      <td>4.41</td>\n",
       "      <td>28.61</td>\n",
       "      <td>1</td>\n",
       "      <td>55</td>\n",
       "      <td>28.87</td>\n",
       "      <td>2.06</td>\n",
       "      <td>63</td>\n",
       "      <td>1</td>\n",
       "    </tr>\n",
       "    <tr>\n",
       "      <th>2</th>\n",
       "      <td>118</td>\n",
       "      <td>0.08</td>\n",
       "      <td>3.48</td>\n",
       "      <td>32.28</td>\n",
       "      <td>0</td>\n",
       "      <td>52</td>\n",
       "      <td>29.14</td>\n",
       "      <td>3.81</td>\n",
       "      <td>46</td>\n",
       "      <td>0</td>\n",
       "    </tr>\n",
       "    <tr>\n",
       "      <th>3</th>\n",
       "      <td>170</td>\n",
       "      <td>7.50</td>\n",
       "      <td>6.41</td>\n",
       "      <td>38.03</td>\n",
       "      <td>0</td>\n",
       "      <td>51</td>\n",
       "      <td>31.99</td>\n",
       "      <td>24.26</td>\n",
       "      <td>58</td>\n",
       "      <td>1</td>\n",
       "    </tr>\n",
       "    <tr>\n",
       "      <th>4</th>\n",
       "      <td>134</td>\n",
       "      <td>13.60</td>\n",
       "      <td>3.50</td>\n",
       "      <td>27.78</td>\n",
       "      <td>0</td>\n",
       "      <td>60</td>\n",
       "      <td>25.99</td>\n",
       "      <td>57.34</td>\n",
       "      <td>49</td>\n",
       "      <td>1</td>\n",
       "    </tr>\n",
       "  </tbody>\n",
       "</table>\n",
       "</div>"
      ],
      "text/plain": [
       "   sbp  tabaco   ldl  adiposity  familia  tipo  obesidad  alcohol  edad  chd\n",
       "0  160   12.00  5.73      23.11        0    49     25.30    97.20    52    1\n",
       "1  144    0.01  4.41      28.61        1    55     28.87     2.06    63    1\n",
       "2  118    0.08  3.48      32.28        0    52     29.14     3.81    46    0\n",
       "3  170    7.50  6.41      38.03        0    51     31.99    24.26    58    1\n",
       "4  134   13.60  3.50      27.78        0    60     25.99    57.34    49    1"
      ]
     },
     "execution_count": 23,
     "metadata": {},
     "output_type": "execute_result"
    }
   ],
   "source": [
    "encoder = LabelEncoder()\n",
    "data['familia']=encoder.fit_transform(data['familia'])\n",
    "data['chd']=encoder.fit_transform(data['chd'])\n",
    "data.head()"
   ]
  },
  {
   "cell_type": "code",
   "execution_count": 24,
   "id": "fafae536-6d49-4bb2-9697-5aa5a487b235",
   "metadata": {},
   "outputs": [],
   "source": [
    "# cambiar los datos de sbp importando:\n",
    "from sklearn.preprocessing import MinMaxScaler"
   ]
  },
  {
   "cell_type": "code",
   "execution_count": 27,
   "id": "3f2b6872-83aa-4129-a2dc-c34bfdd04cfc",
   "metadata": {},
   "outputs": [],
   "source": [
    "scale = MinMaxScaler(feature_range = (0,100))"
   ]
  },
  {
   "cell_type": "code",
   "execution_count": 29,
   "id": "bae46a97-8090-46ec-988b-64e2e20c4dfb",
   "metadata": {},
   "outputs": [],
   "source": [
    "data['sbp'] = scale.fit_transform(data['sbp'].values.reshape(-1,1))"
   ]
  },
  {
   "cell_type": "code",
   "execution_count": 30,
   "id": "1f5ac7de-9486-4636-8fe9-06bdf0550555",
   "metadata": {},
   "outputs": [
    {
     "data": {
      "text/html": [
       "<div>\n",
       "<style scoped>\n",
       "    .dataframe tbody tr th:only-of-type {\n",
       "        vertical-align: middle;\n",
       "    }\n",
       "\n",
       "    .dataframe tbody tr th {\n",
       "        vertical-align: top;\n",
       "    }\n",
       "\n",
       "    .dataframe thead th {\n",
       "        text-align: right;\n",
       "    }\n",
       "</style>\n",
       "<table border=\"1\" class=\"dataframe\">\n",
       "  <thead>\n",
       "    <tr style=\"text-align: right;\">\n",
       "      <th></th>\n",
       "      <th>sbp</th>\n",
       "      <th>tabaco</th>\n",
       "      <th>ldl</th>\n",
       "      <th>adiposity</th>\n",
       "      <th>familia</th>\n",
       "      <th>tipo</th>\n",
       "      <th>obesidad</th>\n",
       "      <th>alcohol</th>\n",
       "      <th>edad</th>\n",
       "      <th>chd</th>\n",
       "    </tr>\n",
       "  </thead>\n",
       "  <tbody>\n",
       "    <tr>\n",
       "      <th>0</th>\n",
       "      <td>50.427350</td>\n",
       "      <td>12.00</td>\n",
       "      <td>5.73</td>\n",
       "      <td>23.11</td>\n",
       "      <td>0</td>\n",
       "      <td>49</td>\n",
       "      <td>25.30</td>\n",
       "      <td>97.20</td>\n",
       "      <td>52</td>\n",
       "      <td>1</td>\n",
       "    </tr>\n",
       "    <tr>\n",
       "      <th>1</th>\n",
       "      <td>36.752137</td>\n",
       "      <td>0.01</td>\n",
       "      <td>4.41</td>\n",
       "      <td>28.61</td>\n",
       "      <td>1</td>\n",
       "      <td>55</td>\n",
       "      <td>28.87</td>\n",
       "      <td>2.06</td>\n",
       "      <td>63</td>\n",
       "      <td>1</td>\n",
       "    </tr>\n",
       "    <tr>\n",
       "      <th>2</th>\n",
       "      <td>14.529915</td>\n",
       "      <td>0.08</td>\n",
       "      <td>3.48</td>\n",
       "      <td>32.28</td>\n",
       "      <td>0</td>\n",
       "      <td>52</td>\n",
       "      <td>29.14</td>\n",
       "      <td>3.81</td>\n",
       "      <td>46</td>\n",
       "      <td>0</td>\n",
       "    </tr>\n",
       "    <tr>\n",
       "      <th>3</th>\n",
       "      <td>58.974359</td>\n",
       "      <td>7.50</td>\n",
       "      <td>6.41</td>\n",
       "      <td>38.03</td>\n",
       "      <td>0</td>\n",
       "      <td>51</td>\n",
       "      <td>31.99</td>\n",
       "      <td>24.26</td>\n",
       "      <td>58</td>\n",
       "      <td>1</td>\n",
       "    </tr>\n",
       "    <tr>\n",
       "      <th>4</th>\n",
       "      <td>28.205128</td>\n",
       "      <td>13.60</td>\n",
       "      <td>3.50</td>\n",
       "      <td>27.78</td>\n",
       "      <td>0</td>\n",
       "      <td>60</td>\n",
       "      <td>25.99</td>\n",
       "      <td>57.34</td>\n",
       "      <td>49</td>\n",
       "      <td>1</td>\n",
       "    </tr>\n",
       "  </tbody>\n",
       "</table>\n",
       "</div>"
      ],
      "text/plain": [
       "         sbp  tabaco   ldl  adiposity  familia  tipo  obesidad  alcohol  edad  \\\n",
       "0  50.427350   12.00  5.73      23.11        0    49     25.30    97.20    52   \n",
       "1  36.752137    0.01  4.41      28.61        1    55     28.87     2.06    63   \n",
       "2  14.529915    0.08  3.48      32.28        0    52     29.14     3.81    46   \n",
       "3  58.974359    7.50  6.41      38.03        0    51     31.99    24.26    58   \n",
       "4  28.205128   13.60  3.50      27.78        0    60     25.99    57.34    49   \n",
       "\n",
       "   chd  \n",
       "0    1  \n",
       "1    1  \n",
       "2    0  \n",
       "3    1  \n",
       "4    1  "
      ]
     },
     "execution_count": 30,
     "metadata": {},
     "output_type": "execute_result"
    }
   ],
   "source": [
    "data.head()"
   ]
  },
  {
   "cell_type": "code",
   "execution_count": 31,
   "id": "651afe7e-e1cf-4e01-b329-124c07630447",
   "metadata": {},
   "outputs": [],
   "source": [
    "# Ahora visualizaremos algunos gráficos"
   ]
  },
  {
   "cell_type": "code",
   "execution_count": 32,
   "id": "d72887e9-ca50-4427-9c21-36c687ff83b7",
   "metadata": {},
   "outputs": [
    {
     "data": {
      "text/plain": [
       "<AxesSubplot:xlabel='edad', ylabel='obesidad'>"
      ]
     },
     "execution_count": 32,
     "metadata": {},
     "output_type": "execute_result"
    },
    {
     "data": {
      "image/png": "[encoded data removed]",
      "text/plain": [
       "<Figure size 720x360 with 1 Axes>"
      ]
     },
     "metadata": {
      "needs_background": "light"
     },
     "output_type": "display_data"
    }
   ],
   "source": [
    "# Obesidad vs edad\n",
    "data.plot(x='edad', y='obesidad', kind = 'scatter', figsize = (10,5))"
   ]
  },
  {
   "cell_type": "code",
   "execution_count": 33,
   "id": "f86af8bd-91dc-48c8-8fe3-d0a20a878dd0",
   "metadata": {},
   "outputs": [
    {
     "data": {
      "text/plain": [
       "<AxesSubplot:xlabel='edad', ylabel='tabaco'>"
      ]
     },
     "execution_count": 33,
     "metadata": {},
     "output_type": "execute_result"
    },
    {
     "data": {
      "image/png": "[encoded data removed]",
      "text/plain": [
       "<Figure size 720x360 with 1 Axes>"
      ]
     },
     "metadata": {
      "needs_background": "light"
     },
     "output_type": "display_data"
    }
   ],
   "source": [
    "# Obesidad vs edad\n",
    "data.plot(x='edad', y='tabaco', kind = 'scatter', figsize = (10,5))"
   ]
  },
  {
   "cell_type": "code",
   "execution_count": 34,
   "id": "0e0c9f34-0608-49aa-a94a-1267c4e9ef6f",
   "metadata": {},
   "outputs": [
    {
     "data": {
      "text/plain": [
       "<AxesSubplot:xlabel='edad', ylabel='alcohol'>"
      ]
     },
     "execution_count": 34,
     "metadata": {},
     "output_type": "execute_result"
    },
    {
     "data": {
      "image/png": "[encoded data removed]",
      "text/plain": [
       "<Figure size 720x360 with 1 Axes>"
      ]
     },
     "metadata": {
      "needs_background": "light"
     },
     "output_type": "display_data"
    }
   ],
   "source": [
    "# Obesidad vs edad\n",
    "data.plot(x='edad', y='alcohol', kind = 'scatter', figsize = (10,5))"
   ]
  },
  {
   "cell_type": "markdown",
   "id": "f50d8a77-2612-43d5-abbe-1f34bcf4d46c",
   "metadata": {},
   "source": [
    "# Ahora vamos al modelo"
   ]
  },
  {
   "cell_type": "code",
   "execution_count": 49,
   "id": "e5abdfd8-c2d3-4e11-9e35-533265688dad",
   "metadata": {},
   "outputs": [],
   "source": [
    "# Importamos para nuetsro analisis de machine learning\n",
    "from sklearn.model_selection import train_test_split #separa datos de entrenamiento y prueba\n",
    "from sklearn import svm #algoritmo a utilizar (maquinas de vectores de soporte, porque es un problema de clasificacion, porque queremos predecir, si existe alguna enfermedad al corazon o no)\n",
    "from sklearn.metrics import confusion_matrix #funcion para evaluar el modelo que obtengamos\n",
    "from sklearn.metrics import accuracy_score, precision_score #funcion para evaluar el modelo que obtengamos\n",
    "from sklearn.metrics import recall_score #función sensibilidad entre positivos\n",
    "from sklearn.metrics import f1_score #medida armonica de la memoria y la precision, con una puntuacion más alta como mejor modelo"
   ]
  },
  {
   "cell_type": "code",
   "execution_count": 38,
   "id": "a0854f39-f52a-4954-b83c-9de040d2c52a",
   "metadata": {},
   "outputs": [],
   "source": [
    " # Definir variables dependientes e independientes\n",
    "y = data['chd']\n",
    "X = data.drop('chd',axis=1)"
   ]
  },
  {
   "cell_type": "code",
   "execution_count": 39,
   "id": "46980539-bbd9-44e1-9eb7-b6fb15fd632f",
   "metadata": {},
   "outputs": [],
   "source": [
    "# Separar los datos de entrenamiento y de prueba\n",
    "X_train, X_test, y_train, y_test = train_test_split(X,y,test_size = 0.20, random_state=1)"
   ]
  },
  {
   "cell_type": "code",
   "execution_count": 40,
   "id": "fa8b169e-87a6-43e0-b368-9daaeabe140f",
   "metadata": {},
   "outputs": [],
   "source": [
    "# Definir el algoritmo\n",
    "algoritmo = svm.SVC(kernel = 'linear')"
   ]
  },
  {
   "cell_type": "code",
   "execution_count": 41,
   "id": "6e6a1b67-fc55-41ff-af62-5f332ea85d8f",
   "metadata": {},
   "outputs": [
    {
     "data": {
      "text/plain": [
       "SVC(kernel='linear')"
      ]
     },
     "execution_count": 41,
     "metadata": {},
     "output_type": "execute_result"
    }
   ],
   "source": [
    "# Entrenamos el modelo\n",
    "algoritmo.fit(X_train, y_train)"
   ]
  },
  {
   "cell_type": "code",
   "execution_count": 42,
   "id": "1d5b1c34-e277-4aa6-856d-461748e2f894",
   "metadata": {},
   "outputs": [],
   "source": [
    "# realizar una predicción\n",
    "y_test_pred = algoritmo.predict(X_test)"
   ]
  },
  {
   "cell_type": "code",
   "execution_count": 43,
   "id": "1a9029f6-ef05-4af8-84a4-46170d688c7b",
   "metadata": {},
   "outputs": [
    {
     "name": "stdout",
     "output_type": "stream",
     "text": [
      "[[57  9]\n",
      " [17 10]]\n"
     ]
    }
   ],
   "source": [
    "# Se calcula la matriz de confusión\n",
    "print(confusion_matrix(y_test,y_test_pred))"
   ]
  },
  {
   "cell_type": "code",
   "execution_count": 44,
   "id": "5d93382e-9d98-4310-9e1d-67a0da906fc4",
   "metadata": {},
   "outputs": [],
   "source": [
    "# En la diagonal principal tenemos 67 datos correctos (57+10)\n",
    "# En la diagonal secundaria tenemos 26 datos incorrectos (9+17)"
   ]
  },
  {
   "cell_type": "code",
   "execution_count": 50,
   "id": "ca26c7d6-ab98-4f49-a910-442af03133a9",
   "metadata": {},
   "outputs": [
    {
     "data": {
      "text/plain": [
       "(0.7204301075268817,\n",
       " 0.5263157894736842,\n",
       " 0.37037037037037035,\n",
       " 0.43478260869565216)"
      ]
     },
     "execution_count": 50,
     "metadata": {},
     "output_type": "execute_result"
    }
   ],
   "source": [
    "# Calculamos exactitud (relación predic correctas / total predic) y precisión (relación entre las pred correctas y el total de pred correctas previstas) del modelo\n",
    "accuracy_score(y_test, y_test_pred), precision_score(y_test, y_test_pred), recall_score(y_test, y_test_pred), f1_score(y_test, y_test_pred)"
   ]
  },
  {
   "cell_type": "code",
   "execution_count": null,
   "id": "77239f88-605c-470b-85fd-6bddb98688f3",
   "metadata": {},
   "outputs": [],
   "source": []
  }
 ],
 "metadata": {
  "kernelspec": {
   "display_name": "Python 3 (ipykernel)",
   "language": "python",
   "name": "python3"
  },
  "language_info": {
   "codemirror_mode": {
    "name": "ipython",
    "version": 3
   },
   "file_extension": ".py",
   "mimetype": "text/x-python",
   "name": "python",
   "nbconvert_exporter": "python",
   "pygments_lexer": "ipython3",
   "version": "3.9.12"
  }
 },
 "nbformat": 4,
 "nbformat_minor": 5
}
