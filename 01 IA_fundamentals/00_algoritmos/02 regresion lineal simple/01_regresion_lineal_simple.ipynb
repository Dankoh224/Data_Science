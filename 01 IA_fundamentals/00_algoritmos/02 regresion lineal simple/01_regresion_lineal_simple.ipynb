{
 "cells": [
  {
   "cell_type": "markdown",
   "id": "a438bc38-33e8-407f-8725-6f83193d660f",
   "metadata": {},
   "source": [
    "# Regresión Lineal Simple\n",
    "1. respuesta: la varible que tratamos de predecir, es decir “y”.\n",
    "2. var independiente: es simplemente “x”.\n",
    "3. itercepto (inicio): la interseccion de la linea de regresion, es decir el valor pronosticado.\n",
    "4. registro:el vector de predictor y valores de resultado para un individuo o caso especifico.\n",
    "5. coeficiente de regresion: la pendiente."
   ]
  },
  {
   "cell_type": "code",
   "execution_count": 18,
   "id": "638b8b38-5676-4ee6-b04e-63ac202179a9",
   "metadata": {
    "tags": []
   },
   "outputs": [],
   "source": [
    "import pandas as pd\n",
    "from sklearn.linear_model import LinearRegression"
   ]
  },
  {
   "cell_type": "code",
   "execution_count": 21,
   "id": "91ec7e14-299b-45b8-8510-9cd280af5138",
   "metadata": {},
   "outputs": [],
   "source": [
    "data = pd.read_csv(\"Salary_Data.csv\")"
   ]
  },
  {
   "cell_type": "code",
   "execution_count": 22,
   "id": "5699d15f-cbf6-4725-af95-856777e9f358",
   "metadata": {},
   "outputs": [
    {
     "data": {
      "text/plain": [
       "LinearRegression()"
      ]
     },
     "execution_count": 22,
     "metadata": {},
     "output_type": "execute_result"
    }
   ],
   "source": [
    "predictors = [\"YearsExperience\"]\n",
    "outcome = \"Salary\"\n",
    "\n",
    "model = LinearRegression()\n",
    "\n",
    "model.fit(data[predictors], data[outcome])"
   ]
  },
  {
   "cell_type": "code",
   "execution_count": 27,
   "id": "fe0a8112-3d96-4b8d-a3ea-1dacfe171ca8",
   "metadata": {},
   "outputs": [],
   "source": [
    "intercepto = model.intercept_"
   ]
  },
  {
   "cell_type": "code",
   "execution_count": 28,
   "id": "f7e0ffda-eb3a-4f86-ba9f-c3a2b5383a6b",
   "metadata": {},
   "outputs": [],
   "source": [
    "coeficiente = model.coef_[0]"
   ]
  },
  {
   "cell_type": "code",
   "execution_count": 26,
   "id": "5497e5ce-dca6-4785-9d2d-97a39a169be9",
   "metadata": {},
   "outputs": [],
   "source": [
    "# Prediccion de una persona con 10 años de experiencia."
   ]
  },
  {
   "cell_type": "code",
   "execution_count": 29,
   "id": "da6f99c6-6f73-4e76-bb89-667cdb492d45",
   "metadata": {},
   "outputs": [
    {
     "data": {
      "text/plain": [
       "120291.82341321945"
      ]
     },
     "execution_count": 29,
     "metadata": {},
     "output_type": "execute_result"
    }
   ],
   "source": [
    "y = coeficiente * (10) + intercepto\n",
    "y"
   ]
  },
  {
   "cell_type": "code",
   "execution_count": null,
   "id": "a3c6a2e1-d640-47ab-acd8-71880ce4dbec",
   "metadata": {},
   "outputs": [],
   "source": []
  }
 ],
 "metadata": {
  "kernelspec": {
   "display_name": "Python 3 (ipykernel)",
   "language": "python",
   "name": "python3"
  },
  "language_info": {
   "codemirror_mode": {
    "name": "ipython",
    "version": 3
   },
   "file_extension": ".py",
   "mimetype": "text/x-python",
   "name": "python",
   "nbconvert_exporter": "python",
   "pygments_lexer": "ipython3",
   "version": "3.9.12"
  }
 },
 "nbformat": 4,
 "nbformat_minor": 5
}
