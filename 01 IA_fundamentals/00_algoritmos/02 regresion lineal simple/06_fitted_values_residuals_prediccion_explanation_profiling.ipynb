{
 "cells": [
  {
   "cell_type": "markdown",
   "id": "6598ddbc-c04a-466c-b218-1bc258b0d71e",
   "metadata": {},
   "source": [
    "# Fitted values y Residuals value: otra forma para para predecir."
   ]
  },
  {
   "cell_type": "code",
   "execution_count": 4,
   "id": "51ab6185-9530-4c28-a167-5f399e25c684",
   "metadata": {},
   "outputs": [
    {
     "data": {
      "text/plain": [
       "LinearRegression()"
      ]
     },
     "execution_count": 4,
     "metadata": {},
     "output_type": "execute_result"
    }
   ],
   "source": [
    "import numpy as np\n",
    "import pandas as pd\n",
    "from sklearn.linear_model import LinearRegression\n",
    "import matplotlib.pyplot as plt\n",
    "\n",
    "data = pd.read_csv(\"Salary_Data.csv\") #leer los datos\n",
    "predictors = [\"YearsExperience\"] # valores \"x\" del diagrama de puntos.\n",
    "outcome = \"Salary\" # valores \"y\" del diagrama de puntos\n",
    "\n",
    "model = LinearRegression() # modelo obtenido desde sklearn\n",
    "model.fit(data[predictors], data[outcome]) # fit es la función que entrenará el modelo. Se ingresa \"x\" e \"y\"."
   ]
  },
  {
   "cell_type": "markdown",
   "id": "bb6f6610-edae-4cdb-898e-999770b5d097",
   "metadata": {},
   "source": [
    "#### Nota: el texto anterior \"LinearRegression()\" indica que ya ha sido entrenado nuestro modelo."
   ]
  },
  {
   "cell_type": "markdown",
   "id": "d040b0d7-9bd3-48e7-9ebe-3cd4f9e82448",
   "metadata": {},
   "source": [
    "# Valores predecidos (regresión lineal)"
   ]
  },
  {
   "cell_type": "code",
   "execution_count": 17,
   "id": "ab903c7d-4eca-40d8-a5b8-80ca22d76e1a",
   "metadata": {},
   "outputs": [
    {
     "name": "stderr",
     "output_type": "stream",
     "text": [
      "C:\\Users\\Danko\\anaconda3\\lib\\site-packages\\sklearn\\base.py:450: UserWarning: X does not have valid feature names, but LinearRegression was fitted with feature names\n",
      "  warnings.warn(\n"
     ]
    },
    {
     "data": {
      "text/plain": [
       "array([25792.20019867, 35242.16252012, 44692.12484158, 54142.08716303,\n",
       "       63592.04948449, 73042.01180594])"
      ]
     },
     "execution_count": 17,
     "metadata": {},
     "output_type": "execute_result"
    }
   ],
   "source": [
    "predicted = model.predict(pd.DataFrame([0,1,2,3,4,5])) # valor o valores predecidos mediante la regresión lineal\n",
    "predicted"
   ]
  },
  {
   "cell_type": "markdown",
   "id": "ab76c94f-c0e6-416e-b2b5-4f0593ad2f2a",
   "metadata": {},
   "source": [
    "# Fitted Values o pronósticos: son los valores \"y\" de la predicción al usar los predictores reales del entrenamiento."
   ]
  },
  {
   "cell_type": "code",
   "execution_count": 21,
   "id": "14ac6825-1afc-4332-b76b-787d46371d5e",
   "metadata": {},
   "outputs": [
    {
     "data": {
      "text/plain": [
       "array([ 36187.15875227,  38077.15121656,  39967.14368085,  44692.12484158,\n",
       "        46582.11730587,  53197.09093089,  54142.08716303,  56032.07962732,\n",
       "        56032.07962732,  60757.06078805,  62647.05325234,  63592.04948449,\n",
       "        63592.04948449,  64537.04571663,  68317.03064522,  72097.0155738 ,\n",
       "        73987.00803809,  75877.00050238,  81546.97789525,  82491.9741274 ,\n",
       "        90051.94398456,  92886.932681  , 100446.90253816, 103281.8912346 ,\n",
       "       108006.87239533, 110841.86109176, 115566.84225249, 116511.83848464,\n",
       "       123126.81210966, 125016.80457395])"
      ]
     },
     "execution_count": 21,
     "metadata": {},
     "output_type": "execute_result"
    }
   ],
   "source": [
    "fitted = model.predict(data[predictors])\n",
    "fitted"
   ]
  },
  {
   "cell_type": "markdown",
   "id": "d9f4d16d-69f8-41a2-8ee8-05789e077cb4",
   "metadata": {},
   "source": [
    "# Residuals: son la diferencia entre los valores reales y los valores de la predicción"
   ]
  },
  {
   "cell_type": "code",
   "execution_count": 19,
   "id": "f30e8e57-7741-4712-88f7-c3e1e4acb312",
   "metadata": {},
   "outputs": [
    {
     "data": {
      "text/plain": [
       "0      3155.841248\n",
       "1      8127.848783\n",
       "2     -2236.143681\n",
       "3     -1167.124842\n",
       "4     -6691.117306\n",
       "5      3444.909069\n",
       "6      6007.912837\n",
       "7     -1587.079627\n",
       "8      8412.920373\n",
       "9     -3568.060788\n",
       "10      570.946748\n",
       "11    -7798.049484\n",
       "12    -6635.049484\n",
       "13    -7456.045717\n",
       "14    -7206.030645\n",
       "15    -4159.015574\n",
       "16    -7958.008038\n",
       "17     7210.999498\n",
       "18     -183.977895\n",
       "19    11448.025873\n",
       "20     1686.056015\n",
       "21     5386.067319\n",
       "22      855.097462\n",
       "23    10530.108765\n",
       "24     1424.127605\n",
       "25    -5259.861092\n",
       "26     1402.157748\n",
       "27    -3876.838485\n",
       "28     -735.812110\n",
       "29    -3144.804574\n",
       "Name: Salary, dtype: float64"
      ]
     },
     "execution_count": 19,
     "metadata": {},
     "output_type": "execute_result"
    }
   ],
   "source": [
    "residuals = data[outcome] - fitted\n",
    "residuals"
   ]
  },
  {
   "cell_type": "markdown",
   "id": "bd1d777e-20e6-4eea-b7d6-ea6f4cd82572",
   "metadata": {},
   "source": [
    "# Predicción v/s Explanation (Profiling)"
   ]
  },
  {
   "cell_type": "code",
   "execution_count": null,
   "id": "ae5eef4b-8abc-4658-b516-8e94d22a1735",
   "metadata": {},
   "outputs": [],
   "source": []
  }
 ],
 "metadata": {
  "kernelspec": {
   "display_name": "Python 3 (ipykernel)",
   "language": "python",
   "name": "python3"
  },
  "language_info": {
   "codemirror_mode": {
    "name": "ipython",
    "version": 3
   },
   "file_extension": ".py",
   "mimetype": "text/x-python",
   "name": "python",
   "nbconvert_exporter": "python",
   "pygments_lexer": "ipython3",
   "version": "3.9.12"
  }
 },
 "nbformat": 4,
 "nbformat_minor": 5
}
