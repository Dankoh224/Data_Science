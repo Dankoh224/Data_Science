{
 "cells": [
  {
   "cell_type": "markdown",
   "id": "6598ddbc-c04a-466c-b218-1bc258b0d71e",
   "metadata": {},
   "source": [
    "# Gráfico de la regresión lineal de los salarios de personas entre 0 y 20 años."
   ]
  },
  {
   "cell_type": "code",
   "execution_count": 33,
   "id": "51ab6185-9530-4c28-a167-5f399e25c684",
   "metadata": {},
   "outputs": [
    {
     "data": {
      "text/plain": [
       "LinearRegression()"
      ]
     },
     "execution_count": 33,
     "metadata": {},
     "output_type": "execute_result"
    }
   ],
   "source": [
    "import numpy as np\n",
    "import pandas as pd\n",
    "from sklearn.linear_model import LinearRegression\n",
    "import matplotlib.pyplot as plt\n",
    "\n",
    "data = pd.read_csv(\"Salary_Data.csv\") #leer los datos\n",
    "predictors = [\"YearsExperience\"] # valores \"x\" del diagrama de puntos.\n",
    "outcome = \"Salary\" # valores \"y\" del diagrama de puntos\n",
    "\n",
    "model = LinearRegression() # modelo obtenido desde sklearn\n",
    "model.fit(data[predictors], data[outcome]) # fit es la función que entrenará el modelo. Se ingresa \"x\" e \"y\"."
   ]
  },
  {
   "cell_type": "markdown",
   "id": "bb6f6610-edae-4cdb-898e-999770b5d097",
   "metadata": {},
   "source": [
    "#### Nota: el texto anterior \"LinearRegression()\" indica que ya ha sido entrenado nuestro modelo."
   ]
  },
  {
   "cell_type": "code",
   "execution_count": 34,
   "id": "6e0f653f-3a6c-4957-884e-f892b8be7125",
   "metadata": {},
   "outputs": [],
   "source": [
    "intercepto = model.intercept_ # método entrega la intersección con el eje \"y\" \n",
    "coeficiente = model.coef_[0] # método entrega la pendiente de la recta\n",
    "y = coeficiente * x + intercepto # ecuación de la recta"
   ]
  },
  {
   "cell_type": "markdown",
   "id": "ea16d9f4-d54e-47cb-a76d-4c04d4b610da",
   "metadata": {},
   "source": [
    "#### Predicción y gráfico de la regresión lineal del sueldo de personas entre 0 y 20 años de experiencia."
   ]
  },
  {
   "cell_type": "code",
   "execution_count": 35,
   "id": "9d2080e2-e384-4086-9720-983d3e6c0600",
   "metadata": {},
   "outputs": [
    {
     "data": {
      "image/png": "[encoded data removed]",
      "text/plain": [
       "<Figure size 432x288 with 1 Axes>"
      ]
     },
     "metadata": {
      "needs_background": "light"
     },
     "output_type": "display_data"
    }
   ],
   "source": [
    "x = np.arange(20) # 20 valores \"x\" para ingresar a la función\n",
    "plt.plot(x,y) # ploteo de los valores (x,y)\n",
    "plt.show() # graficar."
   ]
  },
  {
   "cell_type": "code",
   "execution_count": null,
   "id": "93a1db69-b0e9-4846-9b87-70d9f68b2a81",
   "metadata": {},
   "outputs": [],
   "source": []
  },
  {
   "cell_type": "code",
   "execution_count": null,
   "id": "11d7757e-dafc-4b21-84a5-47cefeb8647c",
   "metadata": {},
   "outputs": [],
   "source": []
  },
  {
   "cell_type": "code",
   "execution_count": null,
   "id": "a65af90d-4776-480f-bec3-1863dd494907",
   "metadata": {},
   "outputs": [],
   "source": []
  }
 ],
 "metadata": {
  "kernelspec": {
   "display_name": "Python 3 (ipykernel)",
   "language": "python",
   "name": "python3"
  },
  "language_info": {
   "codemirror_mode": {
    "name": "ipython",
    "version": 3
   },
   "file_extension": ".py",
   "mimetype": "text/x-python",
   "name": "python",
   "nbconvert_exporter": "python",
   "pygments_lexer": "ipython3",
   "version": "3.9.12"
  }
 },
 "nbformat": 4,
 "nbformat_minor": 5
}
