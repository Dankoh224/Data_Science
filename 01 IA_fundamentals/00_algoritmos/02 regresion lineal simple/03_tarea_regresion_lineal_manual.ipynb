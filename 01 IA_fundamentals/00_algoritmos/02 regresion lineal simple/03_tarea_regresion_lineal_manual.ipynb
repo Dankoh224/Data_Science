{
 "cells": [
  {
   "cell_type": "markdown",
   "id": "ec307838-b463-4c5f-bfe9-a4a15f5dbe33",
   "metadata": {},
   "source": [
    "## Tarea"
   ]
  },
  {
   "cell_type": "markdown",
   "id": "b955e29d-591d-4b5f-8a8c-b5affb9cd6be",
   "metadata": {},
   "source": [
    "#### Hallar la regresión lineal"
   ]
  },
  {
   "cell_type": "code",
   "execution_count": 2,
   "id": "67f4ac6b-e8e6-4ae4-8e3a-66afd02b3beb",
   "metadata": {},
   "outputs": [],
   "source": [
    "import numpy as np\n",
    "import pandas as pd"
   ]
  },
  {
   "cell_type": "code",
   "execution_count": 43,
   "id": "d6f5662c-1345-479a-b889-9891c53eece4",
   "metadata": {},
   "outputs": [],
   "source": [
    "data = pd.read_csv(\"Salary_Data.csv\")"
   ]
  },
  {
   "cell_type": "code",
   "execution_count": 32,
   "id": "8a65f699-eecd-4357-be97-905bc1b50dd3",
   "metadata": {},
   "outputs": [],
   "source": [
    "x = data[\"YearsExperience\"]\n",
    "y = data[\"Salary\"]\n",
    "xy = x*y"
   ]
  },
  {
   "cell_type": "code",
   "execution_count": 27,
   "id": "56b20618-1d56-45b0-ad81-d63083bcf7ec",
   "metadata": {},
   "outputs": [],
   "source": [
    "suma_x = x.sum()\n",
    "suma_y = y.sum()"
   ]
  },
  {
   "cell_type": "code",
   "execution_count": 33,
   "id": "81b5c36f-58dd-4af3-8ab0-60f00d028c33",
   "metadata": {},
   "outputs": [],
   "source": [
    "n = x.size"
   ]
  },
  {
   "cell_type": "code",
   "execution_count": 38,
   "id": "46567331-975e-4269-ad38-2f424fcfb083",
   "metadata": {},
   "outputs": [],
   "source": [
    "b = (n * xy.sum() - suma_x * suma_y)/(n * (x**2).sum() - suma_x ** 2)"
   ]
  },
  {
   "cell_type": "code",
   "execution_count": 39,
   "id": "208097d0-a69f-4083-810e-f135c8eb4616",
   "metadata": {},
   "outputs": [],
   "source": [
    "y_promedio = suma_y / n\n",
    "x_promedio = suma_x / n"
   ]
  },
  {
   "cell_type": "code",
   "execution_count": 40,
   "id": "b5a4a021-6414-4a63-af30-5acf072c03b2",
   "metadata": {},
   "outputs": [],
   "source": [
    "a = y_promedio - b * x_promedio"
   ]
  },
  {
   "cell_type": "code",
   "execution_count": 42,
   "id": "70b6d63d-aa3c-4583-913a-d95d0d020f94",
   "metadata": {},
   "outputs": [
    {
     "data": {
      "text/plain": [
       "120291.82341321948"
      ]
     },
     "execution_count": 42,
     "metadata": {},
     "output_type": "execute_result"
    }
   ],
   "source": [
    "y_c = a + b * (10)\n",
    "y_c"
   ]
  },
  {
   "cell_type": "code",
   "execution_count": null,
   "id": "628fcf3c-1d49-448b-aab9-ed936a34044f",
   "metadata": {},
   "outputs": [],
   "source": []
  }
 ],
 "metadata": {
  "kernelspec": {
   "display_name": "Python 3 (ipykernel)",
   "language": "python",
   "name": "python3"
  },
  "language_info": {
   "codemirror_mode": {
    "name": "ipython",
    "version": 3
   },
   "file_extension": ".py",
   "mimetype": "text/x-python",
   "name": "python",
   "nbconvert_exporter": "python",
   "pygments_lexer": "ipython3",
   "version": "3.9.12"
  }
 },
 "nbformat": 4,
 "nbformat_minor": 5
}
