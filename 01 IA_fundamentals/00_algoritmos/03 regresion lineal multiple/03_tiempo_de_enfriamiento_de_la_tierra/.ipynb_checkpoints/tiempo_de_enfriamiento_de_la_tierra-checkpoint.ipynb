{
 "cells": [
  {
   "cell_type": "markdown",
   "id": "4019c11b-6e2a-4c1f-ae01-7e39a2383f81",
   "metadata": {},
   "source": [
    "### Este estudio se basará en tomar diferentes sustancias no destruibles por el fuego, previamente pesadas para obtener su masa , para subir su temperatura mediante exposición a un calor constante y calcular el tiempo que demora en enfriarse. De esta manera podríamos predecir cuanto demora la tierra en bajar su temperatura, tomando como variables predictoras la temperatura a la que se encuentra el objeto en el momento que se le deja de aplicar calor y la masa del objeto. De esta manera, sabiendo qué temperatura existio en un momento determinado por la ciencia, más la masa de la tierra, podríamos descubrir si la ciencia determinó correctamente el tiempo de enfriamiento de la tierra."
   ]
  },
  {
   "cell_type": "code",
   "execution_count": null,
   "id": "826ccae0-aaa7-4765-aadb-ecb422fc68fa",
   "metadata": {},
   "outputs": [],
   "source": [
    " "
   ]
  }
 ],
 "metadata": {
  "kernelspec": {
   "display_name": "Python 3 (ipykernel)",
   "language": "python",
   "name": "python3"
  },
  "language_info": {
   "codemirror_mode": {
    "name": "ipython",
    "version": 3
   },
   "file_extension": ".py",
   "mimetype": "text/x-python",
   "name": "python",
   "nbconvert_exporter": "python",
   "pygments_lexer": "ipython3",
   "version": "3.9.12"
  }
 },
 "nbformat": 4,
 "nbformat_minor": 5
}
