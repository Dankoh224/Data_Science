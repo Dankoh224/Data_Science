{
 "cells": [
  {
   "cell_type": "markdown",
   "id": "8018d230-a0be-43d4-91dc-9764210360a9",
   "metadata": {},
   "source": [
    "# Test A/B"
   ]
  },
  {
   "cell_type": "code",
   "execution_count": 2,
   "id": "4fcf9115-bbf1-46c5-8174-e55539f3dab0",
   "metadata": {},
   "outputs": [],
   "source": [
    "# Carga de paquetes y datos\n",
    "import pandas as pd\n",
    "import numpy as np\n",
    "from statsmodels.stats.proportion import proportions_ztest"
   ]
  },
  {
   "cell_type": "code",
   "execution_count": null,
   "id": "573b7df8-6a59-4c49-b638-5a2d4bf7453f",
   "metadata": {},
   "outputs": [],
   "source": [
    "# Paso 1: definimos las hipótesis\n",
    "# H0: Las ventas en ambas páginas son estadísticamente iguales\n",
    "# H1: Las ventas en ambas páginas son significativamente diferentes"
   ]
  },
  {
   "cell_type": "code",
   "execution_count": 3,
   "id": "c2a387d5-0c15-42ee-bae9-bd49fb8b355b",
   "metadata": {},
   "outputs": [],
   "source": [
    "# Paso 2: elegimos un nivel de confianza que nos da un alpha.\n",
    "# Elegimos NC = 95%\n",
    "alpha = 0.05"
   ]
  },
  {
   "cell_type": "code",
   "execution_count": 4,
   "id": "d5296992-9c03-4798-9cea-f32c11600239",
   "metadata": {},
   "outputs": [
    {
     "name": "stdout",
     "output_type": "stream",
     "text": [
      "0.023\n"
     ]
    }
   ],
   "source": [
    "# Paso 3: calculamos el pvalor según el estadístico de contraste elegido (z sobre dos muestras)\n",
    "ventas_a = 38\n",
    "ventas_b = 60\n",
    "muestra_a = 1000\n",
    "muestra_b = 1000\n",
    "\n",
    "# Lo pasamos a array porque así lo pide la función\n",
    "array_ventas = np.array([ventas_a,ventas_b])\n",
    "array_muestras = np.array([muestra_a,muestra_b])\n",
    "\n",
    "p_valor = proportions_ztest(count = array_ventas, nobs = array_muestras)[1]\n",
    "print(f\"{p_valor:.3f}\")"
   ]
  },
  {
   "cell_type": "code",
   "execution_count": null,
   "id": "57c9999f-1cb3-4dc5-bf16-c4a02024484b",
   "metadata": {},
   "outputs": [],
   "source": [
    "# Paso 4: Se procede a dar con la conclusión.\n",
    "# En este caso como el pvalor es menor que alpha = 0.05,\n",
    "# podemos rechazar la hipotesis nula.\n",
    "# Por lo que concluimos que la página B convierte mejor\n",
    "# que la A con una diferencia estadísticamente significativa\n",
    "# bajo un nivel de confianza del 95%."
   ]
  }
 ],
 "metadata": {
  "kernelspec": {
   "display_name": "Python 3 (ipykernel)",
   "language": "python",
   "name": "python3"
  },
  "language_info": {
   "codemirror_mode": {
    "name": "ipython",
    "version": 3
   },
   "file_extension": ".py",
   "mimetype": "text/x-python",
   "name": "python",
   "nbconvert_exporter": "python",
   "pygments_lexer": "ipython3",
   "version": "3.9.12"
  }
 },
 "nbformat": 4,
 "nbformat_minor": 5
}
