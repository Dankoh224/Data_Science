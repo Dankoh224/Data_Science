{
 "cells": [
  {
   "cell_type": "code",
   "execution_count": 2,
   "id": "188a010b-3ace-426d-acb1-eeec9a8085bb",
   "metadata": {},
   "outputs": [],
   "source": [
    "import numpy as np"
   ]
  },
  {
   "cell_type": "markdown",
   "id": "9ee287ef-0436-4659-8300-85af93417d7a",
   "metadata": {},
   "source": [
    "# Array"
   ]
  },
  {
   "cell_type": "markdown",
   "id": "f041b9a1-e3ed-4b86-a8f5-305d5fd6eb99",
   "metadata": {},
   "source": [
    "### Es una colección de elementos del mismo tipo ordenados"
   ]
  },
  {
   "cell_type": "code",
   "execution_count": 5,
   "id": "0fc46a19-5fbc-4b57-b98a-2bf5a2ced57f",
   "metadata": {},
   "outputs": [
    {
     "name": "stdout",
     "output_type": "stream",
     "text": [
      "[1 2 3 4 5 6]\n",
      "<class 'numpy.ndarray'>\n"
     ]
    },
    {
     "data": {
      "text/plain": [
       "(None, None)"
      ]
     },
     "execution_count": 5,
     "metadata": {},
     "output_type": "execute_result"
    }
   ],
   "source": [
    "arrayA = np.array([1,2,3,4,5,6])\n",
    "print(arrayA), print(type(arrayA))"
   ]
  },
  {
   "cell_type": "markdown",
   "id": "27c45345-f126-4cd1-9e19-72322747b80a",
   "metadata": {},
   "source": [
    "### otra forma de crear array"
   ]
  },
  {
   "cell_type": "code",
   "execution_count": 7,
   "id": "4f50262f-8aab-47b4-b37e-5cf363b0cd15",
   "metadata": {},
   "outputs": [
    {
     "name": "stdout",
     "output_type": "stream",
     "text": [
      "[1 2 3 4 5 6]\n",
      "<class 'numpy.ndarray'>\n"
     ]
    },
    {
     "data": {
      "text/plain": [
       "(None, None)"
      ]
     },
     "execution_count": 7,
     "metadata": {},
     "output_type": "execute_result"
    }
   ],
   "source": [
    "arrayB = np.array((1,2,3,4,5,6))\n",
    "print(arrayB), print(type(arrayB))"
   ]
  },
  {
   "cell_type": "markdown",
   "id": "aaf8205e-755f-4b2f-8ab2-7f5776d79151",
   "metadata": {},
   "source": [
    "### Todos los elementos del ndarray deben ser del mismo tipo"
   ]
  },
  {
   "cell_type": "code",
   "execution_count": 12,
   "id": "361ec2f3-b0cb-4e0c-85b5-c48908275eca",
   "metadata": {},
   "outputs": [
    {
     "data": {
      "text/plain": [
       "array(['1', '2', '3', '4', '5', '6', '(3+2j)'], dtype='<U64')"
      ]
     },
     "execution_count": 12,
     "metadata": {},
     "output_type": "execute_result"
    }
   ],
   "source": [
    "arrayC = np.array([\"1\",\"2\",\"3\",\"4\",\"5\",6,3+2j])\n",
    "arrayC"
   ]
  },
  {
   "cell_type": "markdown",
   "id": "535a9e59-63fc-4033-8431-64401c307651",
   "metadata": {},
   "source": [
    "# Dimensiones de un array"
   ]
  },
  {
   "cell_type": "markdown",
   "id": "e743f39e-6f00-4f5e-a118-70d4920a8814",
   "metadata": {},
   "source": [
    "## 1 dimension"
   ]
  },
  {
   "cell_type": "code",
   "execution_count": 19,
   "id": "711e832c-e842-4703-8008-16034fcf649b",
   "metadata": {},
   "outputs": [
    {
     "name": "stdout",
     "output_type": "stream",
     "text": [
      "[1 2 3 4 5]\n"
     ]
    }
   ],
   "source": [
    "array_1 = np.array([1,2,3,4,5])\n",
    "print(array_1)"
   ]
  },
  {
   "cell_type": "code",
   "execution_count": 22,
   "id": "ab53f2fd-1fe9-4625-a885-968d7e9453f2",
   "metadata": {},
   "outputs": [
    {
     "name": "stdout",
     "output_type": "stream",
     "text": [
      "total de elementos 5\n",
      "(5,)\n",
      "int32\n",
      "1\n"
     ]
    },
    {
     "data": {
      "text/plain": [
       "(None, None, None, None)"
      ]
     },
     "execution_count": 22,
     "metadata": {},
     "output_type": "execute_result"
    }
   ],
   "source": [
    "print(\"total de elementos\",array_1.size), print(array_1.shape), print(array_1.dtype), print(array_1.ndim)"
   ]
  },
  {
   "cell_type": "markdown",
   "id": "3457c028-6595-4e5a-989a-e65536536c01",
   "metadata": {},
   "source": [
    "## 2 dimensiones"
   ]
  },
  {
   "cell_type": "markdown",
   "id": "ccc69f42-8e93-498c-ad93-3c8e8f211302",
   "metadata": {},
   "source": [
    "## 3 dimensiones"
   ]
  },
  {
   "cell_type": "code",
   "execution_count": null,
   "id": "99dae085-6451-4691-9162-8ec568aa1c47",
   "metadata": {},
   "outputs": [],
   "source": []
  }
 ],
 "metadata": {
  "kernelspec": {
   "display_name": "Python 3 (ipykernel)",
   "language": "python",
   "name": "python3"
  },
  "language_info": {
   "codemirror_mode": {
    "name": "ipython",
    "version": 3
   },
   "file_extension": ".py",
   "mimetype": "text/x-python",
   "name": "python",
   "nbconvert_exporter": "python",
   "pygments_lexer": "ipython3",
   "version": "3.9.12"
  }
 },
 "nbformat": 4,
 "nbformat_minor": 5
}
