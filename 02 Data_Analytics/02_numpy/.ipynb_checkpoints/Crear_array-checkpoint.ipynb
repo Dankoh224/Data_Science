{
 "cells": [
  {
   "cell_type": "code",
   "execution_count": 30,
   "id": "6e5b1da4-4a68-40cc-8626-817b2fc331bd",
   "metadata": {
    "tags": []
   },
   "outputs": [],
   "source": [
    "import numpy as np\n",
    "import time\n",
    "import seaborn as sns\n",
    "import matplotlib.pyplot as plt\n",
    "import matplotlib.cm as cm\n",
    "import pandas as pd\n",
    "from sklearn.datasets import load_sample_image"
   ]
  },
  {
   "cell_type": "markdown",
   "id": "581168b3-e229-4f5c-8e65-d3f00803e7c9",
   "metadata": {},
   "source": [
    "# Crear un array"
   ]
  },
  {
   "cell_type": "code",
   "execution_count": 2,
   "id": "c5852680-aa6b-46ba-aa8d-c9c585a93cf1",
   "metadata": {},
   "outputs": [
    {
     "data": {
      "text/plain": [
       "array([[10,  9,  8,  7,  6],\n",
       "       [ 5,  4,  3,  2,  1]])"
      ]
     },
     "execution_count": 2,
     "metadata": {},
     "output_type": "execute_result"
    }
   ],
   "source": [
    "primer_array = np.array([[10,9,8,7,6],[5,4,3,2,1]])\n",
    "primer_array"
   ]
  },
  {
   "cell_type": "code",
   "execution_count": 6,
   "id": "89417c4e-2896-409a-8d0a-92af9de7ec4c",
   "metadata": {},
   "outputs": [
    {
     "data": {
      "text/plain": [
       "array([[  15, 1443,   13,   12,   11],\n",
       "       [  10,    9,    8,    7,    6],\n",
       "       [   5,    4,    3,    2,    1]])"
      ]
     },
     "execution_count": 6,
     "metadata": {},
     "output_type": "execute_result"
    }
   ],
   "source": [
    "segundo_array = np.array([\n",
    "    [15,1443,13,12,11],\n",
    "    [10,9,8,7,6],\n",
    "    [5,4,3,2,1]\n",
    "])\n",
    "segundo_array"
   ]
  },
  {
   "cell_type": "markdown",
   "id": "c289f35f-1d14-4a14-8d20-a4ad0b9e5db4",
   "metadata": {},
   "source": [
    "## Propiedades de los Arrays"
   ]
  },
  {
   "cell_type": "code",
   "execution_count": 4,
   "id": "00dcd0f2-2923-4e8a-b888-e88cf97f7e19",
   "metadata": {},
   "outputs": [
    {
     "data": {
      "text/plain": [
       "2"
      ]
     },
     "execution_count": 4,
     "metadata": {},
     "output_type": "execute_result"
    }
   ],
   "source": [
    "# cantidad de dimensiones\n",
    "primer_array.ndim"
   ]
  },
  {
   "cell_type": "code",
   "execution_count": 11,
   "id": "c3a7ab21-cbca-4475-adcd-b7a90897bbef",
   "metadata": {},
   "outputs": [
    {
     "data": {
      "text/plain": [
       "10"
      ]
     },
     "execution_count": 11,
     "metadata": {},
     "output_type": "execute_result"
    }
   ],
   "source": [
    "# indicar la cantidad de elementos de un array\n",
    "primer_array.size"
   ]
  },
  {
   "cell_type": "code",
   "execution_count": 13,
   "id": "d136e150-b0a2-43c3-9a04-11f454a54d23",
   "metadata": {},
   "outputs": [
    {
     "data": {
      "text/plain": [
       "15"
      ]
     },
     "execution_count": 13,
     "metadata": {},
     "output_type": "execute_result"
    }
   ],
   "source": [
    "# indicar la cantidad de elementos de un array\n",
    "segundo_array.size"
   ]
  },
  {
   "cell_type": "code",
   "execution_count": 15,
   "id": "4f1c038f-488e-4ead-a5e3-6fe1249e742c",
   "metadata": {},
   "outputs": [
    {
     "data": {
      "text/plain": [
       "(2, 5)"
      ]
     },
     "execution_count": 15,
     "metadata": {},
     "output_type": "execute_result"
    }
   ],
   "source": [
    "# indicar la cantidad de filas y columnas que tiene el arreglo.\n",
    "primer_array.shape"
   ]
  },
  {
   "cell_type": "markdown",
   "id": "efafff2c-53f8-45af-a448-a8868c6ae917",
   "metadata": {},
   "source": [
    "## Indexado de arrays"
   ]
  },
  {
   "cell_type": "code",
   "execution_count": 16,
   "id": "85b58856-3a86-42b1-a568-e9119696c8c5",
   "metadata": {},
   "outputs": [
    {
     "data": {
      "text/plain": [
       "array([10,  9,  8,  7,  6])"
      ]
     },
     "execution_count": 16,
     "metadata": {},
     "output_type": "execute_result"
    }
   ],
   "source": [
    "# Imprimir una fila del array\n",
    "segundo_array[1]"
   ]
  },
  {
   "cell_type": "code",
   "execution_count": 17,
   "id": "24b51013-4fb8-4fb2-81ff-c37f46755528",
   "metadata": {},
   "outputs": [
    {
     "data": {
      "text/plain": [
       "8"
      ]
     },
     "execution_count": 17,
     "metadata": {},
     "output_type": "execute_result"
    }
   ],
   "source": [
    "# Imprimir un elemento de una fila del array, por ejemplo el valor central de la primera fila.\n",
    "primer_array[0,2]"
   ]
  },
  {
   "cell_type": "code",
   "execution_count": 21,
   "id": "dce36da7-9612-42da-808f-f52ff12f5814",
   "metadata": {},
   "outputs": [
    {
     "data": {
      "text/plain": [
       "array([4, 3])"
      ]
     },
     "execution_count": 21,
     "metadata": {},
     "output_type": "execute_result"
    }
   ],
   "source": [
    "# Imprimir un intervalo de elementos de una fila del array (no cuenta al último)\n",
    "primer_array[1,1:3]"
   ]
  },
  {
   "cell_type": "code",
   "execution_count": 19,
   "id": "652200c4-23ad-4e35-ae8f-52a9f5fdc6fa",
   "metadata": {},
   "outputs": [
    {
     "data": {
      "text/plain": [
       "array([[7, 6],\n",
       "       [2, 1]])"
      ]
     },
     "execution_count": 19,
     "metadata": {},
     "output_type": "execute_result"
    }
   ],
   "source": [
    "# Imprimir un intervalo de filas y un intervalo de columnas del array.\n",
    "segundo_array[1:,3:]"
   ]
  },
  {
   "cell_type": "code",
   "execution_count": 20,
   "id": "eccc6d4b-fc56-48af-b3dc-d355b8dc9adf",
   "metadata": {},
   "outputs": [
    {
     "data": {
      "text/plain": [
       "array([7, 6])"
      ]
     },
     "execution_count": 20,
     "metadata": {},
     "output_type": "execute_result"
    }
   ],
   "source": [
    "# Imprimir un intervalo de una fila, desde un valor en adelante, pero con indice negativo.\n",
    "primer_array[0,-2:]"
   ]
  },
  {
   "cell_type": "markdown",
   "id": "b4661757-60ee-4d6e-82d0-102ad6c751e3",
   "metadata": {},
   "source": [
    "## Filtros"
   ]
  },
  {
   "cell_type": "code",
   "execution_count": 23,
   "id": "ce29c894-743c-42cd-9d16-b73a7f463439",
   "metadata": {},
   "outputs": [
    {
     "data": {
      "text/plain": [
       "array([[False, False, False, False, False],\n",
       "       [False, False,  True,  True,  True]])"
      ]
     },
     "execution_count": 23,
     "metadata": {},
     "output_type": "execute_result"
    }
   ],
   "source": [
    "# Indicar si en un arreglo los elementos son menores que 4.\n",
    "menores_de_cuatro = primer_array < 4\n",
    "menores_de_cuatro"
   ]
  },
  {
   "cell_type": "code",
   "execution_count": 25,
   "id": "d34fa519-3a82-43a9-8ca0-b633e6d4012d",
   "metadata": {
    "tags": []
   },
   "outputs": [
    {
     "data": {
      "text/plain": [
       "array([3, 2, 1])"
      ]
     },
     "execution_count": 25,
     "metadata": {},
     "output_type": "execute_result"
    }
   ],
   "source": [
    "# Solo una vez que se ejecutó la condición anterior, podemos imprimir los elementos que son menores que 4.\n",
    "primer_array[menores_de_cuatro]"
   ]
  },
  {
   "cell_type": "code",
   "execution_count": 27,
   "id": "b562b810-ee4f-477e-ab37-1bab3452bae0",
   "metadata": {},
   "outputs": [
    {
     "data": {
      "text/plain": [
       "array([[ True, False,  True, False,  True],\n",
       "       [False,  True, False,  True, False]])"
      ]
     },
     "execution_count": 27,
     "metadata": {},
     "output_type": "execute_result"
    }
   ],
   "source": [
    "# Indicar si en un arreglo los elementos son pares.\n",
    "pares = primer_array % 2 == 0\n",
    "pares"
   ]
  },
  {
   "cell_type": "code",
   "execution_count": 28,
   "id": "c46cb6a8-3625-435c-b524-eb1bb33bdb44",
   "metadata": {},
   "outputs": [
    {
     "data": {
      "text/plain": [
       "array([10,  8,  6,  4,  2])"
      ]
     },
     "execution_count": 28,
     "metadata": {},
     "output_type": "execute_result"
    }
   ],
   "source": [
    "# Solo una vez que se ejecutó la condición anterior, podemos imprimir los elementos que son pares.\n",
    "primer_array[pares]"
   ]
  },
  {
   "cell_type": "code",
   "execution_count": 29,
   "id": "c070f5a9-0e5d-4d79-991a-b60d604c905e",
   "metadata": {},
   "outputs": [
    {
     "data": {
      "text/plain": [
       "(array([0, 0, 0, 1, 1], dtype=int64), array([0, 2, 4, 1, 3], dtype=int64))"
      ]
     },
     "execution_count": 29,
     "metadata": {},
     "output_type": "execute_result"
    }
   ],
   "source": [
    "# Pero si quisieramos saber cuáles son los índices de los elementos en los que se cumple la condición,\n",
    "# usaremos el siguiente método. Los valores que cumplen la condición son los pares (0,0), (0,2), (0,4), (1,1) y (1,3)\n",
    "np.nonzero(pares)"
   ]
  },
  {
   "cell_type": "markdown",
   "id": "18930258-a1bf-4384-8cce-a688f5a96e78",
   "metadata": {},
   "source": [
    "## Copiar y editar arrays"
   ]
  },
  {
   "cell_type": "code",
   "execution_count": 30,
   "id": "761d20c7-c680-4797-a75b-75e5c8aa78fe",
   "metadata": {},
   "outputs": [
    {
     "data": {
      "text/plain": [
       "array([[0, 0, 0, 0, 0],\n",
       "       [0, 0, 0, 0, 0]])"
      ]
     },
     "execution_count": 30,
     "metadata": {},
     "output_type": "execute_result"
    }
   ],
   "source": [
    "# Crear un array con ceros.\n",
    "array_ceros = np.zeros_like(primer_array)\n",
    "array_ceros"
   ]
  },
  {
   "cell_type": "code",
   "execution_count": 31,
   "id": "78c4c612-163f-4947-a1ff-d5cafb985bbe",
   "metadata": {},
   "outputs": [
    {
     "data": {
      "text/plain": [
       "array([[0, 0, 0, 0, 0],\n",
       "       [0, 0, 0, 0, 0]])"
      ]
     },
     "execution_count": 31,
     "metadata": {},
     "output_type": "execute_result"
    }
   ],
   "source": [
    "# Al igual que en las listas, si guardamos un array dentro de otro array, cuando modifiquemos la \"copia\", también será\n",
    "# modificado el array original.\n",
    "copia_ceros = array_ceros\n",
    "copia_ceros"
   ]
  },
  {
   "cell_type": "code",
   "execution_count": 34,
   "id": "4669b8aa-8b85-4e3e-9da3-b111d057e487",
   "metadata": {},
   "outputs": [
    {
     "data": {
      "text/plain": [
       "(array([[1, 0, 0, 0, 0],\n",
       "        [0, 0, 0, 0, 0]]),\n",
       " array([[1, 0, 0, 0, 0],\n",
       "        [0, 0, 0, 0, 0]]))"
      ]
     },
     "execution_count": 34,
     "metadata": {},
     "output_type": "execute_result"
    }
   ],
   "source": [
    "# Aquí hacemos la modificación.\n",
    "copia_ceros[0,0] = 1\n",
    "array_ceros, copia_ceros"
   ]
  },
  {
   "cell_type": "code",
   "execution_count": 36,
   "id": "4139c40e-265b-4694-b653-74cc27194617",
   "metadata": {},
   "outputs": [
    {
     "data": {
      "text/plain": [
       "(array([[1, 0, 0, 0, 0],\n",
       "        [0, 0, 0, 0, 0]]),\n",
       " array([[1, 0, 0, 0, 0],\n",
       "        [0, 0, 0, 0, 1]]))"
      ]
     },
     "execution_count": 36,
     "metadata": {},
     "output_type": "execute_result"
    }
   ],
   "source": [
    "# Por lo tanto, usaremos la siguiente función de numpy.\n",
    "copia_ceros = array_ceros.copy()\n",
    "copia_ceros[1,4] = 1\n",
    "array_ceros, copia_ceros"
   ]
  },
  {
   "cell_type": "markdown",
   "id": "485eae8f-a9f3-4948-9476-e6df1888645b",
   "metadata": {},
   "source": [
    "## Apilamiento y reestructuración"
   ]
  },
  {
   "cell_type": "code",
   "execution_count": 38,
   "id": "e71bdaf1-0d8a-49cc-97ad-1d9d35b64796",
   "metadata": {},
   "outputs": [
    {
     "data": {
      "text/plain": [
       "array([[10,  9,  8,  7,  6],\n",
       "       [ 5,  4,  3,  2,  1]])"
      ]
     },
     "execution_count": 38,
     "metadata": {},
     "output_type": "execute_result"
    }
   ],
   "source": [
    "# Definamos nuevamente el primer array.\n",
    "primer_array = np.array([[10,9,8,7,6],[5,4,3,2,1]])\n",
    "primer_array"
   ]
  },
  {
   "cell_type": "code",
   "execution_count": 45,
   "id": "5d43ef93-630d-4a91-9a86-29e7da04823b",
   "metadata": {},
   "outputs": [
    {
     "data": {
      "text/plain": [
       "array([[8, 7, 6]])"
      ]
     },
     "execution_count": 45,
     "metadata": {},
     "output_type": "execute_result"
    }
   ],
   "source": [
    "# Ahora tomemos un trozo del array y hagamos una pieza nueva\n",
    "pieza_1 = primer_array[0:1,2:5]\n",
    "pieza_1"
   ]
  },
  {
   "cell_type": "code",
   "execution_count": 47,
   "id": "822a0624-2787-494e-8252-9a237f858383",
   "metadata": {
    "tags": []
   },
   "outputs": [
    {
     "data": {
      "text/plain": [
       "array([[4, 3, 2]])"
      ]
     },
     "execution_count": 47,
     "metadata": {},
     "output_type": "execute_result"
    }
   ],
   "source": [
    "# Ahora tomemos un trozo del array y hagamos una segunda pieza.\n",
    "pieza_2 = primer_array[1:2,1:4]\n",
    "pieza_2"
   ]
  },
  {
   "cell_type": "markdown",
   "id": "0f162119-2212-47d7-8865-b1fd49788e70",
   "metadata": {},
   "source": [
    "#### Apilamiento"
   ]
  },
  {
   "cell_type": "code",
   "execution_count": 48,
   "id": "6f2bc5c5-ce81-42d7-9917-808e3a79a445",
   "metadata": {},
   "outputs": [
    {
     "data": {
      "text/plain": [
       "array([[8, 7, 6],\n",
       "       [4, 3, 2]])"
      ]
     },
     "execution_count": 48,
     "metadata": {},
     "output_type": "execute_result"
    }
   ],
   "source": [
    "# Y ahora hagamos un APILAMIENTO VERTICAL con la siguiente función.\n",
    "np.vstack((pieza_1,pieza_2))"
   ]
  },
  {
   "cell_type": "code",
   "execution_count": 50,
   "id": "ea6a0f30-53ca-4e91-8733-3988602ec540",
   "metadata": {},
   "outputs": [
    {
     "data": {
      "text/plain": [
       "array([[8, 7, 6, 4, 3, 2]])"
      ]
     },
     "execution_count": 50,
     "metadata": {},
     "output_type": "execute_result"
    }
   ],
   "source": [
    "# Y un APILAMIENTO HORIZONTAL con la función.\n",
    "np.hstack((pieza_1,pieza_2))"
   ]
  },
  {
   "cell_type": "code",
   "execution_count": 51,
   "id": "1250aed1-87da-496d-bcbe-7842b2c12484",
   "metadata": {},
   "outputs": [
    {
     "data": {
      "text/plain": [
       "array([[[8, 7, 6]],\n",
       "\n",
       "       [[4, 3, 2]]])"
      ]
     },
     "execution_count": 51,
     "metadata": {},
     "output_type": "execute_result"
    }
   ],
   "source": [
    "# Y un último APILAMIENTO, no vertical ni horizontal, con la función.\n",
    "np.stack((pieza_1,pieza_2))"
   ]
  },
  {
   "cell_type": "code",
   "execution_count": 56,
   "id": "5c5124d7-4ccb-43eb-93d8-911bcb6989d0",
   "metadata": {},
   "outputs": [
    {
     "data": {
      "text/plain": [
       "(2, 2, 3)"
      ]
     },
     "execution_count": 56,
     "metadata": {},
     "output_type": "execute_result"
    }
   ],
   "source": [
    "# Si se nota, (como se ve impreso) el último apilamiento tiene 3 ejes a diferencia de los anteriores 2.\n",
    "np.vstack((pieza_1,pieza_2)).ndim, np.hstack((pieza_1,pieza_2)).ndim, np.stack((pieza_1,pieza_2)).ndim"
   ]
  },
  {
   "cell_type": "code",
   "execution_count": 60,
   "id": "a5bfa3ca-9f08-4db2-9ec0-9662ff44fd66",
   "metadata": {},
   "outputs": [
    {
     "data": {
      "text/plain": [
       "(2, 1, 3)"
      ]
     },
     "execution_count": 60,
     "metadata": {},
     "output_type": "execute_result"
    }
   ],
   "source": [
    "# Aquí vemos la cantidad de, en orden, filas, no se que (TENGO QUE INFORMARME QUE ES ESE 1) y 3 columnas. \n",
    "np.stack((pieza_1,pieza_2)).shape"
   ]
  },
  {
   "cell_type": "markdown",
   "id": "19a34009-472a-46ad-b7c0-31b92b3a8c6b",
   "metadata": {},
   "source": [
    "#### Apilamiento Inverso (separar)"
   ]
  },
  {
   "cell_type": "code",
   "execution_count": 62,
   "id": "69cea969-3bdb-4057-973b-e956105daa21",
   "metadata": {},
   "outputs": [
    {
     "data": {
      "text/plain": [
       "array([[10,  9,  8,  7,  6],\n",
       "       [ 5,  4,  3,  2,  1]])"
      ]
     },
     "execution_count": 62,
     "metadata": {},
     "output_type": "execute_result"
    }
   ],
   "source": [
    "primer_array"
   ]
  },
  {
   "cell_type": "code",
   "execution_count": 68,
   "id": "df35d075-ff3e-4385-90e7-cfe22695241d",
   "metadata": {},
   "outputs": [
    {
     "data": {
      "text/plain": [
       "[array([[10,  9,  8,  7,  6]]), array([[5, 4, 3, 2, 1]])]"
      ]
     },
     "execution_count": 68,
     "metadata": {},
     "output_type": "execute_result"
    }
   ],
   "source": [
    "np.vsplit(primer_array, (1,))"
   ]
  },
  {
   "cell_type": "code",
   "execution_count": 73,
   "id": "99488123-6b3c-47b2-99c3-dcada7f0ed15",
   "metadata": {},
   "outputs": [
    {
     "data": {
      "text/plain": [
       "[array([[10,  9],\n",
       "        [ 5,  4]]),\n",
       " array([[8, 7, 6],\n",
       "        [3, 2, 1]])]"
      ]
     },
     "execution_count": 73,
     "metadata": {},
     "output_type": "execute_result"
    }
   ],
   "source": [
    "np.hsplit(primer_array, (2,))"
   ]
  },
  {
   "cell_type": "markdown",
   "id": "5ad277ca-7c1e-4ae7-8518-eccc210a51c2",
   "metadata": {},
   "source": [
    "#### Añadir nuevos ejes"
   ]
  },
  {
   "cell_type": "code",
   "execution_count": 3,
   "id": "8cb1162e-0569-4bb8-b300-6ec34f11cad3",
   "metadata": {},
   "outputs": [
    {
     "data": {
      "text/plain": [
       "array([0, 1, 2, 3, 4])"
      ]
     },
     "execution_count": 3,
     "metadata": {},
     "output_type": "execute_result"
    }
   ],
   "source": [
    "# Crear un array de una única dimensión con 5 elementos. \n",
    "range_array = np.arange(5)\n",
    "range_array"
   ]
  },
  {
   "cell_type": "code",
   "execution_count": 5,
   "id": "87dfda1e-037f-47ad-afed-78a421802880",
   "metadata": {},
   "outputs": [
    {
     "data": {
      "text/plain": [
       "array([[0, 1, 2, 3, 4]])"
      ]
     },
     "execution_count": 5,
     "metadata": {},
     "output_type": "execute_result"
    }
   ],
   "source": [
    "# Matriz de 2 dimensiones y 1 fila.\n",
    "array_dos_dimensiones = np.expand_dims(range_array, axis = 0)\n",
    "array_dos_dimensiones"
   ]
  },
  {
   "cell_type": "code",
   "execution_count": 6,
   "id": "5cc49eed-317e-45cc-939f-70a3d83e18bd",
   "metadata": {},
   "outputs": [
    {
     "data": {
      "text/plain": [
       "(1, 2)"
      ]
     },
     "execution_count": 6,
     "metadata": {},
     "output_type": "execute_result"
    }
   ],
   "source": [
    "# Aquí comprobamos que \"range_array\" tiene una dimensión y \"array_dos_dimensiones\" tiene 2\n",
    "range_array.ndim, array_dos_dimensiones.ndim"
   ]
  },
  {
   "cell_type": "code",
   "execution_count": 8,
   "id": "24d10acd-7fe2-4b21-8f1e-87216ebd4221",
   "metadata": {},
   "outputs": [
    {
     "data": {
      "text/plain": [
       "array([[0, 1, 2, 3, 4]])"
      ]
     },
     "execution_count": 8,
     "metadata": {},
     "output_type": "execute_result"
    }
   ],
   "source": [
    "# Se puede hacer lo mismo de la siguiente manera (los dos puntos indican que tomaremos todos los elementos en este índice).\n",
    "range_array[np.newaxis, :]"
   ]
  },
  {
   "cell_type": "code",
   "execution_count": 12,
   "id": "47d17e43-8a08-4268-aade-63651964e84e",
   "metadata": {},
   "outputs": [
    {
     "data": {
      "text/plain": [
       "array([[0],\n",
       "       [1],\n",
       "       [2],\n",
       "       [3],\n",
       "       [4]])"
      ]
     },
     "execution_count": 12,
     "metadata": {},
     "output_type": "execute_result"
    }
   ],
   "source": [
    "# También es posible convertir \"range_array\" en un vector columna (de 2 dimensiones).\n",
    "np.expand_dims(range_array, axis = 1)"
   ]
  },
  {
   "cell_type": "code",
   "execution_count": 13,
   "id": "b5c09dde-ff5d-4794-923c-536fca5d2f64",
   "metadata": {},
   "outputs": [
    {
     "data": {
      "text/plain": [
       "array([[0],\n",
       "       [1],\n",
       "       [2],\n",
       "       [3],\n",
       "       [4]])"
      ]
     },
     "execution_count": 13,
     "metadata": {},
     "output_type": "execute_result"
    }
   ],
   "source": [
    "# Cosa que también se puede realizar con newaxis.\n",
    "range_array[ : , np.newaxis]"
   ]
  },
  {
   "cell_type": "markdown",
   "id": "cd50e766-525a-4869-918e-9a2b47aa04b0",
   "metadata": {},
   "source": [
    "# Reshape"
   ]
  },
  {
   "cell_type": "markdown",
   "id": "4a363d6c-6d85-4b13-ad1b-b783884178e0",
   "metadata": {},
   "source": [
    "### Remodelación de arrays"
   ]
  },
  {
   "cell_type": "code",
   "execution_count": 23,
   "id": "9259871d-46c1-434e-8356-20fbc35ab589",
   "metadata": {},
   "outputs": [
    {
     "data": {
      "text/plain": [
       "array([ 0,  1,  2,  3,  4,  5,  6,  7,  8,  9, 10, 11, 12, 13, 14, 15, 16,\n",
       "       17, 18, 19, 20, 21, 22, 23, 24, 25, 26, 27, 28, 29, 30, 31, 32, 33,\n",
       "       34, 35, 36, 37, 38, 39, 40, 41, 42, 43, 44, 45, 46, 47, 48, 49, 50,\n",
       "       51, 52, 53, 54, 55, 56, 57, 58, 59, 60, 61, 62, 63])"
      ]
     },
     "execution_count": 23,
     "metadata": {},
     "output_type": "execute_result"
    }
   ],
   "source": [
    "# Con un array de 64 elementos, podemos remodelar el array en la cantidad de filas y columnas que sea posible.\n",
    "range_array = np.arange(64)\n",
    "range_array"
   ]
  },
  {
   "cell_type": "code",
   "execution_count": 22,
   "id": "22f95bc2-b471-4643-acf1-99c36a679327",
   "metadata": {},
   "outputs": [
    {
     "data": {
      "text/plain": [
       "array([[ 0,  1,  2,  3],\n",
       "       [ 4,  5,  6,  7],\n",
       "       [ 8,  9, 10, 11],\n",
       "       [12, 13, 14, 15],\n",
       "       [16, 17, 18, 19],\n",
       "       [20, 21, 22, 23],\n",
       "       [24, 25, 26, 27],\n",
       "       [28, 29, 30, 31],\n",
       "       [32, 33, 34, 35],\n",
       "       [36, 37, 38, 39],\n",
       "       [40, 41, 42, 43],\n",
       "       [44, 45, 46, 47],\n",
       "       [48, 49, 50, 51],\n",
       "       [52, 53, 54, 55],\n",
       "       [56, 57, 58, 59],\n",
       "       [60, 61, 62, 63]])"
      ]
     },
     "execution_count": 22,
     "metadata": {},
     "output_type": "execute_result"
    }
   ],
   "source": [
    "# El primer argumento es la cantidad de filas y el segundo la cantidad de columnas.\n",
    "range_array.reshape(16,4)"
   ]
  },
  {
   "cell_type": "code",
   "execution_count": 25,
   "id": "887320ce-cc3e-421c-abdb-8908a15031f4",
   "metadata": {},
   "outputs": [
    {
     "data": {
      "text/plain": [
       "array([[ 0,  1,  2,  3,  4,  5,  6,  7],\n",
       "       [ 8,  9, 10, 11, 12, 13, 14, 15],\n",
       "       [16, 17, 18, 19, 20, 21, 22, 23],\n",
       "       [24, 25, 26, 27, 28, 29, 30, 31],\n",
       "       [32, 33, 34, 35, 36, 37, 38, 39],\n",
       "       [40, 41, 42, 43, 44, 45, 46, 47],\n",
       "       [48, 49, 50, 51, 52, 53, 54, 55],\n",
       "       [56, 57, 58, 59, 60, 61, 62, 63]])"
      ]
     },
     "execution_count": 25,
     "metadata": {},
     "output_type": "execute_result"
    }
   ],
   "source": [
    " # Reshape solo con la cantidad de filas del arreglo.\n",
    "range_array.reshape(8,-1)"
   ]
  },
  {
   "cell_type": "markdown",
   "id": "54376e03-c6f7-4f4b-8733-50a59d62d3e1",
   "metadata": {},
   "source": [
    "#### Aplandado de arrays: Escribir un array de 4 x 4 x 4 "
   ]
  },
  {
   "cell_type": "code",
   "execution_count": 26,
   "id": "571dae0c-11b1-4173-a77a-c61b7b766fbe",
   "metadata": {},
   "outputs": [
    {
     "data": {
      "text/plain": [
       "array([[[ 0,  1,  2,  3],\n",
       "        [ 4,  5,  6,  7],\n",
       "        [ 8,  9, 10, 11],\n",
       "        [12, 13, 14, 15]],\n",
       "\n",
       "       [[16, 17, 18, 19],\n",
       "        [20, 21, 22, 23],\n",
       "        [24, 25, 26, 27],\n",
       "        [28, 29, 30, 31]],\n",
       "\n",
       "       [[32, 33, 34, 35],\n",
       "        [36, 37, 38, 39],\n",
       "        [40, 41, 42, 43],\n",
       "        [44, 45, 46, 47]],\n",
       "\n",
       "       [[48, 49, 50, 51],\n",
       "        [52, 53, 54, 55],\n",
       "        [56, 57, 58, 59],\n",
       "        [60, 61, 62, 63]]])"
      ]
     },
     "execution_count": 26,
     "metadata": {},
     "output_type": "execute_result"
    }
   ],
   "source": [
    "range_array = range_array.reshape(4,4,4)\n",
    "range_array"
   ]
  },
  {
   "cell_type": "code",
   "execution_count": 27,
   "id": "e5496353-b3ab-489c-97ae-7a36f3b486b1",
   "metadata": {},
   "outputs": [],
   "source": [
    "# Ahora podemos aplanar"
   ]
  },
  {
   "cell_type": "code",
   "execution_count": 28,
   "id": "be762af7-2e82-47a6-84f8-7e13389b37c5",
   "metadata": {},
   "outputs": [
    {
     "data": {
      "text/plain": [
       "array([ 0,  1,  2,  3,  4,  5,  6,  7,  8,  9, 10, 11, 12, 13, 14, 15, 16,\n",
       "       17, 18, 19, 20, 21, 22, 23, 24, 25, 26, 27, 28, 29, 30, 31, 32, 33,\n",
       "       34, 35, 36, 37, 38, 39, 40, 41, 42, 43, 44, 45, 46, 47, 48, 49, 50,\n",
       "       51, 52, 53, 54, 55, 56, 57, 58, 59, 60, 61, 62, 63])"
      ]
     },
     "execution_count": 28,
     "metadata": {},
     "output_type": "execute_result"
    }
   ],
   "source": [
    "array_aplanado = range_array.flatten()\n",
    "array_aplanado"
   ]
  },
  {
   "cell_type": "code",
   "execution_count": null,
   "id": "0c291e9d-0a80-402a-a1b3-9dcf6f0b48e8",
   "metadata": {},
   "outputs": [
    {
     "data": {
      "text/plain": [
       "((4, 4, 4), (64,))"
      ]
     },
     "execution_count": 29,
     "metadata": {},
     "output_type": "execute_result"
    }
   ],
   "source": [
    "range_array.shape, array_aplanado."
   ]
  },
  {
   "cell_type": "markdown",
   "id": "d14ebe7b-9fca-4180-98be-a12220ad8c06",
   "metadata": {},
   "source": [
    "#### Aquí notamos que el primer array tiene 4 filas, 4 columnas y 4 de profundidad."
   ]
  },
  {
   "cell_type": "markdown",
   "id": "2c393bbc-2a58-4b7c-af37-c67c65d3a912",
   "metadata": {},
   "source": [
    "# OPERACIONES ARITMETICAS"
   ]
  },
  {
   "cell_type": "code",
   "execution_count": 38,
   "id": "db5f4045-1005-4abb-b0c4-990cedf142c1",
   "metadata": {},
   "outputs": [
    {
     "data": {
      "text/plain": [
       "array([[5., 5., 5.],\n",
       "       [5., 5., 5.],\n",
       "       [5., 5., 5.]], dtype=float32)"
      ]
     },
     "execution_count": 38,
     "metadata": {},
     "output_type": "execute_result"
    }
   ],
   "source": [
    "# Crear un array con filas y columnas determinadas ingresándole el número 5.\n",
    "prueba_array = np.full((3,3),5, dtype = np.float32)\n",
    "prueba_array"
   ]
  },
  {
   "cell_type": "markdown",
   "id": "af06a6f5-864d-4115-89ed-e349b466ee45",
   "metadata": {},
   "source": [
    "# Crear un arreglo igual al anterior con otro valor.\n",
    "numero12 = np.full_like(prueba_array, 12)\n",
    "numero12"
   ]
  },
  {
   "cell_type": "markdown",
   "id": "9a97ff7e-1826-46c4-a347-b35d7f409061",
   "metadata": {},
   "source": [
    "## OPERATORIA BÁSICA"
   ]
  },
  {
   "cell_type": "code",
   "execution_count": 40,
   "id": "97cba1b2-f9ec-47ed-b310-3b01f33475d1",
   "metadata": {},
   "outputs": [
    {
     "data": {
      "text/plain": [
       "array([[17., 17., 17.],\n",
       "       [17., 17., 17.],\n",
       "       [17., 17., 17.]], dtype=float32)"
      ]
     },
     "execution_count": 40,
     "metadata": {},
     "output_type": "execute_result"
    }
   ],
   "source": [
    "prueba_array+ numero12"
   ]
  },
  {
   "cell_type": "markdown",
   "id": "12d04a5f-f914-49ec-b4da-b0e55f37e4ec",
   "metadata": {},
   "source": [
    "#### De esta misma forma se pueden restar, multiplicar y dividir arreglos."
   ]
  },
  {
   "cell_type": "markdown",
   "id": "19d1f5e4-633e-4e5b-b0d1-55e9e560efeb",
   "metadata": {},
   "source": [
    "## OPERATORIA NO TAN BASICA: También se puede elevar un arreglo al cuadrado,  obtener el logaritmo natural o elevar \"e\" a un número."
   ]
  },
  {
   "cell_type": "code",
   "execution_count": null,
   "id": "30b54125-c09c-44a2-b5a5-ee12329c4cab",
   "metadata": {},
   "outputs": [
    {
     "data": {
      "text/plain": [
       "(array([[25., 25., 25.],\n",
       "        [25., 25., 25.],\n",
       "        [25., 25., 25.]], dtype=float32),\n",
       " array([[1.609438, 1.609438, 1.609438],\n",
       "        [1.609438, 1.609438, 1.609438],\n",
       "        [1.609438, 1.609438, 1.609438]], dtype=float32),\n",
       " array([[148.41316, 148.41316, 148.41316],\n",
       "        [148.41316, 148.41316, 148.41316],\n",
       "        [148.41316, 148.41316, 148.41316]], dtype=float32))"
      ]
     },
     "execution_count": 42,
     "metadata": {},
     "output_type": "execute_result"
    }
   ],
   "source": [
    "prueba_array ** 2, np.log(prueba_array), np.exp(prueba_array)"
   ]
  },
  {
   "cell_type": "code",
   "execution_count": 43,
   "id": "e9a3e327-c459-408a-b89b-fbba58be9cc4",
   "metadata": {},
   "outputs": [],
   "source": [
    "# SUMAR todos los elementos de un array."
   ]
  },
  {
   "cell_type": "code",
   "execution_count": 45,
   "id": "9545f639-869f-4ff2-92d4-ef858e94f051",
   "metadata": {},
   "outputs": [
    {
     "data": {
      "text/plain": [
       "45.0"
      ]
     },
     "execution_count": 45,
     "metadata": {},
     "output_type": "execute_result"
    }
   ],
   "source": [
    "prueba_array.sum()"
   ]
  },
  {
   "cell_type": "code",
   "execution_count": 46,
   "id": "90c4a3de-3f6c-41fe-b344-a0294d630a16",
   "metadata": {},
   "outputs": [
    {
     "data": {
      "text/plain": [
       "(array([15., 15., 15.], dtype=float32), array([15., 15., 15.], dtype=float32))"
      ]
     },
     "execution_count": 46,
     "metadata": {},
     "output_type": "execute_result"
    }
   ],
   "source": [
    "# SUMAR columnas y filas respectivamente.\n",
    "prueba_array.sum(axis = 0), prueba_array.sum(axis = 1)"
   ]
  },
  {
   "attachments": {
    "ecec0418-b3b6-4218-affb-4640e6c7def0.jpg": {
     "image/jpeg": "[encoded data removed]"
    }
   },
   "cell_type": "markdown",
   "id": "758e0226-c718-4211-8e99-f7508ae134a8",
   "metadata": {},
   "source": [
    "# APLICAR UNA FORMULA MATEMATICA![fórmula-distribución-normal.jpg](attachment:ecec0418-b3b6-4218-affb-4640e6c7def0.jpg)"
   ]
  },
  {
   "cell_type": "code",
   "execution_count": 49,
   "id": "65797585-e185-4e92-8ac8-cedb67f9e4f0",
   "metadata": {},
   "outputs": [
    {
     "data": {
      "text/plain": [
       "Text(0.5, 1.0, 'Standard normal distribution')"
      ]
     },
     "execution_count": 49,
     "metadata": {},
     "output_type": "execute_result"
    },
    {
     "data": {
      "image/png": "[encoded data removed]",
      "text/plain": [
       "<Figure size 432x288 with 1 Axes>"
      ]
     },
     "metadata": {
      "needs_background": "light"
     },
     "output_type": "display_data"
    }
   ],
   "source": [
    "mu = 0\n",
    "std = 1 \n",
    "x = np.linspace(-5,5,100)  # OTRA FORMA DE CREAR ARRAYS (inicio, fin, cantidad de elementos del array)\n",
    "y = 1 / (std * np.sqrt(2 * np.pi)) * np.exp((-1/2)*((x-mu)/std)**2)\n",
    "\n",
    "sns.lineplot(x=x,y=y)\n",
    "plt.title(\"Standard normal distribution\")"
   ]
  },
  {
   "cell_type": "markdown",
   "id": "c68fddf7-9499-40d5-a896-70b897e48757",
   "metadata": {},
   "source": [
    "## Broadcasting"
   ]
  },
  {
   "cell_type": "markdown",
   "id": "b02047bd-8bf4-4a21-9cce-27cbf9148c82",
   "metadata": {},
   "source": [
    "#### LAS FORMAS DE LOS ARRAYS NO ENCAJAN: un array tiene más dimensiones o más elementos que el otro array"
   ]
  },
  {
   "cell_type": "code",
   "execution_count": 3,
   "id": "47db2428-92b4-4d59-8d81-16ad4d346f0e",
   "metadata": {},
   "outputs": [
    {
     "data": {
      "text/plain": [
       "array([0, 1, 2, 3, 4, 5, 6, 7, 8, 9])"
      ]
     },
     "execution_count": 3,
     "metadata": {},
     "output_type": "execute_result"
    }
   ],
   "source": [
    "array = np.arange(10)\n",
    "factor = 2\n",
    "array"
   ]
  },
  {
   "cell_type": "code",
   "execution_count": 4,
   "id": "e420169b-7431-4a44-8157-5186fd1e73e2",
   "metadata": {},
   "outputs": [
    {
     "data": {
      "text/plain": [
       "array([ 0,  2,  4,  6,  8, 10, 12, 14, 16, 18])"
      ]
     },
     "execution_count": 4,
     "metadata": {},
     "output_type": "execute_result"
    }
   ],
   "source": [
    "# Al multiplicar array * 2, numpy multiplica cada elemento del array por 2.\n",
    "array * 2"
   ]
  },
  {
   "cell_type": "code",
   "execution_count": 4,
   "id": "c80e11ed-07ef-431c-9d42-1b67737af763",
   "metadata": {},
   "outputs": [
    {
     "data": {
      "text/plain": [
       "(array([[ 0,  1,  2,  3],\n",
       "        [ 4,  5,  6,  7],\n",
       "        [ 8,  9, 10, 11],\n",
       "        [12, 13, 14, 15]]),\n",
       " array([2, 2, 2, 2]))"
      ]
     },
     "execution_count": 4,
     "metadata": {},
     "output_type": "execute_result"
    }
   ],
   "source": [
    "# crear dos arrays.\n",
    "a = np.arange(16).reshape(4,4)\n",
    "b = np.full((4, ),2)\n",
    "a, b"
   ]
  },
  {
   "cell_type": "code",
   "execution_count": 5,
   "id": "e62ea48f-e744-46b2-9b7f-a593c3f2e95a",
   "metadata": {},
   "outputs": [
    {
     "data": {
      "text/plain": [
       "array([[ 2,  3,  4,  5],\n",
       "       [ 6,  7,  8,  9],\n",
       "       [10, 11, 12, 13],\n",
       "       [14, 15, 16, 17]])"
      ]
     },
     "execution_count": 5,
     "metadata": {},
     "output_type": "execute_result"
    }
   ],
   "source": [
    "a + b"
   ]
  },
  {
   "cell_type": "markdown",
   "id": "76c2e87f-5fc3-4733-8928-ec8671ef8f87",
   "metadata": {},
   "source": [
    " ### Otro caso"
   ]
  },
  {
   "cell_type": "code",
   "execution_count": 6,
   "id": "3c69638f-48a0-41ee-a4d0-e54898b80502",
   "metadata": {},
   "outputs": [
    {
     "data": {
      "text/plain": [
       "(array([0, 1, 2, 3]),\n",
       " array([[0],\n",
       "        [1],\n",
       "        [2],\n",
       "        [3]]))"
      ]
     },
     "execution_count": 6,
     "metadata": {},
     "output_type": "execute_result"
    }
   ],
   "source": [
    "a = np.arange(4)\n",
    "b = np.arange(4).reshape(-1,1)\n",
    "a, b"
   ]
  },
  {
   "cell_type": "markdown",
   "id": "dbb44678-2d8d-4bfb-9f5c-a274bf2f432d",
   "metadata": {},
   "source": [
    "#### Lo que ha hecho aquí el reshape, es que no importa la cantidad de filas que haya, quede 1 columna (el primer argumento indica la cantidad de filas y -1 indica que no importa, que se amoldará a lo que diga el segundo argumento, el que indica la cantidad de columnas)."
   ]
  },
  {
   "cell_type": "code",
   "execution_count": 7,
   "id": "8704e9d8-2174-4386-93b8-6aca7f7a450b",
   "metadata": {},
   "outputs": [
    {
     "data": {
      "text/plain": [
       "array([[0, 1, 2, 3],\n",
       "       [1, 2, 3, 4],\n",
       "       [2, 3, 4, 5],\n",
       "       [3, 4, 5, 6]])"
      ]
     },
     "execution_count": 7,
     "metadata": {},
     "output_type": "execute_result"
    }
   ],
   "source": [
    "# Si ahora sumamos a con b, el vector b, se ira agregando (columna por columna) al vector a.\n",
    "a + b"
   ]
  },
  {
   "cell_type": "markdown",
   "id": "661a74b3-38a3-41f9-b9db-6e4c1f4d6fa5",
   "metadata": {},
   "source": [
    "## OPERACIONES BÁSICAS"
   ]
  },
  {
   "cell_type": "code",
   "execution_count": 9,
   "id": "e28aee63-9f6c-4b7b-a62e-700ebefc08da",
   "metadata": {},
   "outputs": [
    {
     "data": {
      "text/plain": [
       "array([0, 1, 2, 3, 4, 5, 6, 7, 8, 9])"
      ]
     },
     "execution_count": 9,
     "metadata": {},
     "output_type": "execute_result"
    }
   ],
   "source": [
    "array_1 = np.arange(10)\n",
    "array_1"
   ]
  },
  {
   "cell_type": "code",
   "execution_count": 11,
   "id": "f9fce673-6534-438d-a91b-e08c0635c427",
   "metadata": {},
   "outputs": [
    {
     "data": {
      "text/plain": [
       "(0, 9)"
      ]
     },
     "execution_count": 11,
     "metadata": {},
     "output_type": "execute_result"
    }
   ],
   "source": [
    "# Obtener el elemento mínimo o el máximo de un array.\n",
    "array_1.min(), array_1.max()"
   ]
  },
  {
   "cell_type": "code",
   "execution_count": 15,
   "id": "35c8c3c7-164a-4cdf-b311-fa284b143856",
   "metadata": {},
   "outputs": [
    {
     "data": {
      "text/plain": [
       "array([[3, 6, 1, 2, 4],\n",
       "       [7, 4, 2, 6, 1]])"
      ]
     },
     "execution_count": 15,
     "metadata": {},
     "output_type": "execute_result"
    }
   ],
   "source": [
    "# Obtener un array por fila, ordenado de menor a mayor.\n",
    "array_desordenado = np.array([[3,6,1,2,4],[7,4,2,6,1]])\n",
    "array_desordenado"
   ]
  },
  {
   "cell_type": "code",
   "execution_count": 16,
   "id": "a1cea1ea-11e8-4590-83e7-d94c3aa549bb",
   "metadata": {},
   "outputs": [
    {
     "data": {
      "text/plain": [
       "array([[1, 2, 3, 4, 6],\n",
       "       [1, 2, 4, 6, 7]])"
      ]
     },
     "execution_count": 16,
     "metadata": {},
     "output_type": "execute_result"
    }
   ],
   "source": [
    "np.sort(array_desordenado)"
   ]
  },
  {
   "cell_type": "code",
   "execution_count": 17,
   "id": "ed381604-3b00-42a5-b16c-2be685df6e5a",
   "metadata": {},
   "outputs": [
    {
     "data": {
      "text/plain": [
       "array([[3, 4, 1, 2, 1],\n",
       "       [7, 6, 2, 6, 4]])"
      ]
     },
     "execution_count": 17,
     "metadata": {},
     "output_type": "execute_result"
    }
   ],
   "source": [
    "# Sin embargo, esto tb es posible de realizar por columna, usando axis.\n",
    "np.sort(array_desordenado, axis = 0)"
   ]
  },
  {
   "cell_type": "code",
   "execution_count": 18,
   "id": "d286e8f8-028b-4dda-bd35-0ba14e0cda12",
   "metadata": {},
   "outputs": [
    {
     "data": {
      "text/plain": [
       "array([[2, 3, 0, 4, 1],\n",
       "       [4, 2, 1, 3, 0]], dtype=int64)"
      ]
     },
     "execution_count": 18,
     "metadata": {},
     "output_type": "execute_result"
    }
   ],
   "source": [
    "# Hay otra función parecida, que nos entrega los indices de los elementos si es que estuvieran ordenados.\n",
    "np.argsort(array_desordenado)"
   ]
  },
  {
   "cell_type": "code",
   "execution_count": 19,
   "id": "deca4604-75ee-452a-865c-5f0c1193aef5",
   "metadata": {},
   "outputs": [
    {
     "data": {
      "text/plain": [
       "array([[0, 1, 0, 0, 1],\n",
       "       [1, 0, 1, 1, 0]], dtype=int64)"
      ]
     },
     "execution_count": 19,
     "metadata": {},
     "output_type": "execute_result"
    }
   ],
   "source": [
    "# Si a la función anterior no le entregamos ningún eje, aplica la función a cada una de las filas.\n",
    "np.argsort(array_desordenado, axis = 0)"
   ]
  },
  {
   "cell_type": "code",
   "execution_count": 20,
   "id": "fa3a6fa3-31ab-467c-8f5b-f16c33ef1c0f",
   "metadata": {},
   "outputs": [
    {
     "data": {
      "text/plain": [
       "array([[1., 1., 1., 1., 1.],\n",
       "       [1., 1., 1., 1., 1.],\n",
       "       [1., 1., 1., 1., 1.]])"
      ]
     },
     "execution_count": 20,
     "metadata": {},
     "output_type": "execute_result"
    }
   ],
   "source": [
    "# Array solo con elementos unos.\n",
    "array_unos = np.ones((3,5))\n",
    "array_unos"
   ]
  },
  {
   "cell_type": "markdown",
   "id": "96e4f230-392f-4a6a-8566-b9960fd5dff3",
   "metadata": {},
   "source": [
    "# Par ver qué o cuales elementos están en la matriz, , escribiremos:\n",
    "np.unique(array_unos)"
   ]
  },
  {
   "cell_type": "code",
   "execution_count": 17,
   "id": "767a408c-62cb-496b-960a-ecde39b95d9a",
   "metadata": {},
   "outputs": [
    {
     "data": {
      "text/plain": [
       "array([[ 1,  2,  3,  4],\n",
       "       [ 5,  6,  7,  8],\n",
       "       [ 9, 10, 11, 12]])"
      ]
     },
     "execution_count": 17,
     "metadata": {},
     "output_type": "execute_result"
    }
   ],
   "source": [
    "array_cincuenta = np.array([[1,2,3,4],[5,6,7,8],[9,10,11,12]])\n",
    "array_cincuenta"
   ]
  },
  {
   "cell_type": "code",
   "execution_count": 18,
   "id": "1ac601e4-f033-4878-8b14-a0b5cef04c3c",
   "metadata": {},
   "outputs": [
    {
     "data": {
      "text/plain": [
       "array([ 1,  2,  3,  4,  5,  6,  7,  8,  9, 10, 11, 12])"
      ]
     },
     "execution_count": 18,
     "metadata": {},
     "output_type": "execute_result"
    }
   ],
   "source": [
    "np.unique(array_cincuenta)"
   ]
  },
  {
   "cell_type": "markdown",
   "id": "56536264-047c-4507-9c3f-1ba612ae2520",
   "metadata": {},
   "source": [
    "### Concatenate Arrays"
   ]
  },
  {
   "cell_type": "code",
   "execution_count": 19,
   "id": "b446921f-d7db-4116-950e-c4e4b19a01b2",
   "metadata": {},
   "outputs": [
    {
     "data": {
      "text/plain": [
       "array([[10, 10, 10, 10],\n",
       "       [10, 10, 10, 10],\n",
       "       [10, 10, 10, 10]])"
      ]
     },
     "execution_count": 19,
     "metadata": {},
     "output_type": "execute_result"
    }
   ],
   "source": [
    "# Creamos un array de igual orden que el anterior.\n",
    "full_array = np.full(array_cincuenta.shape,10)\n",
    "full_array\n"
   ]
  },
  {
   "cell_type": "code",
   "execution_count": 20,
   "id": "c1fcd7b5-90c6-4b90-9c75-81ad932e9582",
   "metadata": {},
   "outputs": [
    {
     "data": {
      "text/plain": [
       "array([[ 1,  2,  3,  4],\n",
       "       [ 5,  6,  7,  8],\n",
       "       [ 9, 10, 11, 12],\n",
       "       [10, 10, 10, 10],\n",
       "       [10, 10, 10, 10],\n",
       "       [10, 10, 10, 10]])"
      ]
     },
     "execution_count": 20,
     "metadata": {},
     "output_type": "execute_result"
    }
   ],
   "source": [
    "# Concatenar\n",
    "np.concatenate((array_cincuenta,full_array))\n"
   ]
  },
  {
   "cell_type": "code",
   "execution_count": 21,
   "id": "87e66d40-b469-40a3-a577-97a9e3052768",
   "metadata": {},
   "outputs": [
    {
     "data": {
      "text/plain": [
       "array([[ 1,  2,  3,  4, 10, 10, 10, 10],\n",
       "       [ 5,  6,  7,  8, 10, 10, 10, 10],\n",
       "       [ 9, 10, 11, 12, 10, 10, 10, 10]])"
      ]
     },
     "execution_count": 21,
     "metadata": {},
     "output_type": "execute_result"
    }
   ],
   "source": [
    "np.concatenate((array_cincuenta,full_array), axis = 1) # El axis = 1 es para concatenar de manera horizontal."
   ]
  },
  {
   "cell_type": "markdown",
   "id": "10a1eefe-82f4-41d9-9864-3a8fb1105e4a",
   "metadata": {},
   "source": [
    "#### Dar vuelta un array"
   ]
  },
  {
   "cell_type": "code",
   "execution_count": 22,
   "id": "ea13de83-ebb2-43c0-9634-540cdf573007",
   "metadata": {},
   "outputs": [
    {
     "data": {
      "text/plain": [
       "(array([[ 1,  2,  3,  4],\n",
       "        [ 5,  6,  7,  8],\n",
       "        [ 9, 10, 11, 12]]),\n",
       " array([[12, 11, 10,  9],\n",
       "        [ 8,  7,  6,  5],\n",
       "        [ 4,  3,  2,  1]]))"
      ]
     },
     "execution_count": 22,
     "metadata": {},
     "output_type": "execute_result"
    }
   ],
   "source": [
    "# Aquí el primer elemento de la primera fila pasa a ser el último elemento de la segunda fila.\n",
    "array_cincuenta, np.flip(array_cincuenta)"
   ]
  },
  {
   "cell_type": "code",
   "execution_count": 23,
   "id": "c4aa6379-feb3-4842-b7da-aeb49b49a29b",
   "metadata": {},
   "outputs": [
    {
     "data": {
      "text/plain": [
       "(array([[ 1,  2,  3,  4],\n",
       "        [ 5,  6,  7,  8],\n",
       "        [ 9, 10, 11, 12]]),\n",
       " array([[ 9, 10, 11, 12],\n",
       "        [ 5,  6,  7,  8],\n",
       "        [ 1,  2,  3,  4]]))"
      ]
     },
     "execution_count": 23,
     "metadata": {},
     "output_type": "execute_result"
    }
   ],
   "source": [
    "# Con axis = 0 solo se invierten las filas.\n",
    "array_cincuenta, np.flip(array_cincuenta, axis = 0)"
   ]
  },
  {
   "cell_type": "code",
   "execution_count": 26,
   "id": "24512ef0-a00f-4d77-9327-9cb09ba011b2",
   "metadata": {},
   "outputs": [
    {
     "data": {
      "text/plain": [
       "(array([[ 1,  2,  3,  4],\n",
       "        [ 5,  6,  7,  8],\n",
       "        [ 9, 10, 11, 12]]),\n",
       " array([[ 4,  3,  2,  1],\n",
       "        [ 8,  7,  6,  5],\n",
       "        [12, 11, 10,  9]]))"
      ]
     },
     "execution_count": 26,
     "metadata": {},
     "output_type": "execute_result"
    }
   ],
   "source": [
    "# Y con axis = 1 solo se invierten las columnas.\n",
    "array_cincuenta, np.flip(array_cincuenta, axis = 1)"
   ]
  },
  {
   "cell_type": "markdown",
   "id": "0e850c20-0bfb-44ca-a50a-3ae8da69a8be",
   "metadata": {},
   "source": [
    "# GUARDAR Y CARGAR ARCHIVOS NUMPY"
   ]
  },
  {
   "cell_type": "code",
   "execution_count": 36,
   "id": "3a7ba521-4ba1-429d-a85d-3cb233d408a2",
   "metadata": {},
   "outputs": [],
   "source": [
    "x = np.arange(104).reshape(8,-1)"
   ]
  },
  {
   "cell_type": "code",
   "execution_count": 37,
   "id": "3904ae60-31fa-4c3f-b23c-334bd65577fd",
   "metadata": {},
   "outputs": [],
   "source": [
    "np.save('nombre_archivo', x) # Esta función guarda un array en formato .npy"
   ]
  },
  {
   "cell_type": "code",
   "execution_count": 38,
   "id": "ac58864f-f5d7-42a5-b962-cf802b2e83cd",
   "metadata": {},
   "outputs": [
    {
     "data": {
      "text/plain": [
       "array([[  0,   1,   2,   3,   4,   5,   6,   7,   8,   9,  10,  11,  12],\n",
       "       [ 13,  14,  15,  16,  17,  18,  19,  20,  21,  22,  23,  24,  25],\n",
       "       [ 26,  27,  28,  29,  30,  31,  32,  33,  34,  35,  36,  37,  38],\n",
       "       [ 39,  40,  41,  42,  43,  44,  45,  46,  47,  48,  49,  50,  51],\n",
       "       [ 52,  53,  54,  55,  56,  57,  58,  59,  60,  61,  62,  63,  64],\n",
       "       [ 65,  66,  67,  68,  69,  70,  71,  72,  73,  74,  75,  76,  77],\n",
       "       [ 78,  79,  80,  81,  82,  83,  84,  85,  86,  87,  88,  89,  90],\n",
       "       [ 91,  92,  93,  94,  95,  96,  97,  98,  99, 100, 101, 102, 103]])"
      ]
     },
     "execution_count": 38,
     "metadata": {},
     "output_type": "execute_result"
    }
   ],
   "source": [
    "np.load('nombre_archivo.npy')"
   ]
  },
  {
   "cell_type": "code",
   "execution_count": 39,
   "id": "7053dd75-a1f4-47ef-b0c9-dc70546aa5d5",
   "metadata": {},
   "outputs": [],
   "source": [
    "np.savetxt('nombre_archivo.cvs', x) # Esta función guarda un array en formato .cvs"
   ]
  },
  {
   "cell_type": "code",
   "execution_count": 40,
   "id": "29b2d185-8765-4364-a313-d9ad435b7ee6",
   "metadata": {},
   "outputs": [
    {
     "data": {
      "text/plain": [
       "array([[  0.,   1.,   2.,   3.,   4.,   5.,   6.,   7.,   8.,   9.,  10.,\n",
       "         11.,  12.],\n",
       "       [ 13.,  14.,  15.,  16.,  17.,  18.,  19.,  20.,  21.,  22.,  23.,\n",
       "         24.,  25.],\n",
       "       [ 26.,  27.,  28.,  29.,  30.,  31.,  32.,  33.,  34.,  35.,  36.,\n",
       "         37.,  38.],\n",
       "       [ 39.,  40.,  41.,  42.,  43.,  44.,  45.,  46.,  47.,  48.,  49.,\n",
       "         50.,  51.],\n",
       "       [ 52.,  53.,  54.,  55.,  56.,  57.,  58.,  59.,  60.,  61.,  62.,\n",
       "         63.,  64.],\n",
       "       [ 65.,  66.,  67.,  68.,  69.,  70.,  71.,  72.,  73.,  74.,  75.,\n",
       "         76.,  77.],\n",
       "       [ 78.,  79.,  80.,  81.,  82.,  83.,  84.,  85.,  86.,  87.,  88.,\n",
       "         89.,  90.],\n",
       "       [ 91.,  92.,  93.,  94.,  95.,  96.,  97.,  98.,  99., 100., 101.,\n",
       "        102., 103.]])"
      ]
     },
     "execution_count": 40,
     "metadata": {},
     "output_type": "execute_result"
    }
   ],
   "source": [
    "np.loadtxt('nombre_archivo.cvs') "
   ]
  },
  {
   "cell_type": "markdown",
   "id": "aab145a2-bbb1-4b50-b817-c53f6d42aaab",
   "metadata": {},
   "source": [
    "#### Esta extensión es util para trabajar con la librería PANDAS"
   ]
  },
  {
   "cell_type": "markdown",
   "id": "abf6df2d-ec27-45ef-812a-d6b345c9df62",
   "metadata": {},
   "source": [
    "# Números RANDOM"
   ]
  },
  {
   "cell_type": "code",
   "execution_count": 2,
   "id": "5c1effaf-7111-4223-ad1e-942810ca8171",
   "metadata": {},
   "outputs": [],
   "source": [
    "rng = np.random.default_rng()"
   ]
  },
  {
   "cell_type": "markdown",
   "id": "58ee3342-f073-4ea2-96e0-36ba73a8a58d",
   "metadata": {},
   "source": [
    "#### Números aleatorios entre 0 y 1"
   ]
  },
  {
   "cell_type": "code",
   "execution_count": 53,
   "id": "41ecb9ff-250e-43c7-9d7a-dac08ce769c8",
   "metadata": {},
   "outputs": [
    {
     "data": {
      "text/plain": [
       "array([[0.67759431, 0.04203267, 0.0553215 , 0.2373427 ],\n",
       "       [0.73377314, 0.04608617, 0.65157301, 0.13327289],\n",
       "       [0.05573321, 0.34637186, 0.70614513, 0.25697936],\n",
       "       [0.16922899, 0.78036221, 0.19417847, 0.49525288],\n",
       "       [0.12408252, 0.86968499, 0.88577156, 0.96795114],\n",
       "       [0.88332999, 0.0945506 , 0.58231946, 0.6436572 ]])"
      ]
     },
     "execution_count": 53,
     "metadata": {},
     "output_type": "execute_result"
    }
   ],
   "source": [
    "rng.random((6,4))"
   ]
  },
  {
   "cell_type": "markdown",
   "id": "0e0a4f8a-2394-408b-a7fd-0a28b9bbea08",
   "metadata": {},
   "source": [
    "#### NOTA: Esto se puede aplicar para inicializar las matrices de parametros de una red neuronal entre un valor y otro"
   ]
  },
  {
   "cell_type": "markdown",
   "id": "301634d5-1243-4e38-89c2-765fe99d88df",
   "metadata": {},
   "source": [
    "## Números aleatorios que siguen la distribución normal estandar"
   ]
  },
  {
   "cell_type": "code",
   "execution_count": 8,
   "id": "c62bfe17-dcc1-4be9-b368-2640c5669992",
   "metadata": {},
   "outputs": [
    {
     "data": {
      "text/plain": [
       "array([[ 0.0612367 , -0.57287455, -1.68910407, -0.23491742],\n",
       "       [-0.55611916, -0.06587838,  0.57762887, -0.0332201 ],\n",
       "       [-0.60714065, -0.00771055, -0.44618141, -0.35203093],\n",
       "       [-0.53622397,  0.59634169,  1.13244408,  1.14491964],\n",
       "       [-0.09955171,  0.0866545 ,  1.58842109,  0.55403497]])"
      ]
     },
     "execution_count": 8,
     "metadata": {},
     "output_type": "execute_result"
    }
   ],
   "source": [
    "rng.standard_normal((5,4))\n"
   ]
  },
  {
   "cell_type": "markdown",
   "id": "c2bdbcf6-3578-497c-b2fb-729365a83564",
   "metadata": {},
   "source": [
    "## Números aleatorios entre 2 valores"
   ]
  },
  {
   "cell_type": "code",
   "execution_count": 14,
   "id": "073c2d24-3cf7-40f5-a4bb-84a9c0c75266",
   "metadata": {},
   "outputs": [
    {
     "data": {
      "text/plain": [
       "array([[ 5,  8,  1,  9, 10],\n",
       "       [ 5,  2, 11,  8,  1],\n",
       "       [ 5,  0,  0,  0, 11]], dtype=int64)"
      ]
     },
     "execution_count": 14,
     "metadata": {},
     "output_type": "execute_result"
    }
   ],
   "source": [
    "rng.integers(0, 12, (3, 5))"
   ]
  },
  {
   "cell_type": "markdown",
   "id": "0f61770e-95b4-4bf0-93fd-f57db634e60f",
   "metadata": {},
   "source": [
    "## Números sacados aleatoriamente de otro array "
   ]
  },
  {
   "cell_type": "code",
   "execution_count": 22,
   "id": "7e16c7c3-e21e-41de-85c8-b868987bc234",
   "metadata": {},
   "outputs": [
    {
     "data": {
      "text/plain": [
       "array([ 1,  2,  3,  4,  5,  6,  7,  8,  9, 10, 11, 12, 13, 14, 15, 16, 17,\n",
       "       18, 19, 20])"
      ]
     },
     "execution_count": 22,
     "metadata": {},
     "output_type": "execute_result"
    }
   ],
   "source": [
    "range_array = np.arange(1,21)\n",
    "range_array "
   ]
  },
  {
   "cell_type": "code",
   "execution_count": 23,
   "id": "214ab72f-78e8-4f59-975f-e8113a17af88",
   "metadata": {},
   "outputs": [
    {
     "data": {
      "text/plain": [
       "array([ 3, 20, 10, 18])"
      ]
     },
     "execution_count": 23,
     "metadata": {},
     "output_type": "execute_result"
    }
   ],
   "source": [
    "rng.choice(range_array, 4)"
   ]
  },
  {
   "cell_type": "markdown",
   "id": "22543227-2b7d-4211-b112-2f7dee285b6f",
   "metadata": {},
   "source": [
    "#### Filas sacadas aleatoriamente de un array"
   ]
  },
  {
   "cell_type": "code",
   "execution_count": 25,
   "id": "ae66323d-5338-4118-9ce0-c7021faf630b",
   "metadata": {},
   "outputs": [
    {
     "data": {
      "text/plain": [
       "array([[ 1,  2,  3,  4],\n",
       "       [ 5,  6,  7,  8],\n",
       "       [ 9, 10, 11, 12],\n",
       "       [13, 14, 15, 16],\n",
       "       [17, 18, 19, 20]])"
      ]
     },
     "execution_count": 25,
     "metadata": {},
     "output_type": "execute_result"
    }
   ],
   "source": [
    "row_array = np.array([[1,2,3,4],[5,6,7,8],[9,10,11,12],[13,14,15,16],[17,18,19,20]])\n",
    "row_array"
   ]
  },
  {
   "cell_type": "markdown",
   "id": "a71abc5b-1da8-49ee-bae9-2067147e3027",
   "metadata": {},
   "source": [
    "#### Columnas sacadas aleatoriamente de un array"
   ]
  },
  {
   "cell_type": "code",
   "execution_count": 35,
   "id": "fb42a3c7-f89d-4155-864b-1c458491423f",
   "metadata": {},
   "outputs": [
    {
     "data": {
      "text/plain": [
       "array([[ 1,  4,  4,  4],\n",
       "       [ 5,  8,  8,  8],\n",
       "       [ 9, 12, 12, 12],\n",
       "       [13, 16, 16, 16],\n",
       "       [17, 20, 20, 20]])"
      ]
     },
     "execution_count": 35,
     "metadata": {},
     "output_type": "execute_result"
    }
   ],
   "source": [
    "rng.choice(row_array, 4, axis = 1)"
   ]
  },
  {
   "cell_type": "markdown",
   "id": "7f752de0-63a0-4fc9-b434-705f989385cb",
   "metadata": {},
   "source": [
    "## Cambiar la posición de los elementos de forma aleatoria (barajar)"
   ]
  },
  {
   "cell_type": "code",
   "execution_count": 64,
   "id": "450c6611-0d06-4e87-9750-221b9434b561",
   "metadata": {},
   "outputs": [
    {
     "data": {
      "text/plain": [
       "array([ 2, 13, 10,  5,  7,  4,  8, 11,  0,  9, 12,  3,  1,  6, 14])"
      ]
     },
     "execution_count": 64,
     "metadata": {},
     "output_type": "execute_result"
    }
   ],
   "source": [
    "elementos = np.arange(15)\n",
    "rng.shuffle(elementos)\n",
    "elementos"
   ]
  },
  {
   "cell_type": "markdown",
   "id": "a2dc6071-8f18-4049-9359-4ad05118635c",
   "metadata": {},
   "source": [
    "#### Nota: esta función baraja los elementos pero no imprime, para imprimir hay que imprimir el array al que se le realizó el cambio"
   ]
  },
  {
   "cell_type": "markdown",
   "id": "733be06f-065e-402f-ae26-88e199d223ab",
   "metadata": {},
   "source": [
    "### También se pueden barajar filas "
   ]
  },
  {
   "cell_type": "code",
   "execution_count": 77,
   "id": "df9e3858-aa58-4ffb-baa3-aae15cca6724",
   "metadata": {},
   "outputs": [
    {
     "data": {
      "text/plain": [
       "array([[ 0,  1,  2,  3,  4],\n",
       "       [ 5,  6,  7,  8,  9],\n",
       "       [10, 11, 12, 13, 14],\n",
       "       [15, 16, 17, 18, 19]])"
      ]
     },
     "execution_count": 77,
     "metadata": {},
     "output_type": "execute_result"
    }
   ],
   "source": [
    "baraja_arrays = np.arange(20).reshape(4,-1)\n",
    "baraja_arrays"
   ]
  },
  {
   "cell_type": "code",
   "execution_count": 78,
   "id": "23e599e0-641b-4769-834e-af3053816d6c",
   "metadata": {},
   "outputs": [
    {
     "data": {
      "text/plain": [
       "array([[ 0,  1,  2,  3,  4],\n",
       "       [10, 11, 12, 13, 14],\n",
       "       [ 5,  6,  7,  8,  9],\n",
       "       [15, 16, 17, 18, 19]])"
      ]
     },
     "execution_count": 78,
     "metadata": {},
     "output_type": "execute_result"
    }
   ],
   "source": [
    "rng.shuffle(baraja_arrays)\n",
    "baraja_arrays"
   ]
  },
  {
   "cell_type": "markdown",
   "id": "692a3794-6bc4-471b-a1ce-7359cf0171a0",
   "metadata": {
    "tags": []
   },
   "source": [
    "### Y por supuesto, columnas."
   ]
  },
  {
   "cell_type": "code",
   "execution_count": 81,
   "id": "11c3473c-6273-4528-9cb1-ca51f2557d10",
   "metadata": {},
   "outputs": [
    {
     "data": {
      "text/plain": [
       "array([[ 0,  1,  2,  3,  4],\n",
       "       [ 5,  6,  7,  8,  9],\n",
       "       [10, 11, 12, 13, 14],\n",
       "       [15, 16, 17, 18, 19]])"
      ]
     },
     "execution_count": 81,
     "metadata": {},
     "output_type": "execute_result"
    }
   ],
   "source": [
    "baraja_arrays = np.arange(20).reshape(4,-1)\n",
    "baraja_arrays"
   ]
  },
  {
   "cell_type": "code",
   "execution_count": 83,
   "id": "df786d97-257d-417a-a252-0098fdd3b7b5",
   "metadata": {},
   "outputs": [
    {
     "data": {
      "text/plain": [
       "array([[ 2,  1,  4,  3,  0],\n",
       "       [ 7,  6,  9,  8,  5],\n",
       "       [12, 11, 14, 13, 10],\n",
       "       [17, 16, 19, 18, 15]])"
      ]
     },
     "execution_count": 83,
     "metadata": {},
     "output_type": "execute_result"
    }
   ],
   "source": [
    "rng.shuffle(baraja_arrays, axis = 1)\n",
    "baraja_arrays"
   ]
  },
  {
   "cell_type": "markdown",
   "id": "fec0ab99-4528-483d-bbee-5e5c8acf6a91",
   "metadata": {},
   "source": [
    "### Permutaciones random"
   ]
  },
  {
   "cell_type": "code",
   "execution_count": 87,
   "id": "f654fefb-8d5f-4259-beb2-d47e85c68154",
   "metadata": {},
   "outputs": [
    {
     "data": {
      "text/plain": [
       "array([[ 0,  1,  2,  3,  4],\n",
       "       [ 5,  6,  7,  8,  9],\n",
       "       [10, 11, 12, 13, 14],\n",
       "       [15, 16, 17, 18, 19]])"
      ]
     },
     "execution_count": 87,
     "metadata": {},
     "output_type": "execute_result"
    }
   ],
   "source": [
    "permutacion = np.arange(20).reshape(4,-1)\n",
    "permutacion"
   ]
  },
  {
   "cell_type": "code",
   "execution_count": 89,
   "id": "922d1395-ef72-4f50-9688-84064a556969",
   "metadata": {},
   "outputs": [
    {
     "data": {
      "text/plain": [
       "array([[ 5,  6,  7,  8,  9],\n",
       "       [ 0,  1,  2,  3,  4],\n",
       "       [15, 16, 17, 18, 19],\n",
       "       [10, 11, 12, 13, 14]])"
      ]
     },
     "execution_count": 89,
     "metadata": {},
     "output_type": "execute_result"
    }
   ],
   "source": [
    "# Permuta filas\n",
    "rng.permutation(permutacion)"
   ]
  },
  {
   "cell_type": "code",
   "execution_count": 90,
   "id": "cb0a97a0-b1b5-423d-9e42-d8217d319f0e",
   "metadata": {},
   "outputs": [
    {
     "data": {
      "text/plain": [
       "array([[ 1,  3,  2,  0,  4],\n",
       "       [ 6,  8,  7,  5,  9],\n",
       "       [11, 13, 12, 10, 14],\n",
       "       [16, 18, 17, 15, 19]])"
      ]
     },
     "execution_count": 90,
     "metadata": {},
     "output_type": "execute_result"
    }
   ],
   "source": [
    "# Permuta columnas\n",
    "rng.permutation(permutacion, axis = 1)"
   ]
  },
  {
   "cell_type": "markdown",
   "id": "d0394ee3-f912-451c-ae25-4cd102e35bd1",
   "metadata": {},
   "source": [
    "# Estadística"
   ]
  },
  {
   "cell_type": "markdown",
   "id": "f23b9e1e-6955-4e39-8beb-8695b2065076",
   "metadata": {},
   "source": [
    "## Chi-cuadrado"
   ]
  },
  {
   "cell_type": "code",
   "execution_count": 5,
   "id": "d277abdd-7200-436d-9c0b-33611e3ad84c",
   "metadata": {},
   "outputs": [],
   "source": [
    "chi_cuadrado = rng.chisquare(10,1000)"
   ]
  },
  {
   "cell_type": "code",
   "execution_count": 6,
   "id": "246c0a39-3a7a-4275-bbea-f825fcb25328",
   "metadata": {},
   "outputs": [
    {
     "data": {
      "text/plain": [
       "<AxesSubplot:ylabel='Count'>"
      ]
     },
     "execution_count": 6,
     "metadata": {},
     "output_type": "execute_result"
    },
    {
     "data": {
      "image/png": "[encoded data removed]",
      "text/plain": [
       "<Figure size 432x288 with 1 Axes>"
      ]
     },
     "metadata": {
      "needs_background": "light"
     },
     "output_type": "display_data"
    }
   ],
   "source": [
    "sns.histplot(chi_cuadrado, kde = True)"
   ]
  },
  {
   "cell_type": "markdown",
   "id": "5b260d0b-7d11-4f87-a02a-82c64a8b1cd7",
   "metadata": {},
   "source": [
    "## Poisson"
   ]
  },
  {
   "cell_type": "code",
   "execution_count": 11,
   "id": "8eb521a4-b6c5-4420-b3f7-77d626cab183",
   "metadata": {},
   "outputs": [],
   "source": [
    "posisson = rng.poisson(5, 10000)"
   ]
  },
  {
   "cell_type": "code",
   "execution_count": 12,
   "id": "8b3fb4e5-e409-4881-a734-a00552db49c9",
   "metadata": {},
   "outputs": [
    {
     "data": {
      "text/plain": [
       "<AxesSubplot:ylabel='Count'>"
      ]
     },
     "execution_count": 12,
     "metadata": {},
     "output_type": "execute_result"
    },
    {
     "data": {
      "image/png": "[encoded data removed]",
      "text/plain": [
       "<Figure size 432x288 with 1 Axes>"
      ]
     },
     "metadata": {
      "needs_background": "light"
     },
     "output_type": "display_data"
    }
   ],
   "source": [
    "sns.histplot(posisson, kde = True, bins = 15)"
   ]
  },
  {
   "cell_type": "markdown",
   "id": "e47ddca7-c6cc-4003-8402-4bf020768edf",
   "metadata": {},
   "source": [
    "## Normal"
   ]
  },
  {
   "cell_type": "code",
   "execution_count": 23,
   "id": "bb928bb9-4c3d-47a6-b908-3c379ca42108",
   "metadata": {},
   "outputs": [
    {
     "data": {
      "text/plain": [
       "<AxesSubplot:ylabel='Count'>"
      ]
     },
     "execution_count": 23,
     "metadata": {},
     "output_type": "execute_result"
    },
    {
     "data": {
      "image/png": "[encoded data removed]",
      "text/plain": [
       "<Figure size 432x288 with 1 Axes>"
      ]
     },
     "metadata": {
      "needs_background": "light"
     },
     "output_type": "display_data"
    }
   ],
   "source": [
    "distribucion_normal = rng.normal(20, 3, 1000)\n",
    "sns.histplot(distribucion_normal, kde=True)"
   ]
  },
  {
   "cell_type": "markdown",
   "id": "7ed8776e-b612-4b70-b5a2-9e141502d3ca",
   "metadata": {},
   "source": [
    "#### NOTA: podemos comprobar observando el promedio y la desviación standard de la muestra"
   ]
  },
  {
   "cell_type": "code",
   "execution_count": 24,
   "id": "86883491-f165-446c-858a-7fabe5cd3dca",
   "metadata": {},
   "outputs": [
    {
     "data": {
      "text/plain": [
       "(20.043367310662024, 3.0381326333783654)"
      ]
     },
     "execution_count": 24,
     "metadata": {},
     "output_type": "execute_result"
    }
   ],
   "source": [
    "distribucion_normal.mean(), distribucion_normal.std()"
   ]
  },
  {
   "cell_type": "markdown",
   "id": "dec48a34-55c8-459b-b304-ee959f1d54f9",
   "metadata": {},
   "source": [
    "## Cuartiles"
   ]
  },
  {
   "cell_type": "code",
   "execution_count": 28,
   "id": "3f60f2ba-36ad-4676-8a9d-4dead2cf742a",
   "metadata": {},
   "outputs": [
    {
     "data": {
      "text/plain": [
       "20.094100322681328"
      ]
     },
     "execution_count": 28,
     "metadata": {},
     "output_type": "execute_result"
    }
   ],
   "source": [
    "# El primer parametro es la distribución y el segundo es el cuartil\n",
    "np.quantile(distribucion_normal, 0.5)"
   ]
  },
  {
   "cell_type": "markdown",
   "id": "68dfa7bf-509f-4faf-886a-4aba3a9adf31",
   "metadata": {},
   "source": [
    "# ALGEBRA LINEAL"
   ]
  },
  {
   "cell_type": "markdown",
   "id": "5ead567d-7735-4c86-aa70-239da03a4ad9",
   "metadata": {},
   "source": [
    "## Crear una matriz identidad"
   ]
  },
  {
   "cell_type": "code",
   "execution_count": 30,
   "id": "e1d15ca6-ec61-4741-80c8-e3e2287a55d4",
   "metadata": {},
   "outputs": [
    {
     "data": {
      "text/plain": [
       "array([[1., 0., 0., 0.],\n",
       "       [0., 1., 0., 0.],\n",
       "       [0., 0., 1., 0.],\n",
       "       [0., 0., 0., 1.]])"
      ]
     },
     "execution_count": 30,
     "metadata": {},
     "output_type": "execute_result"
    }
   ],
   "source": [
    "matriz = np. eye((4))\n",
    "matriz"
   ]
  },
  {
   "cell_type": "markdown",
   "id": "913be136-280c-4bee-b92a-fe663900e24c",
   "metadata": {},
   "source": [
    "## Crear una matriz transpuesta"
   ]
  },
  {
   "cell_type": "code",
   "execution_count": 31,
   "id": "cd76640d-a86e-440f-aebb-f1d96184f5c5",
   "metadata": {},
   "outputs": [
    {
     "data": {
      "text/plain": [
       "array([[1., 0., 0., 0.],\n",
       "       [0., 1., 0., 0.],\n",
       "       [0., 0., 1., 0.],\n",
       "       [0., 0., 0., 1.]])"
      ]
     },
     "execution_count": 31,
     "metadata": {},
     "output_type": "execute_result"
    }
   ],
   "source": [
    "matriz.T"
   ]
  },
  {
   "cell_type": "markdown",
   "id": "e7e757ec-72d7-4b9c-8141-4e6d575d4f26",
   "metadata": {},
   "source": [
    "### Ejemplo 2:"
   ]
  },
  {
   "cell_type": "code",
   "execution_count": 26,
   "id": "2f3c0c8c-a9c9-40d7-a8a4-6f6807779e6c",
   "metadata": {},
   "outputs": [
    {
     "data": {
      "text/plain": [
       "array([[1, 2, 3],\n",
       "       [4, 5, 6],\n",
       "       [7, 8, 9]])"
      ]
     },
     "execution_count": 26,
     "metadata": {},
     "output_type": "execute_result"
    }
   ],
   "source": [
    "mat_2 = np.array([[1,2,3],[4,5,6],[7,8,9]])\n",
    "mat_2"
   ]
  },
  {
   "cell_type": "code",
   "execution_count": 27,
   "id": "b710f7fa-648a-4b62-804e-fbe011967f60",
   "metadata": {},
   "outputs": [
    {
     "data": {
      "text/plain": [
       "array([[1, 4, 7],\n",
       "       [2, 5, 8],\n",
       "       [3, 6, 9]])"
      ]
     },
     "execution_count": 27,
     "metadata": {},
     "output_type": "execute_result"
    }
   ],
   "source": [
    "mat_2.T"
   ]
  },
  {
   "cell_type": "markdown",
   "id": "c5fa1ac3-9606-4fe8-a62f-6c50bf3e9ebf",
   "metadata": {},
   "source": [
    "## Calcular traza: suma de las diagonales (diagonal desde el primer elemento)"
   ]
  },
  {
   "cell_type": "code",
   "execution_count": 42,
   "id": "3926ecae-0811-4959-89a4-c85c491f659c",
   "metadata": {},
   "outputs": [
    {
     "data": {
      "text/plain": [
       "array([[6, 0, 0],\n",
       "       [0, 6, 0],\n",
       "       [0, 0, 6]])"
      ]
     },
     "execution_count": 42,
     "metadata": {},
     "output_type": "execute_result"
    }
   ],
   "source": [
    "mat_3 = np.array([[6,0,0],[0,6,0],[0,0,6]])\n",
    "mat_3"
   ]
  },
  {
   "cell_type": "markdown",
   "id": "04094916-d59c-4e6f-a846-55e7194d0463",
   "metadata": {},
   "source": [
    "## Determinante de una matriz"
   ]
  },
  {
   "cell_type": "code",
   "execution_count": 23,
   "id": "131e208a-c304-4fb7-be21-21fd57b900db",
   "metadata": {},
   "outputs": [
    {
     "data": {
      "text/plain": [
       "44.000000000000014"
      ]
     },
     "execution_count": 23,
     "metadata": {},
     "output_type": "execute_result"
    }
   ],
   "source": [
    "np.linalg.det(mat_3)"
   ]
  },
  {
   "cell_type": "markdown",
   "id": "dee11132-34b6-4168-8da2-07f042d95290",
   "metadata": {},
   "source": [
    "## Inversa de una matriz"
   ]
  },
  {
   "cell_type": "code",
   "execution_count": 24,
   "id": "1f917a74-5da5-4436-856d-96ed7b5feae7",
   "metadata": {},
   "outputs": [
    {
     "data": {
      "text/plain": [
       "array([[-1.59090909,  0.68181818, -0.09090909],\n",
       "       [ 1.43181818, -0.61363636,  0.18181818],\n",
       "       [-0.09090909,  0.18181818, -0.09090909]])"
      ]
     },
     "execution_count": 24,
     "metadata": {},
     "output_type": "execute_result"
    }
   ],
   "source": [
    "np.linalg.inv(mat_3)"
   ]
  },
  {
   "cell_type": "markdown",
   "id": "cbfec60b-2f4b-4ae3-a0ea-d2a7473d8127",
   "metadata": {},
   "source": [
    "## Multiplicación de matrices"
   ]
  },
  {
   "cell_type": "code",
   "execution_count": 28,
   "id": "3817cafc-cf4e-4657-b177-112d1a18398f",
   "metadata": {},
   "outputs": [
    {
     "data": {
      "text/plain": [
       "array([[ 38,  44,  17],\n",
       "       [ 83,  98,  47],\n",
       "       [128, 152,  77]])"
      ]
     },
     "execution_count": 28,
     "metadata": {},
     "output_type": "execute_result"
    }
   ],
   "source": [
    "np.matmul(mat_2,mat_3)"
   ]
  },
  {
   "cell_type": "code",
   "execution_count": 29,
   "id": "cf7872ef-cc90-459a-8798-e6f9df0d4ad0",
   "metadata": {},
   "outputs": [
    {
     "data": {
      "text/plain": [
       "array([[ 38,  44,  17],\n",
       "       [ 83,  98,  47],\n",
       "       [128, 152,  77]])"
      ]
     },
     "execution_count": 29,
     "metadata": {},
     "output_type": "execute_result"
    }
   ],
   "source": [
    "mat_2 @ mat_3"
   ]
  },
  {
   "cell_type": "markdown",
   "id": "4e8dc46d-daab-4382-9b3f-9e87c9ce29d7",
   "metadata": {},
   "source": [
    "## Producto Escalar (interno o producto punto)"
   ]
  },
  {
   "cell_type": "code",
   "execution_count": 36,
   "id": "89cb2e69-8f1d-4721-a7d5-dadcd8e5b72d",
   "metadata": {},
   "outputs": [],
   "source": [
    "vec_1 = np.arange(4)\n",
    "vec_2 = [3,4,5,6]"
   ]
  },
  {
   "cell_type": "code",
   "execution_count": 37,
   "id": "eef6461a-cc95-4901-89fd-2f6fd12a87fa",
   "metadata": {},
   "outputs": [
    {
     "data": {
      "text/plain": [
       "32"
      ]
     },
     "execution_count": 37,
     "metadata": {},
     "output_type": "execute_result"
    }
   ],
   "source": [
    "vec_1.dot(vec_2)"
   ]
  },
  {
   "cell_type": "markdown",
   "id": "04ea4c03-1be8-494a-9442-e5db792faa30",
   "metadata": {},
   "source": [
    "## Descomposición en valores propios y vectores propios de una matriz A = Q Q-1"
   ]
  },
  {
   "cell_type": "code",
   "execution_count": 43,
   "id": "489c0e9c-bf82-4d49-9c7f-6c3b0dabcbe8",
   "metadata": {},
   "outputs": [
    {
     "data": {
      "text/plain": [
       "(array([6., 6., 6.]),\n",
       " array([[1., 0., 0.],\n",
       "        [0., 1., 0.],\n",
       "        [0., 0., 1.]]))"
      ]
     },
     "execution_count": 43,
     "metadata": {},
     "output_type": "execute_result"
    }
   ],
   "source": [
    "lamb, Q = np.linalg.eig(mat_3)\n",
    "lamb, Q"
   ]
  },
  {
   "cell_type": "markdown",
   "id": "80db11d5-457e-4512-a90a-c71772ee2d76",
   "metadata": {},
   "source": [
    "## Convertir un vector en  una matriz con los elementos en la diagonal"
   ]
  },
  {
   "cell_type": "code",
   "execution_count": 44,
   "id": "0de827d0-f8be-49f7-80fb-8dda42dccd2f",
   "metadata": {},
   "outputs": [
    {
     "data": {
      "text/plain": [
       "array([[6., 0., 0.],\n",
       "       [0., 6., 0.],\n",
       "       [0., 0., 6.]])"
      ]
     },
     "execution_count": 44,
     "metadata": {},
     "output_type": "execute_result"
    }
   ],
   "source": [
    "lamb = np.diagflat(lamb)\n",
    "lamb"
   ]
  },
  {
   "cell_type": "code",
   "execution_count": 45,
   "id": "6e8874b1-604b-4098-9daf-128aad3b62b0",
   "metadata": {},
   "outputs": [
    {
     "data": {
      "text/plain": [
       "array([[6., 0., 0.],\n",
       "       [0., 6., 0.],\n",
       "       [0., 0., 6.]])"
      ]
     },
     "execution_count": 45,
     "metadata": {},
     "output_type": "execute_result"
    }
   ],
   "source": [
    "Q @ lamb @ np.linalg.inv(Q)"
   ]
  },
  {
   "cell_type": "markdown",
   "id": "23eec6ab-b3f2-4f2b-b61b-590ca2cc9775",
   "metadata": {},
   "source": [
    "# Aquí me quedé marcando ocupado"
   ]
  },
  {
   "cell_type": "markdown",
   "id": "d8ad2e90-a5a2-44d8-8817-532f7e3af6ba",
   "metadata": {},
   "source": [
    "# TRIGONOMETRIA"
   ]
  },
  {
   "cell_type": "code",
   "execution_count": 3,
   "id": "fcd86de1-b144-466b-bb02-a62031b39309",
   "metadata": {},
   "outputs": [],
   "source": [
    "x = np.linspace(0, 4 * np.pi, 100)"
   ]
  },
  {
   "cell_type": "code",
   "execution_count": 6,
   "id": "f9d9d1d7-41ff-4314-836e-06f87ac1f166",
   "metadata": {},
   "outputs": [],
   "source": [
    "sen_x = np.sin(x)\n",
    "cos_x = np.cos(x)"
   ]
  },
  {
   "cell_type": "markdown",
   "id": "766e2825-b5d9-4d9a-9f44-bc726bcb311f",
   "metadata": {},
   "source": [
    "# Función seno"
   ]
  },
  {
   "cell_type": "code",
   "execution_count": 7,
   "id": "7eb26cc1-93c6-48c9-98d4-4c9179bff2ae",
   "metadata": {},
   "outputs": [
    {
     "data": {
      "text/plain": [
       "Text(0.5, 1.0, 'Sen(x)')"
      ]
     },
     "execution_count": 7,
     "metadata": {},
     "output_type": "execute_result"
    },
    {
     "data": {
      "image/png": "[encoded data removed]",
      "text/plain": [
       "<Figure size 432x288 with 1 Axes>"
      ]
     },
     "metadata": {
      "needs_background": "light"
     },
     "output_type": "display_data"
    }
   ],
   "source": [
    "sns.lineplot(x = x, y = sen_x)\n",
    "plt.title(\"Sen(x)\")"
   ]
  },
  {
   "cell_type": "markdown",
   "id": "b81ff31f-a41f-4984-a820-d59dedc53091",
   "metadata": {},
   "source": [
    "# Función coseno"
   ]
  },
  {
   "cell_type": "code",
   "execution_count": 8,
   "id": "f9145eb3-e139-470b-9070-b6e988b9dbd3",
   "metadata": {},
   "outputs": [
    {
     "data": {
      "text/plain": [
       "Text(0.5, 1.0, 'Cos(x)')"
      ]
     },
     "execution_count": 8,
     "metadata": {},
     "output_type": "execute_result"
    },
    {
     "data": {
      "image/png": "[encoded data removed]",
      "text/plain": [
       "<Figure size 432x288 with 1 Axes>"
      ]
     },
     "metadata": {
      "needs_background": "light"
     },
     "output_type": "display_data"
    }
   ],
   "source": [
    "sns.lineplot(x = x, y = cos_x)\n",
    "plt.title(\"Cos(x)\")"
   ]
  },
  {
   "cell_type": "markdown",
   "id": "dde63ca6-b942-4e6b-b0af-edd69d1f70c0",
   "metadata": {},
   "source": [
    "# Función Hiperbólica"
   ]
  },
  {
   "cell_type": "code",
   "execution_count": 8,
   "id": "59c50f57-c1e6-4212-a858-8f184562b24a",
   "metadata": {},
   "outputs": [],
   "source": [
    "x = np.linspace(-np.pi,np.pi,100)\n",
    "senh_x = np.sinh(x)\n",
    "cosh_x = np.cosh(x)\n",
    "tanh_x = np.tanh(x)"
   ]
  },
  {
   "cell_type": "code",
   "execution_count": 11,
   "id": "e76a118c-c0e6-4e53-8022-6c4849ff47ed",
   "metadata": {},
   "outputs": [
    {
     "data": {
      "text/plain": [
       "Text(0.5, 1.0, 'Función Hiperbólica')"
      ]
     },
     "execution_count": 11,
     "metadata": {},
     "output_type": "execute_result"
    },
    {
     "data": {
      "image/png": "[encoded data removed]",
      "text/plain": [
       "<Figure size 432x288 with 1 Axes>"
      ]
     },
     "metadata": {
      "needs_background": "light"
     },
     "output_type": "display_data"
    }
   ],
   "source": [
    "sns.lineplot(x = x, y = senh_x)\n",
    "sns.lineplot(x = x, y = cosh_x)\n",
    "sns.lineplot(x = x, y = tanh_x)\n",
    "plt.title(\"Función Hiperbólica\")"
   ]
  },
  {
   "cell_type": "markdown",
   "id": "1f48df52-559e-4afd-8da7-562e4b99af15",
   "metadata": {},
   "source": [
    "# SET DE JULIA"
   ]
  },
  {
   "cell_type": "code",
   "execution_count": 129,
   "id": "63564f57-88c5-4ad3-86ae-4ff6a0cd7cb8",
   "metadata": {},
   "outputs": [
    {
     "data": {
      "text/plain": [
       "<function matplotlib.pyplot.show(close=None, block=None)>"
      ]
     },
     "execution_count": 129,
     "metadata": {},
     "output_type": "execute_result"
    },
    {
     "data": {
      "image/png": "[encoded data removed]",
      "text/plain": [
       "<Figure size 576x576 with 1 Axes>"
      ]
     },
     "metadata": {
      "needs_background": "light"
     },
     "output_type": "display_data"
    }
   ],
   "source": [
    "c = complex(-0.835,-0.2345)\n",
    "x = np.linspace(-2, 2, 8000)\n",
    "y = np.linspace(-2, 2, 8000)\n",
    "(XX, YY) = np.meshgrid(x, y)\n",
    "XX.shape, YY.shape\n",
    "Z = np.array(XX + 1j * YY)\n",
    "result = np.zeros(Z.shape)\n",
    "mask = np.ones(Z.shape, dtype = bool)\n",
    "\n",
    "for i in range(24):\n",
    "    Z[mask] = Z[mask] ** 2 + c\n",
    "    mask = np.abs(Z) < 2\n",
    "    result += mask   \n",
    "plt.figure(figsize = (8, 8))\n",
    "plt.imshow(result, extent = (x.min(), x.max(), y.min(), y.max()), cmap = cm.gnuplot2)\n",
    "plt.axis(\"off\")\n",
    "plt.tight_layout()\n",
    "plt.show"
   ]
  },
  {
   "cell_type": "code",
   "execution_count": null,
   "id": "56cb0502-effb-4b2e-adcd-e51ce9f017de",
   "metadata": {},
   "outputs": [],
   "source": []
  }
 ],
 "metadata": {
  "kernelspec": {
   "display_name": "Python 3 (ipykernel)",
   "language": "python",
   "name": "python3"
  },
  "language_info": {
   "codemirror_mode": {
    "name": "ipython",
    "version": 3
   },
   "file_extension": ".py",
   "mimetype": "text/x-python",
   "name": "python",
   "nbconvert_exporter": "python",
   "pygments_lexer": "ipython3",
   "version": "3.9.12"
  }
 },
 "nbformat": 4,
 "nbformat_minor": 5
}
