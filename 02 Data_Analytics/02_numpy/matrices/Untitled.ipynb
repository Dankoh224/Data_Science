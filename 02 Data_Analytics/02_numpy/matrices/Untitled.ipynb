{
 "cells": [
  {
   "cell_type": "code",
   "execution_count": 13,
   "id": "34b27ad1-ea2e-47d0-92b7-9ffbc161ada7",
   "metadata": {},
   "outputs": [],
   "source": [
    "import numpy as np"
   ]
  },
  {
   "cell_type": "markdown",
   "id": "223bf6bb-7731-499a-89a0-a633afbfd1a3",
   "metadata": {},
   "source": [
    "# Accesos a la información"
   ]
  },
  {
   "cell_type": "markdown",
   "id": "6c63999d-2d6b-4edc-8773-a97f83a2f3bd",
   "metadata": {},
   "source": [
    "## Acceso a un vector"
   ]
  },
  {
   "cell_type": "code",
   "execution_count": 14,
   "id": "2c668da7-9492-42cb-98f9-ee0bb76f1f9e",
   "metadata": {},
   "outputs": [
    {
     "name": "stdout",
     "output_type": "stream",
     "text": [
      "[1 2 3 4 5 6 7]\n"
     ]
    }
   ],
   "source": [
    "vector = np.array([1,2,3,4,5,6,7])\n",
    "print(vector)"
   ]
  },
  {
   "cell_type": "code",
   "execution_count": 15,
   "id": "2423932c-a699-4fd8-a95c-c658d1ce9ab1",
   "metadata": {},
   "outputs": [
    {
     "name": "stdout",
     "output_type": "stream",
     "text": [
      "4\n",
      "7\n",
      "[3 4 5]\n",
      "[3 5]\n"
     ]
    }
   ],
   "source": [
    "print(vector[3])\n",
    "print(vector[-1])\n",
    "print(vector[2:5])\n",
    "print(vector[2:5:2]) # Aquí podemos elegir los elementos de 2 a 5, de dos en dos."
   ]
  },
  {
   "cell_type": "markdown",
   "id": "bce947a0-9cf3-4f42-86e4-4492c08f3c5e",
   "metadata": {},
   "source": [
    "## Acceso a una matriz de dos dimensiones"
   ]
  },
  {
   "cell_type": "code",
   "execution_count": 16,
   "id": "472d3819-1c1a-4f75-8067-09c5394953d9",
   "metadata": {},
   "outputs": [
    {
     "name": "stdout",
     "output_type": "stream",
     "text": [
      "[[1 2 3]\n",
      " [4 5 6]]\n"
     ]
    }
   ],
   "source": [
    "array_2_dim = np.array([[1,2,3],[4,5,6]])\n",
    "print(array_2_dim)"
   ]
  },
  {
   "cell_type": "code",
   "execution_count": 17,
   "id": "07f5c6c1-93a0-4646-9df9-3a7ebe793346",
   "metadata": {},
   "outputs": [
    {
     "name": "stdout",
     "output_type": "stream",
     "text": [
      "6\n"
     ]
    }
   ],
   "source": [
    "print(array_2_dim[1,2])"
   ]
  },
  {
   "cell_type": "markdown",
   "id": "9844f0d6-84d1-44e7-b2f4-1e44e393c8d0",
   "metadata": {},
   "source": [
    "## Acceso a una matriz de tres dimensiones"
   ]
  },
  {
   "cell_type": "code",
   "execution_count": 18,
   "id": "209166cf-1856-4262-88cf-1510b10055df",
   "metadata": {},
   "outputs": [
    {
     "name": "stdout",
     "output_type": "stream",
     "text": [
      "[[[ 1  2  3]\n",
      "  [ 4  5  6]]\n",
      "\n",
      " [[ 7  8  9]\n",
      "  [10 11 12]]]\n"
     ]
    }
   ],
   "source": [
    "array_3_dim = np.array([[[1,2,3],[4,5,6]],[[7,8,9],[10,11,12]]])\n",
    "print(array_3_dim)"
   ]
  },
  {
   "cell_type": "code",
   "execution_count": 19,
   "id": "622ccc51-9730-469b-bab6-b1392f8996ec",
   "metadata": {},
   "outputs": [
    {
     "name": "stdout",
     "output_type": "stream",
     "text": [
      "12\n"
     ]
    }
   ],
   "source": [
    "print(array_3_dim[1,1,2])"
   ]
  },
  {
   "cell_type": "code",
   "execution_count": 20,
   "id": "61e436d3-fc6e-4c1f-a2e5-1adb458bd93b",
   "metadata": {},
   "outputs": [],
   "source": [
    "a = 4"
   ]
  },
  {
   "cell_type": "code",
   "execution_count": 21,
   "id": "c290b862-d77e-4727-a36f-824da43b7a71",
   "metadata": {},
   "outputs": [],
   "source": [
    "b = a"
   ]
  },
  {
   "cell_type": "code",
   "execution_count": 22,
   "id": "2e07167c-3832-48e0-936b-5e8a08e4acb0",
   "metadata": {},
   "outputs": [
    {
     "name": "stdout",
     "output_type": "stream",
     "text": [
      "2446186277264\n",
      "2446186277264\n"
     ]
    }
   ],
   "source": [
    "print(id(a))\n",
    "print(id(b))"
   ]
  },
  {
   "cell_type": "code",
   "execution_count": 23,
   "id": "07e6901d-30f7-406f-9b57-c0288a4205c2",
   "metadata": {},
   "outputs": [],
   "source": [
    "a = 5"
   ]
  },
  {
   "cell_type": "code",
   "execution_count": 24,
   "id": "25fd21c9-2bed-413b-b0e2-c627cb2ac60c",
   "metadata": {},
   "outputs": [
    {
     "name": "stdout",
     "output_type": "stream",
     "text": [
      "2446186277296\n",
      "2446186277264\n"
     ]
    }
   ],
   "source": [
    "print(id(a))\n",
    "print(id(b))"
   ]
  },
  {
   "cell_type": "code",
   "execution_count": null,
   "id": "0b6b3834-443a-4737-a482-68e958ee1efb",
   "metadata": {},
   "outputs": [],
   "source": []
  }
 ],
 "metadata": {
  "kernelspec": {
   "display_name": "Python 3 (ipykernel)",
   "language": "python",
   "name": "python3"
  },
  "language_info": {
   "codemirror_mode": {
    "name": "ipython",
    "version": 3
   },
   "file_extension": ".py",
   "mimetype": "text/x-python",
   "name": "python",
   "nbconvert_exporter": "python",
   "pygments_lexer": "ipython3",
   "version": "3.9.12"
  }
 },
 "nbformat": 4,
 "nbformat_minor": 5
}
