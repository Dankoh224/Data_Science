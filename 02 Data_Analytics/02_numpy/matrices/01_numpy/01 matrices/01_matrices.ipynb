{
 "cells": [
  {
   "cell_type": "markdown",
   "id": "60198287-6cdb-469d-96e0-2d98827b3b43",
   "metadata": {},
   "source": [
    "# Matrices"
   ]
  },
  {
   "cell_type": "code",
   "execution_count": 1,
   "id": "bbe0bd20-c14c-4fe3-8d4d-110d54931968",
   "metadata": {},
   "outputs": [],
   "source": [
    "import numpy as np"
   ]
  },
  {
   "cell_type": "markdown",
   "id": "d56f1498-563e-45e8-b563-3b4e94d46278",
   "metadata": {},
   "source": [
    "### Matriz cero"
   ]
  },
  {
   "cell_type": "code",
   "execution_count": 10,
   "id": "61d362ad-1f64-4265-9b41-d3f51ace32f8",
   "metadata": {},
   "outputs": [
    {
     "data": {
      "text/plain": [
       "array([0., 0., 0., 0.])"
      ]
     },
     "execution_count": 10,
     "metadata": {},
     "output_type": "execute_result"
    }
   ],
   "source": [
    "vectorZeros = np.zeros(((4)))\n",
    "vectorZeros"
   ]
  },
  {
   "cell_type": "code",
   "execution_count": 8,
   "id": "d5679299-d171-489d-8318-76568951340e",
   "metadata": {},
   "outputs": [
    {
     "name": "stdout",
     "output_type": "stream",
     "text": [
      "[[0. 0. 0. 0.]\n",
      " [0. 0. 0. 0.]\n",
      " [0. 0. 0. 0.]]\n"
     ]
    }
   ],
   "source": [
    "zeros = np.zeros((3,4)) \n",
    "print(zeros)"
   ]
  },
  {
   "cell_type": "code",
   "execution_count": 6,
   "id": "8bb2716c-82e3-4dce-8449-a823b346638d",
   "metadata": {},
   "outputs": [
    {
     "data": {
      "text/plain": [
       "array([[0, 0, 0, 0],\n",
       "       [0, 0, 0, 0],\n",
       "       [0, 0, 0, 0]], dtype=uint8)"
      ]
     },
     "execution_count": 6,
     "metadata": {},
     "output_type": "execute_result"
    }
   ],
   "source": [
    "# Se puede agregar el tipo de dato para que no sea de tipo flotante\n",
    "# uint8 es el que más se acerca, \"u\" no aparecen números negativos, \"int\" para que sean enteros y \"8\"\n",
    "# para que tenga máximo 8 bytes. \n",
    "zeros = np.zeros((3,4),np.uint8)\n",
    "zeros"
   ]
  },
  {
   "cell_type": "code",
   "execution_count": 11,
   "id": "ec385b7c-e13b-46a4-ad1d-6858cd4c3a4e",
   "metadata": {},
   "outputs": [
    {
     "data": {
      "text/plain": [
       "array([[[0, 0, 0, 0, 0],\n",
       "        [0, 0, 0, 0, 0],\n",
       "        [0, 0, 0, 0, 0],\n",
       "        [0, 0, 0, 0, 0]],\n",
       "\n",
       "       [[0, 0, 0, 0, 0],\n",
       "        [0, 0, 0, 0, 0],\n",
       "        [0, 0, 0, 0, 0],\n",
       "        [0, 0, 0, 0, 0]],\n",
       "\n",
       "       [[0, 0, 0, 0, 0],\n",
       "        [0, 0, 0, 0, 0],\n",
       "        [0, 0, 0, 0, 0],\n",
       "        [0, 0, 0, 0, 0]]], dtype=uint8)"
      ]
     },
     "execution_count": 11,
     "metadata": {},
     "output_type": "execute_result"
    }
   ],
   "source": [
    "zeros = np.zeros((3,4,5),np.uint8)\n",
    "zeros"
   ]
  },
  {
   "cell_type": "markdown",
   "id": "62fdf314-7d13-4c0b-9574-19113f0c578b",
   "metadata": {},
   "source": [
    "### Matriz unidad"
   ]
  },
  {
   "cell_type": "code",
   "execution_count": 7,
   "id": "cb2e6d4d-8106-4ca7-a9d6-e8d0a36862a5",
   "metadata": {},
   "outputs": [
    {
     "data": {
      "text/plain": [
       "array([[1., 1., 1., 1., 1.],\n",
       "       [1., 1., 1., 1., 1.],\n",
       "       [1., 1., 1., 1., 1.],\n",
       "       [1., 1., 1., 1., 1.]])"
      ]
     },
     "execution_count": 7,
     "metadata": {},
     "output_type": "execute_result"
    }
   ],
   "source": [
    "ones = np.ones((4,5))\n",
    "ones"
   ]
  },
  {
   "cell_type": "markdown",
   "id": "6f61fe65-1e43-4994-ba0f-01534db63cc1",
   "metadata": {},
   "source": [
    "### Matriz identidad"
   ]
  },
  {
   "cell_type": "code",
   "execution_count": 16,
   "id": "17ff3fd0-948f-452e-a6a3-84bffd88dcb5",
   "metadata": {},
   "outputs": [
    {
     "data": {
      "text/plain": [
       "array([[1., 0., 0., 0., 0., 0., 0., 0., 0., 0., 0., 0.],\n",
       "       [0., 1., 0., 0., 0., 0., 0., 0., 0., 0., 0., 0.],\n",
       "       [0., 0., 1., 0., 0., 0., 0., 0., 0., 0., 0., 0.],\n",
       "       [0., 0., 0., 1., 0., 0., 0., 0., 0., 0., 0., 0.],\n",
       "       [0., 0., 0., 0., 1., 0., 0., 0., 0., 0., 0., 0.],\n",
       "       [0., 0., 0., 0., 0., 1., 0., 0., 0., 0., 0., 0.],\n",
       "       [0., 0., 0., 0., 0., 0., 1., 0., 0., 0., 0., 0.],\n",
       "       [0., 0., 0., 0., 0., 0., 0., 1., 0., 0., 0., 0.],\n",
       "       [0., 0., 0., 0., 0., 0., 0., 0., 1., 0., 0., 0.],\n",
       "       [0., 0., 0., 0., 0., 0., 0., 0., 0., 1., 0., 0.],\n",
       "       [0., 0., 0., 0., 0., 0., 0., 0., 0., 0., 1., 0.],\n",
       "       [0., 0., 0., 0., 0., 0., 0., 0., 0., 0., 0., 1.]])"
      ]
     },
     "execution_count": 16,
     "metadata": {},
     "output_type": "execute_result"
    }
   ],
   "source": [
    "matrizIdentity = np.identity((12))\n",
    "matrizIdentity"
   ]
  },
  {
   "cell_type": "markdown",
   "id": "96d459d5-7639-47d4-a0a3-28a604d6274e",
   "metadata": {},
   "source": [
    "# Reshape"
   ]
  },
  {
   "cell_type": "code",
   "execution_count": 17,
   "id": "ad5e732e-fa12-4e69-992f-a80d66866e4a",
   "metadata": {},
   "outputs": [
    {
     "data": {
      "text/plain": [
       "array([2, 3, 4, 5, 6, 7])"
      ]
     },
     "execution_count": 17,
     "metadata": {},
     "output_type": "execute_result"
    }
   ],
   "source": [
    "ndArray = np.array([2,3,4,5,6,7])\n",
    "ndArray"
   ]
  },
  {
   "cell_type": "code",
   "execution_count": 19,
   "id": "e9c7ba4b-3b66-4a5d-acee-473656aa34a6",
   "metadata": {},
   "outputs": [
    {
     "data": {
      "text/plain": [
       "array([[2],\n",
       "       [3],\n",
       "       [4],\n",
       "       [5],\n",
       "       [6],\n",
       "       [7]])"
      ]
     },
     "execution_count": 19,
     "metadata": {},
     "output_type": "execute_result"
    }
   ],
   "source": [
    "ndArray.reshape(6,1)"
   ]
  },
  {
   "cell_type": "code",
   "execution_count": 21,
   "id": "affe0c3b-78f0-416d-a5c7-00374e2b2542",
   "metadata": {},
   "outputs": [
    {
     "data": {
      "text/plain": [
       "array([[12, 13],\n",
       "       [41, 52],\n",
       "       [26, 17]])"
      ]
     },
     "execution_count": 21,
     "metadata": {},
     "output_type": "execute_result"
    }
   ],
   "source": [
    "# puedo hacerlo asi\n",
    "ndArray = np.array([12,13,41,52,26,17]).reshape(3,2)\n",
    "ndArray"
   ]
  },
  {
   "cell_type": "code",
   "execution_count": 37,
   "id": "edf28920-616c-4db5-9f2d-1ab58464e4dc",
   "metadata": {},
   "outputs": [
    {
     "data": {
      "text/plain": [
       "array([[  0,   1,   2],\n",
       "       [  3,   4,   5],\n",
       "       [  6,   7,   8],\n",
       "       [  9,  10,  11],\n",
       "       [ 12,  13,  14],\n",
       "       [ 15,  16,  17],\n",
       "       [ 18,  19,  20],\n",
       "       [ 21,  22,  23],\n",
       "       [ 24,  25,  26],\n",
       "       [ 27,  28,  29],\n",
       "       [ 30,  31,  32],\n",
       "       [ 33,  34,  35],\n",
       "       [ 36,  37,  38],\n",
       "       [ 39,  40,  41],\n",
       "       [ 42,  43,  44],\n",
       "       [ 45,  46,  47],\n",
       "       [ 48,  49,  50],\n",
       "       [ 51,  52,  53],\n",
       "       [ 54,  55,  56],\n",
       "       [ 57,  58,  59],\n",
       "       [ 60,  61,  62],\n",
       "       [ 63,  64,  65],\n",
       "       [ 66,  67,  68],\n",
       "       [ 69,  70,  71],\n",
       "       [ 72,  73,  74],\n",
       "       [ 75,  76,  77],\n",
       "       [ 78,  79,  80],\n",
       "       [ 81,  82,  83],\n",
       "       [ 84,  85,  86],\n",
       "       [ 87,  88,  89],\n",
       "       [ 90,  91,  92],\n",
       "       [ 93,  94,  95],\n",
       "       [ 96,  97,  98],\n",
       "       [ 99, 100, 101],\n",
       "       [102, 103, 104],\n",
       "       [105, 106, 107],\n",
       "       [108, 109, 110],\n",
       "       [111, 112, 113],\n",
       "       [114, 115, 116],\n",
       "       [117, 118, 119],\n",
       "       [120, 121, 122],\n",
       "       [123, 124, 125],\n",
       "       [126, 127, 128],\n",
       "       [129, 130, 131],\n",
       "       [132, 133, 134],\n",
       "       [135, 136, 137],\n",
       "       [138, 139, 140],\n",
       "       [141, 142, 143],\n",
       "       [144, 145, 146],\n",
       "       [147, 148, 149],\n",
       "       [150, 151, 152],\n",
       "       [153, 154, 155],\n",
       "       [156, 157, 158],\n",
       "       [159, 160, 161],\n",
       "       [162, 163, 164],\n",
       "       [165, 166, 167],\n",
       "       [168, 169, 170],\n",
       "       [171, 172, 173],\n",
       "       [174, 175, 176],\n",
       "       [177, 178, 179],\n",
       "       [180, 181, 182],\n",
       "       [183, 184, 185],\n",
       "       [186, 187, 188],\n",
       "       [189, 190, 191],\n",
       "       [192, 193, 194],\n",
       "       [195, 196, 197],\n",
       "       [198, 199, 200],\n",
       "       [201, 202, 203],\n",
       "       [204, 205, 206],\n",
       "       [207, 208, 209],\n",
       "       [210, 211, 212],\n",
       "       [213, 214, 215],\n",
       "       [216, 217, 218],\n",
       "       [219, 220, 221],\n",
       "       [222, 223, 224]])"
      ]
     },
     "execution_count": 37,
     "metadata": {},
     "output_type": "execute_result"
    }
   ],
   "source": [
    "reshape = np.arange(225).reshape(75,-1)\n",
    "reshape"
   ]
  },
  {
   "cell_type": "markdown",
   "id": "a06bfe4c-7d3a-4a0b-999f-1b5513b213e4",
   "metadata": {},
   "source": [
    "# Linspace"
   ]
  },
  {
   "cell_type": "code",
   "execution_count": 56,
   "id": "bd74e82d-6dfa-4bf8-a846-7fc7ec5a539b",
   "metadata": {},
   "outputs": [
    {
     "data": {
      "text/plain": [
       "array([0.        , 0.20833333, 0.41666667, 0.625     , 0.83333333,\n",
       "       1.04166667, 1.25      , 1.45833333, 1.66666667, 1.875     ,\n",
       "       2.08333333, 2.29166667, 2.5       , 2.70833333, 2.91666667,\n",
       "       3.125     , 3.33333333, 3.54166667, 3.75      , 3.95833333,\n",
       "       4.16666667, 4.375     , 4.58333333, 4.79166667, 5.        ])"
      ]
     },
     "execution_count": 56,
     "metadata": {},
     "output_type": "execute_result"
    }
   ],
   "source": [
    "np.linspace(0,5,25) # primer valor del argumento: valor inicial, segundo: valor final, tercero: cantidad de valores"
   ]
  },
  {
   "cell_type": "markdown",
   "id": "d643000c-51b8-4e59-b38c-15512651b128",
   "metadata": {},
   "source": [
    "# Random"
   ]
  },
  {
   "cell_type": "code",
   "execution_count": 57,
   "id": "6b2402c7-e5b0-4782-ae1c-3e4d0f77d020",
   "metadata": {},
   "outputs": [
    {
     "data": {
      "text/plain": [
       "array([[0.07908051, 0.13746834, 0.802189  , 0.10802945, 0.57695974],\n",
       "       [0.25723107, 0.55709177, 0.56329486, 0.44578319, 0.24928914],\n",
       "       [0.80299719, 0.01734869, 0.55171432, 0.11431642, 0.71712481]])"
      ]
     },
     "execution_count": 57,
     "metadata": {},
     "output_type": "execute_result"
    }
   ],
   "source": [
    "np.random.random((3,5))"
   ]
  },
  {
   "cell_type": "markdown",
   "id": "afee9ac5-2fe4-4854-8352-a80852ae0957",
   "metadata": {},
   "source": [
    "# Producto cruz "
   ]
  },
  {
   "cell_type": "code",
   "execution_count": 59,
   "id": "9b8749f7-d4f3-46de-bee7-3b47bda37389",
   "metadata": {},
   "outputs": [
    {
     "data": {
      "text/plain": [
       "(array([[4, 5, 6],\n",
       "        [1, 2, 1]]),\n",
       " array([[1, 1],\n",
       "        [1, 2],\n",
       "        [5, 9]]))"
      ]
     },
     "execution_count": 59,
     "metadata": {},
     "output_type": "execute_result"
    }
   ],
   "source": [
    "arrayA = np.array([\n",
    "    [4,5,6],\n",
    "    [1,2,1]\n",
    "])\n",
    "\n",
    "arrayB = np.array([\n",
    "    [1,1],\n",
    "    [1,2],\n",
    "    [5,9]\n",
    "])\n",
    "arrayA, arrayB"
   ]
  },
  {
   "cell_type": "code",
   "execution_count": 61,
   "id": "39646c68-f3d0-4bb5-b1fe-62f1561bb4aa",
   "metadata": {},
   "outputs": [
    {
     "data": {
      "text/plain": [
       "array([[39, 68],\n",
       "       [ 8, 14]])"
      ]
     },
     "execution_count": 61,
     "metadata": {},
     "output_type": "execute_result"
    }
   ],
   "source": [
    "arrayA.dot(arrayB)"
   ]
  },
  {
   "cell_type": "markdown",
   "id": "8d44e76e-5447-4679-9f1c-189c7140ee3e",
   "metadata": {},
   "source": [
    "# Funciones Universales"
   ]
  },
  {
   "cell_type": "code",
   "execution_count": 66,
   "id": "5b05d0ce-c890-4394-a42c-4cd7b964e134",
   "metadata": {},
   "outputs": [
    {
     "data": {
      "text/plain": [
       "array([  0,  39,  45,  60,  90, 180, 270, 360])"
      ]
     },
     "execution_count": 66,
     "metadata": {},
     "output_type": "execute_result"
    }
   ],
   "source": [
    "arrayTrigonometria = np.array([0,39,45,60,90,180,270,360])\n",
    "arrayTrigonometria"
   ]
  },
  {
   "cell_type": "code",
   "execution_count": 79,
   "id": "b1094d5d-f0a0-4206-abc8-a47b37ac3e48",
   "metadata": {},
   "outputs": [
    {
     "data": {
      "text/plain": [
       "array([ 0.        ,  3.61455441,  1.61977519,  0.32004039, -1.99520041,\n",
       "        1.33869021, -0.17883906, -3.38014041])"
      ]
     },
     "execution_count": 79,
     "metadata": {},
     "output_type": "execute_result"
    }
   ],
   "source": [
    "np.sin(arrayTrigonometria)\n",
    "np.cos(arrayTrigonometria)\n",
    "np.tan(arrayTrigonometria)"
   ]
  },
  {
   "cell_type": "code",
   "execution_count": 77,
   "id": "0907808e-06d5-4957-b9f0-98fcf48adafd",
   "metadata": {},
   "outputs": [
    {
     "data": {
      "text/plain": [
       "2.8722813232690143"
      ]
     },
     "execution_count": 77,
     "metadata": {},
     "output_type": "execute_result"
    }
   ],
   "source": [
    "array_mock = np.array([1,2,3,4,5,6,7,8,9,10])\n",
    "array_mock.sum()\n",
    "array_mock.min()\n",
    "array_mock.max()\n",
    "array_mock.mean()\n",
    "array_mock.min()\n",
    "array_mock.max()\n",
    "array_mock.std()"
   ]
  },
  {
   "cell_type": "code",
   "execution_count": null,
   "id": "51c91e10-9ddc-41ab-a3c0-a624a762c491",
   "metadata": {},
   "outputs": [],
   "source": []
  }
 ],
 "metadata": {
  "kernelspec": {
   "display_name": "Python 3 (ipykernel)",
   "language": "python",
   "name": "python3"
  },
  "language_info": {
   "codemirror_mode": {
    "name": "ipython",
    "version": 3
   },
   "file_extension": ".py",
   "mimetype": "text/x-python",
   "name": "python",
   "nbconvert_exporter": "python",
   "pygments_lexer": "ipython3",
   "version": "3.9.12"
  }
 },
 "nbformat": 4,
 "nbformat_minor": 5
}
