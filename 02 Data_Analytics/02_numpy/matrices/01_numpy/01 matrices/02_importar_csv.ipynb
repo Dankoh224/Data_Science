{
 "cells": [
  {
   "cell_type": "markdown",
   "id": "948d86bf-a8bf-475d-9eba-b6a7f2c0bae6",
   "metadata": {},
   "source": [
    "# Importar archivos CSV"
   ]
  },
  {
   "cell_type": "code",
   "execution_count": 1,
   "id": "0bf47370-54d1-4c93-b046-7f41971ad6d5",
   "metadata": {},
   "outputs": [],
   "source": [
    "import numpy as np"
   ]
  },
  {
   "cell_type": "markdown",
   "id": "c271cb39-a486-4f75-b8ec-eb5b4bc5b61e",
   "metadata": {},
   "source": [
    "### Rutadel archivo, delimiter = ',' como separador, names = True para una fila que funciona como columnas"
   ]
  },
  {
   "cell_type": "code",
   "execution_count": 4,
   "id": "60448c7f-879f-45a0-869a-c93ca0547ef5",
   "metadata": {},
   "outputs": [
    {
     "data": {
      "text/plain": [
       "array([(1., 34., 0.), (2., 53., 0.), (3., 23., 1.), (4., 64., 1.)],\n",
       "      dtype=[('id', '<f8'), ('age', '<f8'), ('isVaccinated', '<f8')])"
      ]
     },
     "execution_count": 4,
     "metadata": {},
     "output_type": "execute_result"
    }
   ],
   "source": [
    "data = np.genfromtxt('nuevo.csv',delimiter = ',',names = True)\n",
    "data"
   ]
  },
  {
   "cell_type": "code",
   "execution_count": 5,
   "id": "0b89c07a-7e7b-47a9-994a-d2f7873ed68f",
   "metadata": {},
   "outputs": [
    {
     "data": {
      "text/plain": [
       "array([34., 53., 23., 64.])"
      ]
     },
     "execution_count": 5,
     "metadata": {},
     "output_type": "execute_result"
    }
   ],
   "source": [
    "## LLamar columnas \n",
    "data['age']"
   ]
  },
  {
   "cell_type": "markdown",
   "id": "ab95ab75-8409-4043-a9e1-0b9dbaa04d09",
   "metadata": {},
   "source": [
    "## Ejercicios: hallar la edad promedio, hallar cuantos vacunados hay"
   ]
  },
  {
   "cell_type": "code",
   "execution_count": 14,
   "id": "095ccd12-cfc3-4b00-bba2-70b18c9f62ca",
   "metadata": {},
   "outputs": [
    {
     "name": "stdout",
     "output_type": "stream",
     "text": [
      "la edad promedio de las personas del estudio es de 43.5 años, y hay 2.0 vacunados.\n"
     ]
    }
   ],
   "source": [
    "print(\"la edad promedio de las personas del estudio es de\",data['age'].mean(),\"años, y hay\",data['isVaccinated'].sum(),'vacunados.')"
   ]
  },
  {
   "cell_type": "markdown",
   "id": "81f7ac02-10f8-496e-94e7-8e5b7963bf42",
   "metadata": {},
   "source": [
    "# Ejercicio"
   ]
  },
  {
   "cell_type": "code",
   "execution_count": 18,
   "id": "87428aca-35be-4c20-abe1-b408e832dbe3",
   "metadata": {},
   "outputs": [
    {
     "ename": "UnicodeDecodeError",
     "evalue": "'charmap' codec can't decode byte 0x81 in position 1101: character maps to <undefined>",
     "output_type": "error",
     "traceback": [
      "\u001b[1;31m---------------------------------------------------------------------------\u001b[0m",
      "\u001b[1;31mUnicodeDecodeError\u001b[0m                        Traceback (most recent call last)",
      "Input \u001b[1;32mIn [18]\u001b[0m, in \u001b[0;36m<cell line: 1>\u001b[1;34m()\u001b[0m\n\u001b[1;32m----> 1\u001b[0m data_educ \u001b[38;5;241m=\u001b[39m \u001b[43mnp\u001b[49m\u001b[38;5;241;43m.\u001b[39;49m\u001b[43mgenfromtxt\u001b[49m\u001b[43m(\u001b[49m\u001b[38;5;124;43m'\u001b[39;49m\u001b[38;5;124;43mEVALUACION_DOCENTE_2020_2021.csv\u001b[39;49m\u001b[38;5;124;43m'\u001b[39;49m\u001b[43m,\u001b[49m\u001b[43mdelimiter\u001b[49m\u001b[43m \u001b[49m\u001b[38;5;241;43m=\u001b[39;49m\u001b[43m \u001b[49m\u001b[38;5;124;43m'\u001b[39;49m\u001b[38;5;124;43m;\u001b[39;49m\u001b[38;5;124;43m'\u001b[39;49m\u001b[43m,\u001b[49m\u001b[43m \u001b[49m\u001b[43mnames\u001b[49m\u001b[43m \u001b[49m\u001b[38;5;241;43m=\u001b[39;49m\u001b[43m \u001b[49m\u001b[38;5;28;43;01mTrue\u001b[39;49;00m\u001b[43m)\u001b[49m\n\u001b[0;32m      2\u001b[0m data_educ\n",
      "File \u001b[1;32m~\\anaconda3\\lib\\site-packages\\numpy\\lib\\npyio.py:2059\u001b[0m, in \u001b[0;36mgenfromtxt\u001b[1;34m(fname, dtype, comments, delimiter, skip_header, skip_footer, converters, missing_values, filling_values, usecols, names, excludelist, deletechars, replace_space, autostrip, case_sensitive, defaultfmt, unpack, usemask, loose, invalid_raise, max_rows, encoding, like)\u001b[0m\n\u001b[0;32m   2056\u001b[0m append_to_invalid \u001b[38;5;241m=\u001b[39m invalid\u001b[38;5;241m.\u001b[39mappend\n\u001b[0;32m   2058\u001b[0m \u001b[38;5;66;03m# Parse each line\u001b[39;00m\n\u001b[1;32m-> 2059\u001b[0m \u001b[38;5;28;01mfor\u001b[39;00m (i, line) \u001b[38;5;129;01min\u001b[39;00m \u001b[38;5;28menumerate\u001b[39m(itertools\u001b[38;5;241m.\u001b[39mchain([first_line, ], fhd)):\n\u001b[0;32m   2060\u001b[0m     values \u001b[38;5;241m=\u001b[39m split_line(line)\n\u001b[0;32m   2061\u001b[0m     nbvalues \u001b[38;5;241m=\u001b[39m \u001b[38;5;28mlen\u001b[39m(values)\n",
      "File \u001b[1;32m~\\anaconda3\\lib\\encodings\\cp1252.py:23\u001b[0m, in \u001b[0;36mIncrementalDecoder.decode\u001b[1;34m(self, input, final)\u001b[0m\n\u001b[0;32m     22\u001b[0m \u001b[38;5;28;01mdef\u001b[39;00m \u001b[38;5;21mdecode\u001b[39m(\u001b[38;5;28mself\u001b[39m, \u001b[38;5;28minput\u001b[39m, final\u001b[38;5;241m=\u001b[39m\u001b[38;5;28;01mFalse\u001b[39;00m):\n\u001b[1;32m---> 23\u001b[0m     \u001b[38;5;28;01mreturn\u001b[39;00m \u001b[43mcodecs\u001b[49m\u001b[38;5;241;43m.\u001b[39;49m\u001b[43mcharmap_decode\u001b[49m\u001b[43m(\u001b[49m\u001b[38;5;28;43minput\u001b[39;49m\u001b[43m,\u001b[49m\u001b[38;5;28;43mself\u001b[39;49m\u001b[38;5;241;43m.\u001b[39;49m\u001b[43merrors\u001b[49m\u001b[43m,\u001b[49m\u001b[43mdecoding_table\u001b[49m\u001b[43m)\u001b[49m[\u001b[38;5;241m0\u001b[39m]\n",
      "\u001b[1;31mUnicodeDecodeError\u001b[0m: 'charmap' codec can't decode byte 0x81 in position 1101: character maps to <undefined>"
     ]
    }
   ],
   "source": [
    "data_educ = np.genfromtxt('EVALUACION_DOCENTE_2020_2021.csv',delimiter = ';', names = True)\n",
    "data_educ"
   ]
  },
  {
   "cell_type": "code",
   "execution_count": null,
   "id": "4f60812a-6edd-4a8b-a65d-24ba6b3b6afc",
   "metadata": {},
   "outputs": [],
   "source": []
  }
 ],
 "metadata": {
  "kernelspec": {
   "display_name": "Python 3 (ipykernel)",
   "language": "python",
   "name": "python3"
  },
  "language_info": {
   "codemirror_mode": {
    "name": "ipython",
    "version": 3
   },
   "file_extension": ".py",
   "mimetype": "text/x-python",
   "name": "python",
   "nbconvert_exporter": "python",
   "pygments_lexer": "ipython3",
   "version": "3.9.12"
  }
 },
 "nbformat": 4,
 "nbformat_minor": 5
}
